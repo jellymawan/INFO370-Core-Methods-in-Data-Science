{
 "cells": [
  {
   "cell_type": "markdown",
   "id": "2e4df44d-c01d-413b-a1c0-a9d0509491be",
   "metadata": {},
   "source": [
    "# 1 Lists\n",
    "1. Create a list 'movies' that contains the names of at least six movies you like"
   ]
  },
  {
   "cell_type": "code",
   "execution_count": 22,
   "id": "bc66db9b-bd0c-40ab-b783-e4173cc99787",
   "metadata": {},
   "outputs": [],
   "source": [
    "movies = ['Spiderman: No Way Home', 'Spririted Away', 'Train to Busan', 'Avenger: Infinity War', 'Avengers: Endgame', 'Your Name']"
   ]
  },
  {
   "cell_type": "markdown",
   "id": "c96f632f-c1ac-4cd6-8c44-deb711aa487d",
   "metadata": {},
   "source": [
    "2. Use slicing, and create a list of three first movies in the list"
   ]
  },
  {
   "cell_type": "code",
   "execution_count": 23,
   "id": "99007f88-2553-4777-b4ad-0541297f630e",
   "metadata": {},
   "outputs": [
    {
     "data": {
      "text/plain": [
       "['Spiderman: No Way Home', 'Spririted Away', 'Train to Busan']"
      ]
     },
     "execution_count": 23,
     "metadata": {},
     "output_type": "execute_result"
    }
   ],
   "source": [
    "movies_3 = movies[:3]\n",
    "movies_3"
   ]
  },
  {
   "cell_type": "markdown",
   "id": "d2b65e54-5d19-4a29-8d12-1c50de98a50f",
   "metadata": {},
   "source": [
    "3. Use slicing and list concatenation to create a list of the first two and the last two movies"
   ]
  },
  {
   "cell_type": "code",
   "execution_count": 24,
   "id": "cf2284e7-23fb-4ef8-9566-7d90a5871c21",
   "metadata": {},
   "outputs": [
    {
     "data": {
      "text/plain": [
       "['Spiderman: No Way Home', 'Spririted Away', 'Avengers: Endgame', 'Your Name']"
      ]
     },
     "execution_count": 24,
     "metadata": {},
     "output_type": "execute_result"
    }
   ],
   "source": [
    "first_2 = movies[:2]\n",
    "last_2 = movies[4:]\n",
    "first_and_last = first_2 + last_2\n",
    "first_and_last"
   ]
  },
  {
   "cell_type": "markdown",
   "id": "f56dd8dd-7027-4a61-b1aa-3af4f53e7647",
   "metadata": {},
   "source": [
    "# 2 Loops\n",
    "1. Create a list 'numbers' that is the numbers 70 through 79 in the following manner: create an empty list and add numbers to it in a loop (do not use list comprehension or 'list' function here!\n"
   ]
  },
  {
   "cell_type": "code",
   "execution_count": 25,
   "id": "e64d192d-5784-46fa-8631-102f9b7f0844",
   "metadata": {},
   "outputs": [
    {
     "data": {
      "text/plain": [
       "[70, 71, 72, 73, 74, 75, 76, 77, 78, 79]"
      ]
     },
     "execution_count": 25,
     "metadata": {},
     "output_type": "execute_result"
    }
   ],
   "source": [
    "numbers = []\n",
    "for i in range(70, 80):\n",
    "    numbers.append(i)\n",
    "numbers"
   ]
  },
  {
   "cell_type": "markdown",
   "id": "670a4c02-8089-40b4-95f0-a28828363576",
   "metadata": {},
   "source": [
    "2. Use loop to compute sum of all integers from 1 till 100"
   ]
  },
  {
   "cell_type": "code",
   "execution_count": 26,
   "id": "67884c94-723f-48ae-9258-084602af4661",
   "metadata": {},
   "outputs": [
    {
     "data": {
      "text/plain": [
       "5050"
      ]
     },
     "execution_count": 26,
     "metadata": {},
     "output_type": "execute_result"
    }
   ],
   "source": [
    "sum = 0;\n",
    "for i in range(1, 101):\n",
    "    sum += i\n",
    "sum"
   ]
  },
  {
   "cell_type": "markdown",
   "id": "ff5c710f-c094-429a-a302-bbd1a575a839",
   "metadata": {},
   "source": [
    "3. Assign people to seats. Consider names Adam, Ashin, Inukai, Tanaka, and Ikki; and seats 33, 12, 45, 2, and 17. Print seat assignments by assigning each name to the corresponding seat. "
   ]
  },
  {
   "cell_type": "code",
   "execution_count": 27,
   "id": "46030a08-29a4-4ab6-902c-ee8e860d6aab",
   "metadata": {},
   "outputs": [
    {
     "name": "stdout",
     "output_type": "stream",
     "text": [
      "Adam : 33\n",
      "Ashin : 12\n",
      "Inukai : 45\n",
      "Tanaka : 2\n",
      "Ikki : 17\n"
     ]
    }
   ],
   "source": [
    "people = ['Adam', 'Ashin', 'Inukai', 'Tanaka', 'Ikki']\n",
    "seats = [33, 12, 45, 2, 17]\n",
    "for i in range(len(people)):\n",
    "    print(people[i],':', seats[i])"
   ]
  },
  {
   "cell_type": "markdown",
   "id": "8f6b7d8e-2d8b-476e-82c7-ad2afd45e4e2",
   "metadata": {},
   "source": [
    "# 3 Comprehensions\n",
    "1. Use list comprehension to create a list of squares of numbers"
   ]
  },
  {
   "cell_type": "code",
   "execution_count": 28,
   "id": "27822fce-da3b-47b1-b5cb-1ba86cc692d2",
   "metadata": {},
   "outputs": [
    {
     "data": {
      "text/plain": [
       "[1, 4, 9, 16, 25, 36, 49, 64, 81, 100]"
      ]
     },
     "execution_count": 28,
     "metadata": {},
     "output_type": "execute_result"
    }
   ],
   "source": [
    "[x*x for x in range(1, 11)]"
   ]
  },
  {
   "cell_type": "markdown",
   "id": "5a14b665-deb8-457d-8e31-d6b3cc60da2b",
   "metadata": {},
   "source": [
    "2. Use dict comprehension to create a dict of numbers and their squares"
   ]
  },
  {
   "cell_type": "code",
   "execution_count": 29,
   "id": "0a13a95e-42a4-4adf-93c2-91582708ff3d",
   "metadata": {},
   "outputs": [
    {
     "data": {
      "text/plain": [
       "{1: 1, 2: 4, 3: 9, 4: 16, 5: 25, 6: 36, 7: 49, 8: 64, 9: 81, 10: 100}"
      ]
     },
     "execution_count": 29,
     "metadata": {},
     "output_type": "execute_result"
    }
   ],
   "source": [
    "{x: x*x for x in range(1,11)}"
   ]
  },
  {
   "cell_type": "markdown",
   "id": "47a83f3d-5b2c-452f-98f6-e859ff11bfcd",
   "metadata": {},
   "source": [
    "# 4 Functions and data transformations\n",
    "1. Write a function that takes in time in numeric form of HHMM, and returns it in the numeric form of HH.HH.The fuction should return the result as a number"
   ]
  },
  {
   "cell_type": "code",
   "execution_count": 30,
   "id": "9a4487c4-8c84-478a-860f-1a61e351d62f",
   "metadata": {},
   "outputs": [],
   "source": [
    "def convert(x):\n",
    "    min = x % 100\n",
    "    min_frac = min / 60\n",
    "    hours = x // 100\n",
    "    return hours + min_frac"
   ]
  },
  {
   "cell_type": "markdown",
   "id": "2cfa9007-ce29-41c1-a15b-29090f4e64c8",
   "metadata": {},
   "source": [
    "# 5 Load Data\n",
    "1. Load the csv data file"
   ]
  },
  {
   "cell_type": "code",
   "execution_count": 31,
   "id": "787997d1-0914-413b-8277-ef6ff2c5d2ed",
   "metadata": {},
   "outputs": [],
   "source": [
    "import pandas as pd\n",
    "df = pd.read_csv(\"../data/gapminder.csv.bz2\", sep=\"\\t\")"
   ]
  },
  {
   "cell_type": "markdown",
   "id": "96f6dc02-4e89-4a42-8035-48419686152d",
   "metadata": {},
   "source": [
    "2. Do basic sanity checks:\n",
    "\n",
    "a. How many variables (columns) is there in the data? Ensure you know the variables in the data. Keep the documentation nearby"
   ]
  },
  {
   "cell_type": "code",
   "execution_count": 32,
   "id": "71371da8-1726-4845-9a83-e2ca015df02b",
   "metadata": {},
   "outputs": [
    {
     "data": {
      "text/plain": [
       "25"
      ]
     },
     "execution_count": 32,
     "metadata": {},
     "output_type": "execute_result"
    }
   ],
   "source": [
    "df.shape[1]"
   ]
  },
  {
   "cell_type": "markdown",
   "id": "80e5ca3e-df99-4084-a1e3-4df2d74479c5",
   "metadata": {},
   "source": [
    "There is a total of 25 columns, including the column that contains all of the indexes."
   ]
  },
  {
   "cell_type": "markdown",
   "id": "5b6afedf-6983-4446-8941-b5061422c8b4",
   "metadata": {},
   "source": [
    "b. How many rows of data is there?"
   ]
  },
  {
   "cell_type": "code",
   "execution_count": 33,
   "id": "7bbe33c4-130a-411c-a832-904b584c35e8",
   "metadata": {},
   "outputs": [
    {
     "data": {
      "text/plain": [
       "13055"
      ]
     },
     "execution_count": 33,
     "metadata": {},
     "output_type": "execute_result"
    }
   ],
   "source": [
    "df.shape[0]"
   ]
  },
  {
   "cell_type": "markdown",
   "id": "4019fabe-96fb-44a6-a1ab-86c0aaf02283",
   "metadata": {},
   "source": [
    "There is a total of 13,055 rows in the dataset."
   ]
  },
  {
   "cell_type": "markdown",
   "id": "a577fc8a-eee0-4285-8f97-0a62ac9a3411",
   "metadata": {},
   "source": [
    "c. print the first few lines of data. Does it look resonable?"
   ]
  },
  {
   "cell_type": "code",
   "execution_count": 34,
   "id": "79f358af-0d4b-429c-8287-479ca83c6833",
   "metadata": {},
   "outputs": [
    {
     "data": {
      "text/html": [
       "<div>\n",
       "<style scoped>\n",
       "    .dataframe tbody tr th:only-of-type {\n",
       "        vertical-align: middle;\n",
       "    }\n",
       "\n",
       "    .dataframe tbody tr th {\n",
       "        vertical-align: top;\n",
       "    }\n",
       "\n",
       "    .dataframe thead th {\n",
       "        text-align: right;\n",
       "    }\n",
       "</style>\n",
       "<table border=\"1\" class=\"dataframe\">\n",
       "  <thead>\n",
       "    <tr style=\"text-align: right;\">\n",
       "      <th></th>\n",
       "      <th>iso3</th>\n",
       "      <th>name</th>\n",
       "      <th>iso2</th>\n",
       "      <th>region</th>\n",
       "      <th>sub-region</th>\n",
       "      <th>intermediate-region</th>\n",
       "      <th>time</th>\n",
       "      <th>totalPopulation</th>\n",
       "      <th>fertilityRate</th>\n",
       "      <th>lifeExpectancy</th>\n",
       "      <th>...</th>\n",
       "      <th>accessElectricity</th>\n",
       "      <th>agriculturalLand</th>\n",
       "      <th>agricultureTractors</th>\n",
       "      <th>cerealProduction</th>\n",
       "      <th>fertilizerHa</th>\n",
       "      <th>co2</th>\n",
       "      <th>greenhouseGases</th>\n",
       "      <th>co2_PC</th>\n",
       "      <th>pm2.5_35</th>\n",
       "      <th>battleDeaths</th>\n",
       "    </tr>\n",
       "  </thead>\n",
       "  <tbody>\n",
       "    <tr>\n",
       "      <th>0</th>\n",
       "      <td>ABW</td>\n",
       "      <td>Aruba</td>\n",
       "      <td>AW</td>\n",
       "      <td>Americas</td>\n",
       "      <td>Latin America and the Caribbean</td>\n",
       "      <td>Caribbean</td>\n",
       "      <td>1960.0</td>\n",
       "      <td>54211.0</td>\n",
       "      <td>4.820</td>\n",
       "      <td>65.662</td>\n",
       "      <td>...</td>\n",
       "      <td>NaN</td>\n",
       "      <td>NaN</td>\n",
       "      <td>NaN</td>\n",
       "      <td>NaN</td>\n",
       "      <td>NaN</td>\n",
       "      <td>11092.675</td>\n",
       "      <td>NaN</td>\n",
       "      <td>204.62037</td>\n",
       "      <td>NaN</td>\n",
       "      <td>NaN</td>\n",
       "    </tr>\n",
       "    <tr>\n",
       "      <th>1</th>\n",
       "      <td>ABW</td>\n",
       "      <td>Aruba</td>\n",
       "      <td>AW</td>\n",
       "      <td>Americas</td>\n",
       "      <td>Latin America and the Caribbean</td>\n",
       "      <td>Caribbean</td>\n",
       "      <td>1961.0</td>\n",
       "      <td>55438.0</td>\n",
       "      <td>4.655</td>\n",
       "      <td>66.074</td>\n",
       "      <td>...</td>\n",
       "      <td>NaN</td>\n",
       "      <td>20.0</td>\n",
       "      <td>NaN</td>\n",
       "      <td>NaN</td>\n",
       "      <td>NaN</td>\n",
       "      <td>11576.719</td>\n",
       "      <td>NaN</td>\n",
       "      <td>208.82281</td>\n",
       "      <td>NaN</td>\n",
       "      <td>NaN</td>\n",
       "    </tr>\n",
       "    <tr>\n",
       "      <th>2</th>\n",
       "      <td>ABW</td>\n",
       "      <td>Aruba</td>\n",
       "      <td>AW</td>\n",
       "      <td>Americas</td>\n",
       "      <td>Latin America and the Caribbean</td>\n",
       "      <td>Caribbean</td>\n",
       "      <td>1962.0</td>\n",
       "      <td>56225.0</td>\n",
       "      <td>4.471</td>\n",
       "      <td>66.444</td>\n",
       "      <td>...</td>\n",
       "      <td>NaN</td>\n",
       "      <td>20.0</td>\n",
       "      <td>NaN</td>\n",
       "      <td>NaN</td>\n",
       "      <td>NaN</td>\n",
       "      <td>12713.489</td>\n",
       "      <td>NaN</td>\n",
       "      <td>226.11808</td>\n",
       "      <td>NaN</td>\n",
       "      <td>NaN</td>\n",
       "    </tr>\n",
       "    <tr>\n",
       "      <th>3</th>\n",
       "      <td>ABW</td>\n",
       "      <td>Aruba</td>\n",
       "      <td>AW</td>\n",
       "      <td>Americas</td>\n",
       "      <td>Latin America and the Caribbean</td>\n",
       "      <td>Caribbean</td>\n",
       "      <td>1963.0</td>\n",
       "      <td>56695.0</td>\n",
       "      <td>4.271</td>\n",
       "      <td>66.787</td>\n",
       "      <td>...</td>\n",
       "      <td>NaN</td>\n",
       "      <td>20.0</td>\n",
       "      <td>NaN</td>\n",
       "      <td>NaN</td>\n",
       "      <td>NaN</td>\n",
       "      <td>12178.107</td>\n",
       "      <td>NaN</td>\n",
       "      <td>214.80037</td>\n",
       "      <td>NaN</td>\n",
       "      <td>NaN</td>\n",
       "    </tr>\n",
       "    <tr>\n",
       "      <th>4</th>\n",
       "      <td>ABW</td>\n",
       "      <td>Aruba</td>\n",
       "      <td>AW</td>\n",
       "      <td>Americas</td>\n",
       "      <td>Latin America and the Caribbean</td>\n",
       "      <td>Caribbean</td>\n",
       "      <td>1964.0</td>\n",
       "      <td>57032.0</td>\n",
       "      <td>4.059</td>\n",
       "      <td>67.113</td>\n",
       "      <td>...</td>\n",
       "      <td>NaN</td>\n",
       "      <td>20.0</td>\n",
       "      <td>NaN</td>\n",
       "      <td>NaN</td>\n",
       "      <td>NaN</td>\n",
       "      <td>11840.743</td>\n",
       "      <td>NaN</td>\n",
       "      <td>207.61578</td>\n",
       "      <td>NaN</td>\n",
       "      <td>NaN</td>\n",
       "    </tr>\n",
       "  </tbody>\n",
       "</table>\n",
       "<p>5 rows × 25 columns</p>\n",
       "</div>"
      ],
      "text/plain": [
       "  iso3   name iso2    region                       sub-region  \\\n",
       "0  ABW  Aruba   AW  Americas  Latin America and the Caribbean   \n",
       "1  ABW  Aruba   AW  Americas  Latin America and the Caribbean   \n",
       "2  ABW  Aruba   AW  Americas  Latin America and the Caribbean   \n",
       "3  ABW  Aruba   AW  Americas  Latin America and the Caribbean   \n",
       "4  ABW  Aruba   AW  Americas  Latin America and the Caribbean   \n",
       "\n",
       "  intermediate-region    time  totalPopulation  fertilityRate  lifeExpectancy  \\\n",
       "0           Caribbean  1960.0          54211.0          4.820          65.662   \n",
       "1           Caribbean  1961.0          55438.0          4.655          66.074   \n",
       "2           Caribbean  1962.0          56225.0          4.471          66.444   \n",
       "3           Caribbean  1963.0          56695.0          4.271          66.787   \n",
       "4           Caribbean  1964.0          57032.0          4.059          67.113   \n",
       "\n",
       "   ...  accessElectricity  agriculturalLand  agricultureTractors  \\\n",
       "0  ...                NaN               NaN                  NaN   \n",
       "1  ...                NaN              20.0                  NaN   \n",
       "2  ...                NaN              20.0                  NaN   \n",
       "3  ...                NaN              20.0                  NaN   \n",
       "4  ...                NaN              20.0                  NaN   \n",
       "\n",
       "   cerealProduction  fertilizerHa        co2  greenhouseGases     co2_PC  \\\n",
       "0               NaN           NaN  11092.675              NaN  204.62037   \n",
       "1               NaN           NaN  11576.719              NaN  208.82281   \n",
       "2               NaN           NaN  12713.489              NaN  226.11808   \n",
       "3               NaN           NaN  12178.107              NaN  214.80037   \n",
       "4               NaN           NaN  11840.743              NaN  207.61578   \n",
       "\n",
       "   pm2.5_35  battleDeaths  \n",
       "0       NaN           NaN  \n",
       "1       NaN           NaN  \n",
       "2       NaN           NaN  \n",
       "3       NaN           NaN  \n",
       "4       NaN           NaN  \n",
       "\n",
       "[5 rows x 25 columns]"
      ]
     },
     "execution_count": 34,
     "metadata": {},
     "output_type": "execute_result"
    }
   ],
   "source": [
    "df.head()"
   ]
  },
  {
   "cell_type": "markdown",
   "id": "c7ee1ec1-0eab-4fbc-ad09-9f8baf433f4c",
   "metadata": {},
   "source": [
    "Yes, it looks reasonable"
   ]
  },
  {
   "cell_type": "markdown",
   "id": "f2cb5dd5-fcc5-4789-88cf-46e9934c47fd",
   "metadata": {},
   "source": [
    "# 6 Wealth\n",
    "1. How many different countries are there in the data?"
   ]
  },
  {
   "cell_type": "code",
   "execution_count": 35,
   "id": "a7c9bbf7-58f1-490c-94e9-38293a0f6a0c",
   "metadata": {},
   "outputs": [
    {
     "data": {
      "text/plain": [
       "249"
      ]
     },
     "execution_count": 35,
     "metadata": {},
     "output_type": "execute_result"
    }
   ],
   "source": [
    "countries = df.name.nunique()\n",
    "countries"
   ]
  },
  {
   "cell_type": "markdown",
   "id": "c2db7723-e59c-473c-addc-78885c4c2a7f",
   "metadata": {},
   "source": [
    "There are 249 different countries in the dataset. I used the unique() method to get the number of different values in the name column."
   ]
  },
  {
   "cell_type": "markdown",
   "id": "8235f8e0-34e2-4bfc-86e3-3b7fb0fb0a9d",
   "metadata": {},
   "source": [
    "2. What is the earliest and the most recent year in the dataset?"
   ]
  },
  {
   "cell_type": "code",
   "execution_count": 36,
   "id": "10e3e951-0fcd-433b-8cc8-70f81d5a7717",
   "metadata": {},
   "outputs": [
    {
     "data": {
      "text/plain": [
       "1960.0"
      ]
     },
     "execution_count": 36,
     "metadata": {},
     "output_type": "execute_result"
    }
   ],
   "source": [
    "df.time.min()"
   ]
  },
  {
   "cell_type": "code",
   "execution_count": 37,
   "id": "e65b3e54-c4af-4ad6-9ad8-3e60d1928c21",
   "metadata": {},
   "outputs": [
    {
     "data": {
      "text/plain": [
       "2019.0"
      ]
     },
     "execution_count": 37,
     "metadata": {},
     "output_type": "execute_result"
    }
   ],
   "source": [
    "df.time.max()"
   ]
  },
  {
   "cell_type": "markdown",
   "id": "8ee94c4c-e5d5-4ae9-8623-7500ac1643b4",
   "metadata": {},
   "source": [
    "The earliest year is 1960 and the lates year is 2019. I used the min() and max() method on the time column to find the smallest time and the largest time. Smallest would mean earliest and largest would mean latest."
   ]
  },
  {
   "cell_type": "markdown",
   "id": "4b2d3bbc-df7a-4708-a064-bf1b3f2bc978",
   "metadata": {},
   "source": [
    "3. For which year do we have the most recent GDP data?\n",
    "Hint: You can remove all cases where GDP is missing."
   ]
  },
  {
   "cell_type": "code",
   "execution_count": 38,
   "id": "a7d78633-e527-4a09-bbf6-97f833837f9c",
   "metadata": {},
   "outputs": [
    {
     "data": {
      "text/plain": [
       "2019.0"
      ]
     },
     "execution_count": 38,
     "metadata": {},
     "output_type": "execute_result"
    }
   ],
   "source": [
    "ndf = df.dropna(subset=['GDP_PC'])\n",
    "ndf.time.max()"
   ]
  },
  {
   "cell_type": "markdown",
   "id": "83b70e36-5c19-4d45-838c-489a36ae5979",
   "metadata": {},
   "source": [
    "We have the most recent GDP data from the year 2019. I found this by dropping all of the NA values specifically in the GDP_PC column. I did this by specifying the subset to GDP_PC which I learned from the following website: https://towardsdatascience.com/how-to-drop-rows-in-pandas-dataframes-with-nan-values-in-certain-columns-7613ad1a7f25"
   ]
  },
  {
   "cell_type": "markdown",
   "id": "1706021c-5826-489e-b155-9c560e72f981",
   "metadata": {},
   "source": [
    "4. What is the average wealth on this planet as of 2019? Let’s just compute average GDP across\n",
    "all countries in 2019 and ignore the fact that countries are of different size."
   ]
  },
  {
   "cell_type": "code",
   "execution_count": 39,
   "id": "cfde476c-82c8-4d2e-9457-780e11828ce8",
   "metadata": {},
   "outputs": [
    {
     "data": {
      "text/plain": [
       "15055.352217243239"
      ]
     },
     "execution_count": 39,
     "metadata": {},
     "output_type": "execute_result"
    }
   ],
   "source": [
    "ndf[ndf.time == 2019].GDP_PC.mean()"
   ]
  },
  {
   "cell_type": "markdown",
   "id": "88db8742-e264-4547-bb75-bd6564e16459",
   "metadata": {},
   "source": [
    "The average wealth on this planet in the year 2019 is 15,055.35. I computed this by filtering the time to 2019 and finding the mean of the GDP_PC column"
   ]
  },
  {
   "cell_type": "markdown",
   "id": "7e491631-0e24-4040-8c57-94a8d49e3962",
   "metadata": {},
   "source": [
    "5. But not all countries may have the same most recent year where GDP data is present. Which 5\n",
    "countries countries have the largest number of the most recent years missing? (For instance, imagine\n",
    "there is GDP data for Funan for 2015, 2016, and 2017; but for Khmer Empire only for 2015. Hence\n",
    "Khmer Empire has two of the most recent years missing.) Till which year do these countries have\n",
    "data? What do you think, why do these countries have issues with more recent data?\n",
    "\n",
    "Hint: you may group by country and find max value for the year. In the resulting series, find the\n",
    "min/max. Check out the nlargest method.\n",
    "\n",
    "Hint2: two of these countries are Lichtenstein and Faroe Islands."
   ]
  },
  {
   "cell_type": "code",
   "execution_count": 40,
   "id": "537cb71b-60a4-4ac6-9d2c-44da3b3657fd",
   "metadata": {},
   "outputs": [
    {
     "data": {
      "text/plain": [
       "name\n",
       "Djibouti                    2010.0\n",
       "Faroe Islands               2010.0\n",
       "Liechtenstein               2010.0\n",
       "Turks and Caicos Islands    2010.0\n",
       "Eritrea                     2011.0\n",
       "Name: time, dtype: float64"
      ]
     },
     "execution_count": 40,
     "metadata": {},
     "output_type": "execute_result"
    }
   ],
   "source": [
    "ndf.groupby(\"name\").time.max().nsmallest()"
   ]
  },
  {
   "cell_type": "markdown",
   "id": "fcd0ef4b-d7f5-4bd4-a094-5731f2495186",
   "metadata": {},
   "source": [
    "The 5 countries with the largest number of most recent years missing is Djibouti, Faroe Islands, Liechtenstein, Turks and Caicos Islands, and Eritrea. These countries have GDP data until 2010 and 2011. It is possible that the soure of this dataset was unable to find anything on these 5 countries during the past 10 years. Or maybe, because these are smaller countries, there is some power struggle going on that is preventing them from reporting their GDP_PC.\n",
    "\n",
    "I grouped by the countries and selected the 5 countries with the oldest, most recent year."
   ]
  },
  {
   "cell_type": "markdown",
   "id": "bdfee2a8-2f55-4d2a-8065-ca28ca45cd3c",
   "metadata": {},
   "source": [
    "6. Now let’s compare the continents. We’ll make it easy again and just compute the average\n",
    "wealth (i.e. GDP) for each continent in 2019, and we use region as continent. We disregard the fact\n",
    "that countries are of different size. Print the continents, and the corresponding GDP in a decreasing\n",
    "order. Do you think this order is reasonable?\n",
    "Remember to use only the most recent data!\n",
    "\n",
    "Hint: check out methods groupby and sort_values.\n",
    "\n",
    "Hint2: you should see value around 11,800 for Oceania."
   ]
  },
  {
   "cell_type": "code",
   "execution_count": 41,
   "id": "9f4e6368-6d5c-453e-8145-3ba99d9eca14",
   "metadata": {},
   "outputs": [
    {
     "data": {
      "text/plain": [
       "region\n",
       "Europe      33227.983767\n",
       "Americas    14516.826303\n",
       "Asia        14116.124163\n",
       "Oceania     11817.735554\n",
       "Africa       2765.708956\n",
       "Name: GDP_PC, dtype: float64"
      ]
     },
     "execution_count": 41,
     "metadata": {},
     "output_type": "execute_result"
    }
   ],
   "source": [
    "ndf[ndf.time == 2019].groupby(\"region\").GDP_PC.mean().sort_values(ascending = False)"
   ]
  },
  {
   "cell_type": "markdown",
   "id": "e34f4512-646e-4099-ab50-4b80b2c593bd",
   "metadata": {},
   "source": [
    "I think this data makes sense. Europe exports a lot of luxury brands (fashion, car, etc.) and doesn't have much underdeveloped areas hwen compared to the rest of the continents. However, I was shocked to see that Europe's average GDP_PC doubles the Americas and Asia.\n",
    "\n",
    "I did this by filtering by the year 2019 and grouping by continent. Then, I found the mean of the GDP of each continent and sorted it from largest to smallest."
   ]
  },
  {
   "cell_type": "markdown",
   "id": "c9942af4-9cee-48e5-9a4b-c3d1384de4b7",
   "metadata": {},
   "source": [
    "7. But this was just about the average numbers. Now for each continent let’s also find the richest and the poorest country, the corresponding GDP, and population (2019). Note: While this gives a hint about inequality, we still ignore the intra-county inequality. Quite likely the rich in the poor countries earn more than the poor in the rich countries. Unfortunately we cannot tell based on these data.\n",
    "\n",
    "Hint: if you can find a good solution yourself, go for it! But here is a suggestion how you can do it,\n",
    "step-by-step.\n",
    "\n",
    "(a) Check out indexing with .loc and .iloc (McKinney, p 143)\n",
    "\n",
    "(b) Check out methods .idxmax and .idxmin (McKinney p 158-159)\n",
    "\n",
    "(c) Find the index of the largest GDP value in data (use .idxmax).\n",
    "\n",
    "(d) Extract the row of dataframe that corresponds to the index you computed in 7c\n",
    "\n",
    "(e) Now repeat the two previous steps either with .groupby, or if you cannot figure this out then with a for-loop over all continents.\n",
    "\n",
    "Alternatively, you can extract the values using construct like data.gdp == data.gdp.min(). You can also just loop over continents, and for each continent find the richest and poorest country as of 2019 (check out methods nlargest and nsmallest)."
   ]
  },
  {
   "cell_type": "code",
   "execution_count": 42,
   "id": "8c6eac0d-1bfa-4ae9-bb46-f995beb3e7d6",
   "metadata": {},
   "outputs": [],
   "source": [
    "temp = ndf.rename({'name':'country'}, axis=1)\n",
    "maxi = temp[temp.time == 2019].groupby('region').GDP_PC.idxmax()\n",
    "\n",
    "country = []\n",
    "gdp = []\n",
    "population = []\n",
    "\n",
    "for i in range(5):\n",
    "    country.append(temp.loc[maxi[i]].country)\n",
    "    gdp.append(temp.loc[maxi[i]].GDP_PC)\n",
    "    population.append(temp.loc[maxi[i]].totalPopulation)"
   ]
  },
  {
   "cell_type": "code",
   "execution_count": 43,
   "id": "d8a93eb2-9dbb-4f60-b95e-c8a5159b2ee4",
   "metadata": {},
   "outputs": [],
   "source": [
    "mini = temp[temp.time == 2019].groupby('region').GDP_PC.idxmin()\n",
    "for i in range(5):\n",
    "    country.append(temp.loc[mini[i]].country)\n",
    "    gdp.append(temp.loc[mini[i]].GDP_PC)\n",
    "    population.append(temp.loc[mini[i]].totalPopulation)"
   ]
  },
  {
   "cell_type": "code",
   "execution_count": 44,
   "id": "3b5a1380-8a47-494b-a6e9-7cffe914a85a",
   "metadata": {},
   "outputs": [],
   "source": [
    "c = pd.Series(data = country)\n",
    "g = pd.Series(data = gdp)\n",
    "p = pd.Series(data = population)"
   ]
  },
  {
   "cell_type": "markdown",
   "id": "30f2b2cd-8cfc-4068-96d1-661c198038ca",
   "metadata": {},
   "source": [
    "I used idxmax() to find the index of the maximum GDP from each continent. I made 3 lists: country, gdp, and population. I then used a for loop to add the country, gdp, and population into lists by searching for the index in the temo data frame. This is so the index of everything stays the same (ex: country[0] will correspond to gdp[0] and population[0]). I then convert the lists into Series so that I can concat them into dataframes later on. "
   ]
  },
  {
   "cell_type": "markdown",
   "id": "79bab4f0-6b66-4a0c-89b5-fc43dc2d647e",
   "metadata": {},
   "source": [
    "8. Finally, let’s put all this into a single data frame. The data frame should contain continent name as index, and for each continent 6 variables: name, GDP and population for the poorest country, and the same for the richest country. Pick suitable variable names!\n",
    "\n",
    "Hint: consult Python notes 4.6: Combining data into data frames. You can use .set_index to convert a variable into index."
   ]
  },
  {
   "cell_type": "code",
   "execution_count": 45,
   "id": "e0a1cd3c-63f0-4e09-9692-bf4db81f0e67",
   "metadata": {},
   "outputs": [],
   "source": [
    "rich_and_poor = pd.concat((g, p), axis=1)\n",
    "rich_and_poor = rich_and_poor.rename({0:'gdp', 1:'population'}, axis=1)\n",
    "rich_and_poor = rich_and_poor.set_index(c)"
   ]
  },
  {
   "cell_type": "markdown",
   "id": "8e6682fa-70ce-471f-aef9-f82ad251c366",
   "metadata": {},
   "source": [
    "Using Python notes, I used concat to make a dataframe and renamed the columns for easy reading and also set the index to the country names."
   ]
  },
  {
   "cell_type": "markdown",
   "id": "e7349118-ae21-469e-bd03-a84477c61282",
   "metadata": {},
   "source": [
    "9. Comment the list of poorest and richest countries. What do you think about these lists. Did\n",
    "you know that Bermuda is the richest country in Americas? Do you know why? Why do most of the rich countries have small population?\n",
    "\n",
    "From richest to poorest: Luxembourg, Bermuda, Qatar, Australia, Seychelles, Ukraine, Solomon Islands, Haiti, Afghanistan, and Burundi. Maybe the reason why the richest countries have small population is because it might be easier to govern and introduce policies. It might also be because the countries still have valuable resources that can be exported."
   ]
  },
  {
   "cell_type": "markdown",
   "id": "ab76361b-ee41-4ee0-bfe7-5637f575864f",
   "metadata": {},
   "source": [
    "# 7 Health\n",
    "\n",
    "1. How many countries do not have LE data for year 1960? How many countries do not have this information for year 2019?"
   ]
  },
  {
   "cell_type": "code",
   "execution_count": 47,
   "id": "4b1628e1-4b5a-4ab3-b470-d629c40fa6bd",
   "metadata": {},
   "outputs": [
    {
     "data": {
      "text/plain": [
       "27"
      ]
     },
     "execution_count": 47,
     "metadata": {},
     "output_type": "execute_result"
    }
   ],
   "source": [
    "df[df.time == 2019].lifeExpectancy.isnull().sum()\n",
    "df[df.time == 1960].lifeExpectancy.isnull().sum()"
   ]
  },
  {
   "cell_type": "markdown",
   "id": "7b27fbf8-556c-4505-9b8b-003d627e8839",
   "metadata": {},
   "source": [
    "27 countries did not have the life expectancy data in the year 1960, and 19 countries don't have the life expectancy data in 2019.\n",
    "\n",
    "I found this data by filtering the time to 2019, and removing all of rows with nulls in the lifeExpectancy column. And then I used sum() to calculate the number of countries. I used the same process for the year 1960, except I filtered the time to 1960."
   ]
  },
  {
   "cell_type": "markdown",
   "id": "af888662-534f-41c0-9a99-062e686fbeb6",
   "metadata": {},
   "source": [
    "2. What is the shortest and longest LE in data? Which years/countries does this correspond to?\n",
    "\n",
    "Hint: you can use methods nlargest to extract dataframe rows, and idxmax to extract index of\n",
    "row with the maximum value."
   ]
  },
  {
   "cell_type": "code",
   "execution_count": 48,
   "id": "05f6fe6c-2989-4996-a339-f61c2eb96871",
   "metadata": {},
   "outputs": [],
   "source": [
    "max_le_id = df.lifeExpectancy.idxmax()"
   ]
  },
  {
   "cell_type": "code",
   "execution_count": 49,
   "id": "abdb2f1c-6f24-463a-9a0d-865a548c84eb",
   "metadata": {},
   "outputs": [],
   "source": [
    "min_le_id = df.lifeExpectancy.idxmin()"
   ]
  },
  {
   "cell_type": "markdown",
   "id": "e5b02222-ad07-4fd1-b04a-83bb54f0be9a",
   "metadata": {},
   "source": [
    "The longest life expectancy in the data is 85.42 years in the country San Marino during the year 2012. The shortest life expectancy is 18.9 years in the country Cambodia during the year 1977.\n",
    "\n",
    "I found this by using idxmax() and idxmin(), which gets me the index of the largest and smallest value of a column."
   ]
  },
  {
   "cell_type": "markdown",
   "id": "48b0619f-8a77-46df-b6a6-d679d89b4e47",
   "metadata": {},
   "source": [
    "3. If you did this correctly, you notice that the shortest LE is less than 20 years. What historical\n",
    "events does it correspond to? (You may consult Wikipedia)."
   ]
  },
  {
   "cell_type": "markdown",
   "id": "477a288b-072e-442f-9297-f16dd8aa7a82",
   "metadata": {},
   "source": [
    "This year is in the middle of the Cambodian Genocide."
   ]
  },
  {
   "cell_type": "markdown",
   "id": "3f10684d-acf6-40ba-a2af-d7d177c02e64",
   "metadata": {},
   "source": [
    "4. Find the country with longest and shortest LE for each continent.\n",
    "Hint: you can use the same approach as for GDP by continent."
   ]
  },
  {
   "cell_type": "code",
   "execution_count": 51,
   "id": "d1e5a73f-d9e6-41c5-8011-126dc06bf744",
   "metadata": {},
   "outputs": [],
   "source": [
    "longest_le = temp.groupby('region').lifeExpectancy.idxmax()\n",
    "longest = []\n",
    "for i in range(5):\n",
    "    longest.append(temp.loc[longest_le[i]].country)\n",
    "    \n",
    "l = pd.Series(data = longest)"
   ]
  },
  {
   "cell_type": "code",
   "execution_count": 52,
   "id": "52890ddb-7a46-4595-bc01-1f172d734d2b",
   "metadata": {},
   "outputs": [],
   "source": [
    "shortest_le = temp.groupby('region').lifeExpectancy.idxmin()\n",
    "shortest = []\n",
    "for i in range(5):\n",
    "    shortest.append(temp.loc[shortest_le[i]].country)\n",
    "\n",
    "s = pd.Series(data = shortest)"
   ]
  },
  {
   "cell_type": "markdown",
   "id": "b3c196a3-5243-4073-95d1-4fc7c4fbd58b",
   "metadata": {},
   "source": [
    "I used idxmax() and idxmin() to find the index of the largest and smallest values of the lifeExpectancy column. Then, I used a for loop and used the index to find the country and appended the it to a list."
   ]
  },
  {
   "cell_type": "markdown",
   "id": "ebc27ba6-3475-4ff4-ba95-92bb1037aa4b",
   "metadata": {},
   "source": [
    "5. Now lets find, for each country, the first valid LE. Find the corresponding year, and LE value.\n",
    "\n",
    "Hint: you can use the same approach as when finding the largest GDP on each continent: find the index of minimum year of each country, and then extract the rows based on the index."
   ]
  },
  {
   "cell_type": "code",
   "execution_count": 30,
   "id": "7901c127-acd8-426e-860f-ba1703d55237",
   "metadata": {},
   "outputs": [],
   "source": [
    "valid_le = df.dropna(subset=['lifeExpectancy'])\n",
    "valid_le = valid_le.rename({'name':'country'}, axis = 1)"
   ]
  },
  {
   "cell_type": "code",
   "execution_count": 31,
   "id": "2f415414-fddb-42b5-82d4-67f93193cb39",
   "metadata": {},
   "outputs": [],
   "source": [
    "min_year_index = valid_le.groupby('country').time.idxmin()\n",
    "\n",
    "min_y = []\n",
    "countries = []\n",
    "le = []\n",
    "\n",
    "for i in range(0, len(min_year_index)):\n",
    "    min_y.append(valid_le.loc[min_year_index[i]].time)\n",
    "    countries.append(valid_le.loc[min_year_index[i]].country)\n",
    "    le.append(valid_le.loc[min_year_index[i]].lifeExpectancy)\n",
    "\n",
    "min_year = pd.Series(data=min_y)\n",
    "c = pd.Series(data=countries)\n",
    "l = pd.Series(data=le)"
   ]
  },
  {
   "cell_type": "code",
   "execution_count": 105,
   "id": "e0116338-bc95-4ac1-b5a3-1a63492b2398",
   "metadata": {},
   "outputs": [],
   "source": [
    "min_year_le = pd.concat((c, min_year, l), axis = 1)\n",
    "min_year_le = min_year_le.rename({0:'country', 1:'year', 2:'le'}, axis=1)\n",
    "min_year_le"
   ]
  },
  {
   "cell_type": "markdown",
   "id": "c26cc560-a1c8-46a8-8a8d-e3375246c821",
   "metadata": {},
   "source": [
    "I got rid of the rows with nulls in the lifeExpectancy column and renamed the column for better accessability. I used idxmin(), and ran it through a for loop (basically the same thing I did earlier)."
   ]
  },
  {
   "cell_type": "markdown",
   "id": "ad6b9161-0cf3-49d7-87ef-a14638f97a91",
   "metadata": {},
   "source": [
    "6. Now repeat this with the most recent valid LE."
   ]
  },
  {
   "cell_type": "code",
   "execution_count": 32,
   "id": "31ff288d-eb21-4a44-9fb6-335523d9e5bb",
   "metadata": {},
   "outputs": [],
   "source": [
    "max_year_index = valid_le.groupby('country').time.idxmax()\n",
    "max_y = []\n",
    "max_le = []\n",
    "\n",
    "for i in range(0, len(max_year_index)):\n",
    "    max_y.append(valid_le.loc[max_year_index[i]].time)\n",
    "    max_le.append(valid_le.loc[max_year_index[i]].lifeExpectancy)\n",
    "    \n",
    "max_year = pd.Series(data=max_y)\n",
    "max_leS = pd.Series(data=max_le)"
   ]
  },
  {
   "cell_type": "code",
   "execution_count": null,
   "id": "7a3af2f0-ff0c-4356-9aca-a0436014ab15",
   "metadata": {},
   "outputs": [],
   "source": [
    "max_year_le = pd.concat((c, max_year, max_leS), axis = 1)\n",
    "max_year_le = max_year_le.rename({0:'country', 1: 'year', 2:'le'}, axis=1)\n",
    "max_year_le"
   ]
  },
  {
   "cell_type": "markdown",
   "id": "711719ba-4449-4c30-86b6-7b71509d3a94",
   "metadata": {},
   "source": [
    "I used similar logic as when I computed the maximum GDP per continent"
   ]
  },
  {
   "cell_type": "markdown",
   "id": "085f588a-5df6-4967-8c13-5a59a5a832d0",
   "metadata": {},
   "source": [
    "7. Finally, let’s compute the growth rate. Show the countries, growth rates, and the corresponding life expectancies for 10 fastest and 10 slowest growers.\n",
    "\n",
    "Hint: for each country, compute the first valid year of life expectancy, last valid year of life expectancy, and find their life expectancies for the corresponding years. You can do it in a fairly similar way as in the previous question. Now use this formula for each country. At the end just order the result."
   ]
  },
  {
   "cell_type": "code",
   "execution_count": 100,
   "id": "189a8fe4-96b9-4dd7-b4f6-38171fe3d16f",
   "metadata": {},
   "outputs": [],
   "source": [
    "rate = (max_year_le['le'] - min_year_le['le'])/(max_year_le['year'] - min_year_le['year'])\n",
    "rate = pd.concat((c, rate, max_year, max_leS, min_year, l), axis = 1)\n",
    "rate = rate.rename({0: 'country', 1: 'growth_rate', 2:'latest_valid_year', 3: 'latest_valid_le', 4:'earliest_valid_year', 5: 'earliest_valid_le'}, axis = 1)"
   ]
  },
  {
   "cell_type": "code",
   "execution_count": 102,
   "id": "a27d1fc9-3141-4966-b7c3-8763a0ab94cf",
   "metadata": {},
   "outputs": [
    {
     "data": {
      "text/html": [
       "<div>\n",
       "<style scoped>\n",
       "    .dataframe tbody tr th:only-of-type {\n",
       "        vertical-align: middle;\n",
       "    }\n",
       "\n",
       "    .dataframe tbody tr th {\n",
       "        vertical-align: top;\n",
       "    }\n",
       "\n",
       "    .dataframe thead th {\n",
       "        text-align: right;\n",
       "    }\n",
       "</style>\n",
       "<table border=\"1\" class=\"dataframe\">\n",
       "  <thead>\n",
       "    <tr style=\"text-align: right;\">\n",
       "      <th></th>\n",
       "      <th>country</th>\n",
       "      <th>growth_rate</th>\n",
       "      <th>latest_valid_year</th>\n",
       "      <th>latest_valid_le</th>\n",
       "      <th>earliest_valid_year</th>\n",
       "      <th>earliest_valid_le</th>\n",
       "    </tr>\n",
       "  </thead>\n",
       "  <tbody>\n",
       "    <tr>\n",
       "      <th>116</th>\n",
       "      <td>Marshall Islands</td>\n",
       "      <td>-0.530957</td>\n",
       "      <td>2000.0</td>\n",
       "      <td>65.23902</td>\n",
       "      <td>1987.0</td>\n",
       "      <td>72.14146</td>\n",
       "    </tr>\n",
       "    <tr>\n",
       "      <th>139</th>\n",
       "      <td>Palau</td>\n",
       "      <td>0.004000</td>\n",
       "      <td>2005.0</td>\n",
       "      <td>69.12927</td>\n",
       "      <td>1990.0</td>\n",
       "      <td>69.06927</td>\n",
       "    </tr>\n",
       "    <tr>\n",
       "      <th>191</th>\n",
       "      <td>Ukraine</td>\n",
       "      <td>0.059793</td>\n",
       "      <td>2019.0</td>\n",
       "      <td>71.82732</td>\n",
       "      <td>1960.0</td>\n",
       "      <td>68.29954</td>\n",
       "    </tr>\n",
       "    <tr>\n",
       "      <th>101</th>\n",
       "      <td>Latvia</td>\n",
       "      <td>0.092410</td>\n",
       "      <td>2019.0</td>\n",
       "      <td>75.23902</td>\n",
       "      <td>1960.0</td>\n",
       "      <td>69.78683</td>\n",
       "    </tr>\n",
       "    <tr>\n",
       "      <th>26</th>\n",
       "      <td>Bulgaria</td>\n",
       "      <td>0.096052</td>\n",
       "      <td>2019.0</td>\n",
       "      <td>74.91463</td>\n",
       "      <td>1960.0</td>\n",
       "      <td>69.24756</td>\n",
       "    </tr>\n",
       "    <tr>\n",
       "      <th>107</th>\n",
       "      <td>Lithuania</td>\n",
       "      <td>0.106556</td>\n",
       "      <td>2019.0</td>\n",
       "      <td>76.13415</td>\n",
       "      <td>1960.0</td>\n",
       "      <td>69.84732</td>\n",
       "    </tr>\n",
       "    <tr>\n",
       "      <th>103</th>\n",
       "      <td>Lesotho</td>\n",
       "      <td>0.108678</td>\n",
       "      <td>2019.0</td>\n",
       "      <td>54.33100</td>\n",
       "      <td>1960.0</td>\n",
       "      <td>47.91900</td>\n",
       "    </tr>\n",
       "    <tr>\n",
       "      <th>15</th>\n",
       "      <td>Belarus</td>\n",
       "      <td>0.110487</td>\n",
       "      <td>2019.0</td>\n",
       "      <td>74.22683</td>\n",
       "      <td>1960.0</td>\n",
       "      <td>67.70810</td>\n",
       "    </tr>\n",
       "    <tr>\n",
       "      <th>163</th>\n",
       "      <td>Seychelles</td>\n",
       "      <td>0.111445</td>\n",
       "      <td>2019.0</td>\n",
       "      <td>73.94390</td>\n",
       "      <td>1980.0</td>\n",
       "      <td>69.59756</td>\n",
       "    </tr>\n",
       "    <tr>\n",
       "      <th>61</th>\n",
       "      <td>Fiji</td>\n",
       "      <td>0.112424</td>\n",
       "      <td>2019.0</td>\n",
       "      <td>67.44400</td>\n",
       "      <td>1960.0</td>\n",
       "      <td>60.81100</td>\n",
       "    </tr>\n",
       "  </tbody>\n",
       "</table>\n",
       "</div>"
      ],
      "text/plain": [
       "              country  growth_rate  latest_valid_year  latest_valid_le  \\\n",
       "116  Marshall Islands    -0.530957             2000.0         65.23902   \n",
       "139             Palau     0.004000             2005.0         69.12927   \n",
       "191           Ukraine     0.059793             2019.0         71.82732   \n",
       "101            Latvia     0.092410             2019.0         75.23902   \n",
       "26           Bulgaria     0.096052             2019.0         74.91463   \n",
       "107         Lithuania     0.106556             2019.0         76.13415   \n",
       "103           Lesotho     0.108678             2019.0         54.33100   \n",
       "15            Belarus     0.110487             2019.0         74.22683   \n",
       "163        Seychelles     0.111445             2019.0         73.94390   \n",
       "61               Fiji     0.112424             2019.0         67.44400   \n",
       "\n",
       "     earliest_valid_year  earliest_valid_le  \n",
       "116               1987.0           72.14146  \n",
       "139               1990.0           69.06927  \n",
       "191               1960.0           68.29954  \n",
       "101               1960.0           69.78683  \n",
       "26                1960.0           69.24756  \n",
       "107               1960.0           69.84732  \n",
       "103               1960.0           47.91900  \n",
       "15                1960.0           67.70810  \n",
       "163               1980.0           69.59756  \n",
       "61                1960.0           60.81100  "
      ]
     },
     "execution_count": 102,
     "metadata": {},
     "output_type": "execute_result"
    }
   ],
   "source": [
    "rate.nsmallest(10, 'growth_rate')"
   ]
  },
  {
   "cell_type": "code",
   "execution_count": 103,
   "id": "cfe27553-5b54-428a-bef2-32aee11a11ed",
   "metadata": {},
   "outputs": [
    {
     "data": {
      "text/html": [
       "<div>\n",
       "<style scoped>\n",
       "    .dataframe tbody tr th:only-of-type {\n",
       "        vertical-align: middle;\n",
       "    }\n",
       "\n",
       "    .dataframe tbody tr th {\n",
       "        vertical-align: top;\n",
       "    }\n",
       "\n",
       "    .dataframe thead th {\n",
       "        text-align: right;\n",
       "    }\n",
       "</style>\n",
       "<table border=\"1\" class=\"dataframe\">\n",
       "  <thead>\n",
       "    <tr style=\"text-align: right;\">\n",
       "      <th></th>\n",
       "      <th>country</th>\n",
       "      <th>growth_rate</th>\n",
       "      <th>latest_valid_year</th>\n",
       "      <th>latest_valid_le</th>\n",
       "      <th>earliest_valid_year</th>\n",
       "      <th>earliest_valid_le</th>\n",
       "    </tr>\n",
       "  </thead>\n",
       "  <tbody>\n",
       "    <tr>\n",
       "      <th>113</th>\n",
       "      <td>Maldives</td>\n",
       "      <td>0.704712</td>\n",
       "      <td>2019.0</td>\n",
       "      <td>78.921</td>\n",
       "      <td>1960.0</td>\n",
       "      <td>37.343</td>\n",
       "    </tr>\n",
       "    <tr>\n",
       "      <th>20</th>\n",
       "      <td>Bhutan</td>\n",
       "      <td>0.631373</td>\n",
       "      <td>2019.0</td>\n",
       "      <td>71.777</td>\n",
       "      <td>1960.0</td>\n",
       "      <td>34.526</td>\n",
       "    </tr>\n",
       "    <tr>\n",
       "      <th>201</th>\n",
       "      <td>Yemen</td>\n",
       "      <td>0.613661</td>\n",
       "      <td>2019.0</td>\n",
       "      <td>66.125</td>\n",
       "      <td>1960.0</td>\n",
       "      <td>29.919</td>\n",
       "    </tr>\n",
       "    <tr>\n",
       "      <th>183</th>\n",
       "      <td>Timor-Leste</td>\n",
       "      <td>0.606203</td>\n",
       "      <td>2019.0</td>\n",
       "      <td>69.495</td>\n",
       "      <td>1960.0</td>\n",
       "      <td>33.729</td>\n",
       "    </tr>\n",
       "    <tr>\n",
       "      <th>128</th>\n",
       "      <td>Nepal</td>\n",
       "      <td>0.596525</td>\n",
       "      <td>2019.0</td>\n",
       "      <td>70.778</td>\n",
       "      <td>1960.0</td>\n",
       "      <td>35.583</td>\n",
       "    </tr>\n",
       "    <tr>\n",
       "      <th>137</th>\n",
       "      <td>Oman</td>\n",
       "      <td>0.596424</td>\n",
       "      <td>2019.0</td>\n",
       "      <td>77.861</td>\n",
       "      <td>1960.0</td>\n",
       "      <td>42.672</td>\n",
       "    </tr>\n",
       "    <tr>\n",
       "      <th>187</th>\n",
       "      <td>Tunisia</td>\n",
       "      <td>0.587763</td>\n",
       "      <td>2019.0</td>\n",
       "      <td>76.699</td>\n",
       "      <td>1960.0</td>\n",
       "      <td>42.021</td>\n",
       "    </tr>\n",
       "    <tr>\n",
       "      <th>37</th>\n",
       "      <td>China</td>\n",
       "      <td>0.562492</td>\n",
       "      <td>2019.0</td>\n",
       "      <td>76.912</td>\n",
       "      <td>1960.0</td>\n",
       "      <td>43.725</td>\n",
       "    </tr>\n",
       "    <tr>\n",
       "      <th>0</th>\n",
       "      <td>Afghanistan</td>\n",
       "      <td>0.548932</td>\n",
       "      <td>2019.0</td>\n",
       "      <td>64.833</td>\n",
       "      <td>1960.0</td>\n",
       "      <td>32.446</td>\n",
       "    </tr>\n",
       "    <tr>\n",
       "      <th>188</th>\n",
       "      <td>Turkey</td>\n",
       "      <td>0.547831</td>\n",
       "      <td>2019.0</td>\n",
       "      <td>77.691</td>\n",
       "      <td>1960.0</td>\n",
       "      <td>45.369</td>\n",
       "    </tr>\n",
       "  </tbody>\n",
       "</table>\n",
       "</div>"
      ],
      "text/plain": [
       "         country  growth_rate  latest_valid_year  latest_valid_le  \\\n",
       "113     Maldives     0.704712             2019.0           78.921   \n",
       "20        Bhutan     0.631373             2019.0           71.777   \n",
       "201        Yemen     0.613661             2019.0           66.125   \n",
       "183  Timor-Leste     0.606203             2019.0           69.495   \n",
       "128        Nepal     0.596525             2019.0           70.778   \n",
       "137         Oman     0.596424             2019.0           77.861   \n",
       "187      Tunisia     0.587763             2019.0           76.699   \n",
       "37         China     0.562492             2019.0           76.912   \n",
       "0    Afghanistan     0.548932             2019.0           64.833   \n",
       "188       Turkey     0.547831             2019.0           77.691   \n",
       "\n",
       "     earliest_valid_year  earliest_valid_le  \n",
       "113               1960.0             37.343  \n",
       "20                1960.0             34.526  \n",
       "201               1960.0             29.919  \n",
       "183               1960.0             33.729  \n",
       "128               1960.0             35.583  \n",
       "137               1960.0             42.672  \n",
       "187               1960.0             42.021  \n",
       "37                1960.0             43.725  \n",
       "0                 1960.0             32.446  \n",
       "188               1960.0             45.369  "
      ]
     },
     "execution_count": 103,
     "metadata": {},
     "output_type": "execute_result"
    }
   ],
   "source": [
    "rate.nlargest(10, 'growth_rate')"
   ]
  },
  {
   "cell_type": "markdown",
   "id": "c18c2277-f83d-4342-9dab-93dd7005d599",
   "metadata": {},
   "source": [
    "Since I knew that I can subtract 2 dataframes of the same length from each other, I decided to specify the columns that I wanted to subtract and computed the growth rate by using the following formula: (y2-y1)/(x2-x1). I then used concat() to combine the country, growth rate, years, and life expectancies into 1 dataframe and sorted it by growth rate.\n",
    "8. Do you see a pattern (or multiple patterns) here? Remember: you are looking at growth of\n",
    "life expectancy over an extended period."
   ]
  },
  {
   "cell_type": "markdown",
   "id": "15af44f2-c646-453d-8ece-bfd278f00ab6",
   "metadata": {},
   "source": [
    "Generally, countries are almost showing a growth in life expectancy. The only exceptiona are Marshall Islands, Cayman Islands, and San Marino. This is because there is only one year with data about life expectancy for Cayman Islands and San Marino. As for Marshall Islands, there is only 3 years that displays data about life expectancy, in other words, the data is inconsistent. It seems like the countries with the highest growth rates tend to be in Asia and the countries with the lowest growth rates ten to be in Europe, Africa, and Oceania."
   ]
  },
  {
   "cell_type": "markdown",
   "id": "9636161d-5449-41a0-84c7-89900f06c0ea",
   "metadata": {},
   "source": [
    "# How much time did you spend?\n",
    "And finally-finally, tell us how much time (how many hours) did you spend on this PS!\n",
    "\n",
    "I think I spent at least 24 hours of coding on this project. I'm not entirely sure of the exact number of hours, but I know I spent at least 24 hours coding this assignment."
   ]
  },
  {
   "cell_type": "markdown",
   "id": "2918ab1f-6e0d-4841-b339-ad145c29f745",
   "metadata": {},
   "source": [
    "# References\n",
    "Lubanovic, B. (2014) Introducing Python: Modern Computing in Simple Packages, O’Reilly Media."
   ]
  }
 ],
 "metadata": {
  "kernelspec": {
   "display_name": "Python 3 (ipykernel)",
   "language": "python",
   "name": "python3"
  },
  "language_info": {
   "codemirror_mode": {
    "name": "ipython",
    "version": 3
   },
   "file_extension": ".py",
   "mimetype": "text/x-python",
   "name": "python",
   "nbconvert_exporter": "python",
   "pygments_lexer": "ipython3",
   "version": "3.9.7"
  }
 },
 "nbformat": 4,
 "nbformat_minor": 5
}
