{
 "cells": [
  {
   "cell_type": "markdown",
   "id": "b6962793-75ca-4a40-b83b-2d588f564759",
   "metadata": {},
   "source": [
    "# 1. When will we see BOE? (45pt)"
   ]
  },
  {
   "cell_type": "markdown",
   "id": "848d80ad-6632-460c-be4a-d5442338a0d7",
   "metadata": {},
   "source": [
    "## 1. (5pt) Load the data. Only keep the northern hemisphere data. Remove all missing extents–we will only work with extent below.\n",
    "### Note: make sure you understand how missings are coded! There are missings in data.\n"
   ]
  },
  {
   "cell_type": "code",
   "execution_count": 1,
   "id": "b2b86df4-92e1-455c-85d1-dc7702d0e1b7",
   "metadata": {},
   "outputs": [],
   "source": [
    "import numpy as np\n",
    "import pandas as pd\n",
    "import matplotlib.pyplot as plt"
   ]
  },
  {
   "cell_type": "code",
   "execution_count": 2,
   "id": "d94709ca-1e8a-434b-bdd9-862c380a50a3",
   "metadata": {},
   "outputs": [
    {
     "name": "stdout",
     "output_type": "stream",
     "text": [
      "(517, 6)\n"
     ]
    },
    {
     "data": {
      "text/html": [
       "<div>\n",
       "<style scoped>\n",
       "    .dataframe tbody tr th:only-of-type {\n",
       "        vertical-align: middle;\n",
       "    }\n",
       "\n",
       "    .dataframe tbody tr th {\n",
       "        vertical-align: top;\n",
       "    }\n",
       "\n",
       "    .dataframe thead th {\n",
       "        text-align: right;\n",
       "    }\n",
       "</style>\n",
       "<table border=\"1\" class=\"dataframe\">\n",
       "  <thead>\n",
       "    <tr style=\"text-align: right;\">\n",
       "      <th></th>\n",
       "      <th>year</th>\n",
       "      <th>month</th>\n",
       "      <th>data-type</th>\n",
       "      <th>region</th>\n",
       "      <th>extent</th>\n",
       "      <th>area</th>\n",
       "    </tr>\n",
       "  </thead>\n",
       "  <tbody>\n",
       "    <tr>\n",
       "      <th>0</th>\n",
       "      <td>1978</td>\n",
       "      <td>11</td>\n",
       "      <td>Goddard</td>\n",
       "      <td>N</td>\n",
       "      <td>11.65</td>\n",
       "      <td>9.04</td>\n",
       "    </tr>\n",
       "    <tr>\n",
       "      <th>2</th>\n",
       "      <td>1978</td>\n",
       "      <td>12</td>\n",
       "      <td>Goddard</td>\n",
       "      <td>N</td>\n",
       "      <td>13.67</td>\n",
       "      <td>10.90</td>\n",
       "    </tr>\n",
       "    <tr>\n",
       "      <th>4</th>\n",
       "      <td>1979</td>\n",
       "      <td>1</td>\n",
       "      <td>Goddard</td>\n",
       "      <td>N</td>\n",
       "      <td>15.41</td>\n",
       "      <td>12.41</td>\n",
       "    </tr>\n",
       "    <tr>\n",
       "      <th>6</th>\n",
       "      <td>1979</td>\n",
       "      <td>2</td>\n",
       "      <td>Goddard</td>\n",
       "      <td>N</td>\n",
       "      <td>16.18</td>\n",
       "      <td>13.18</td>\n",
       "    </tr>\n",
       "    <tr>\n",
       "      <th>8</th>\n",
       "      <td>1979</td>\n",
       "      <td>3</td>\n",
       "      <td>Goddard</td>\n",
       "      <td>N</td>\n",
       "      <td>16.34</td>\n",
       "      <td>13.21</td>\n",
       "    </tr>\n",
       "  </tbody>\n",
       "</table>\n",
       "</div>"
      ],
      "text/plain": [
       "   year  month data-type region  extent   area\n",
       "0  1978     11   Goddard      N   11.65   9.04\n",
       "2  1978     12   Goddard      N   13.67  10.90\n",
       "4  1979      1   Goddard      N   15.41  12.41\n",
       "6  1979      2   Goddard      N   16.18  13.18\n",
       "8  1979      3   Goddard      N   16.34  13.21"
      ]
     },
     "execution_count": 2,
     "metadata": {},
     "output_type": "execute_result"
    }
   ],
   "source": [
    "ice = pd.read_csv(\"../data/ice-extent.csv.bz2\", sep=\"\\t\")\n",
    "ice = ice.drop(columns=['time'], axis=1)\n",
    "df = ice[ice.extent != -9999.0]\n",
    "df = df[df.region == 'N']\n",
    "print(df.shape)\n",
    "df.head()"
   ]
  },
  {
   "cell_type": "markdown",
   "id": "3e45f44c-e3b3-4d02-abc5-ed866008e87e",
   "metadata": {},
   "source": [
    "## 2. (6pt) Make a plot where you show the September, December and March ice extent over years.\n",
    "### Note: you may consider seaborn library in addition to matplotlib if you want ready-made functionality for data plotting. But you can also use plt.plot."
   ]
  },
  {
   "cell_type": "code",
   "execution_count": 3,
   "id": "1a61fbbd-3f3e-46dc-9184-b918ea63aff0",
   "metadata": {},
   "outputs": [
    {
     "data": {
      "image/png": "[encoded data removed]",
      "text/plain": [
       "<Figure size 432x288 with 1 Axes>"
      ]
     },
     "metadata": {
      "needs_background": "light"
     },
     "output_type": "display_data"
    }
   ],
   "source": [
    "import seaborn as sns\n",
    "months = [9,12,3]\n",
    "ice_sdm = df[df['month'].isin(months)]\n",
    "_ = sns.lineplot(x=\"year\", y=\"extent\", hue=\"month\", data=ice_sdm)"
   ]
  },
  {
   "cell_type": "markdown",
   "id": "56e465d6-0658-4b62-b3bd-a63d6d4491b6",
   "metadata": {},
   "source": [
    "## 3. (5pt) Estimate a linear regression model for September data where you describe the sea ice extent as a function of years.\n",
    "### Note: in terms of interpeting the coefficients below, I recommend to use years relative to 2000, i.e. 1999 = −1, 2000 = 0, 2001 = 1 etc."
   ]
  },
  {
   "cell_type": "code",
   "execution_count": 4,
   "id": "32c792aa-157e-4b1e-ac3d-c4c5362e8739",
   "metadata": {},
   "outputs": [
    {
     "data": {
      "text/html": [
       "<table class=\"simpletable\">\n",
       "<caption>OLS Regression Results</caption>\n",
       "<tr>\n",
       "  <th>Dep. Variable:</th>         <td>extent</td>      <th>  R-squared:         </th> <td>   0.793</td>\n",
       "</tr>\n",
       "<tr>\n",
       "  <th>Model:</th>                   <td>OLS</td>       <th>  Adj. R-squared:    </th> <td>   0.788</td>\n",
       "</tr>\n",
       "<tr>\n",
       "  <th>Method:</th>             <td>Least Squares</td>  <th>  F-statistic:       </th> <td>   157.5</td>\n",
       "</tr>\n",
       "<tr>\n",
       "  <th>Date:</th>             <td>Wed, 16 Feb 2022</td> <th>  Prob (F-statistic):</th> <td>1.25e-15</td>\n",
       "</tr>\n",
       "<tr>\n",
       "  <th>Time:</th>                 <td>08:11:38</td>     <th>  Log-Likelihood:    </th> <td> -32.417</td>\n",
       "</tr>\n",
       "<tr>\n",
       "  <th>No. Observations:</th>      <td>    43</td>      <th>  AIC:               </th> <td>   68.83</td>\n",
       "</tr>\n",
       "<tr>\n",
       "  <th>Df Residuals:</th>          <td>    41</td>      <th>  BIC:               </th> <td>   72.36</td>\n",
       "</tr>\n",
       "<tr>\n",
       "  <th>Df Model:</th>              <td>     1</td>      <th>                     </th>     <td> </td>   \n",
       "</tr>\n",
       "<tr>\n",
       "  <th>Covariance Type:</th>      <td>nonrobust</td>    <th>                     </th>     <td> </td>   \n",
       "</tr>\n",
       "</table>\n",
       "<table class=\"simpletable\">\n",
       "<tr>\n",
       "      <td></td>         <th>coef</th>     <th>std err</th>      <th>t</th>      <th>P>|t|</th>  <th>[0.025</th>    <th>0.975]</th>  \n",
       "</tr>\n",
       "<tr>\n",
       "  <th>Intercept</th> <td>  168.4399</td> <td>   12.944</td> <td>   13.013</td> <td> 0.000</td> <td>  142.300</td> <td>  194.580</td>\n",
       "</tr>\n",
       "<tr>\n",
       "  <th>year</th>      <td>   -0.0812</td> <td>    0.006</td> <td>  -12.551</td> <td> 0.000</td> <td>   -0.094</td> <td>   -0.068</td>\n",
       "</tr>\n",
       "</table>\n",
       "<table class=\"simpletable\">\n",
       "<tr>\n",
       "  <th>Omnibus:</th>       <td> 2.573</td> <th>  Durbin-Watson:     </th> <td>   1.727</td>\n",
       "</tr>\n",
       "<tr>\n",
       "  <th>Prob(Omnibus):</th> <td> 0.276</td> <th>  Jarque-Bera (JB):  </th> <td>   1.525</td>\n",
       "</tr>\n",
       "<tr>\n",
       "  <th>Skew:</th>          <td>-0.324</td> <th>  Prob(JB):          </th> <td>   0.467</td>\n",
       "</tr>\n",
       "<tr>\n",
       "  <th>Kurtosis:</th>      <td> 3.656</td> <th>  Cond. No.          </th> <td>3.22e+05</td>\n",
       "</tr>\n",
       "</table><br/><br/>Notes:<br/>[1] Standard Errors assume that the covariance matrix of the errors is correctly specified.<br/>[2] The condition number is large, 3.22e+05. This might indicate that there are<br/>strong multicollinearity or other numerical problems."
      ],
      "text/plain": [
       "<class 'statsmodels.iolib.summary.Summary'>\n",
       "\"\"\"\n",
       "                            OLS Regression Results                            \n",
       "==============================================================================\n",
       "Dep. Variable:                 extent   R-squared:                       0.793\n",
       "Model:                            OLS   Adj. R-squared:                  0.788\n",
       "Method:                 Least Squares   F-statistic:                     157.5\n",
       "Date:                Wed, 16 Feb 2022   Prob (F-statistic):           1.25e-15\n",
       "Time:                        08:11:38   Log-Likelihood:                -32.417\n",
       "No. Observations:                  43   AIC:                             68.83\n",
       "Df Residuals:                      41   BIC:                             72.36\n",
       "Df Model:                           1                                         \n",
       "Covariance Type:            nonrobust                                         \n",
       "==============================================================================\n",
       "                 coef    std err          t      P>|t|      [0.025      0.975]\n",
       "------------------------------------------------------------------------------\n",
       "Intercept    168.4399     12.944     13.013      0.000     142.300     194.580\n",
       "year          -0.0812      0.006    -12.551      0.000      -0.094      -0.068\n",
       "==============================================================================\n",
       "Omnibus:                        2.573   Durbin-Watson:                   1.727\n",
       "Prob(Omnibus):                  0.276   Jarque-Bera (JB):                1.525\n",
       "Skew:                          -0.324   Prob(JB):                        0.467\n",
       "Kurtosis:                       3.656   Cond. No.                     3.22e+05\n",
       "==============================================================================\n",
       "\n",
       "Notes:\n",
       "[1] Standard Errors assume that the covariance matrix of the errors is correctly specified.\n",
       "[2] The condition number is large, 3.22e+05. This might indicate that there are\n",
       "strong multicollinearity or other numerical problems.\n",
       "\"\"\""
      ]
     },
     "execution_count": 4,
     "metadata": {},
     "output_type": "execute_result"
    }
   ],
   "source": [
    "import statsmodels.formula.api as smf\n",
    "ice_s = ice_sdm[ice_sdm.month == 9]\n",
    "smf.ols(\"extent~year\", data=ice_s).fit().summary()"
   ]
  },
  {
   "cell_type": "markdown",
   "id": "d9bac181-be1b-431a-acb7-dc7f4df9e4f0",
   "metadata": {},
   "source": [
    "## 4. (5pt) Interpret the coefficients. What does intercept mean? How big is yearly effect? Is it statistically significant? What about slope? What does it mean?"
   ]
  },
  {
   "cell_type": "markdown",
   "id": "6836d8b8-c8a9-40f3-b26d-0a55f761a249",
   "metadata": {},
   "source": [
    "The intercept is saying that when the year is 0, the extent of ice is 168.44. The p-value is less than 0.05, so we reject the null hypothesis. This means that it is statistically significant. For every 1 year, the extent of ice decreases by .0812. This number is also the slope. "
   ]
  },
  {
   "cell_type": "markdown",
   "id": "5cab2764-d243-41d4-823b-e44fb9758cab",
   "metadata": {},
   "source": [
    "## 5. (2pt) What does the intercept mean if\n",
    "### (a) you use years as is (1999, 2000, 2001, . . . )? \n",
    "Using the years as is will be the same as above: it is saying that when the year is 0, the extent of ice is 168.44.\n",
    "### (b) you use years relative to 2000 (-1, 0, 1, . . . )?"
   ]
  },
  {
   "cell_type": "code",
   "execution_count": 5,
   "id": "5a28aee4-6a5a-4e4a-a15b-68daf2a643eb",
   "metadata": {},
   "outputs": [
    {
     "data": {
      "text/html": [
       "<table class=\"simpletable\">\n",
       "<caption>OLS Regression Results</caption>\n",
       "<tr>\n",
       "  <th>Dep. Variable:</th>         <td>extent</td>      <th>  R-squared:         </th> <td>   0.793</td>\n",
       "</tr>\n",
       "<tr>\n",
       "  <th>Model:</th>                   <td>OLS</td>       <th>  Adj. R-squared:    </th> <td>   0.788</td>\n",
       "</tr>\n",
       "<tr>\n",
       "  <th>Method:</th>             <td>Least Squares</td>  <th>  F-statistic:       </th> <td>   157.5</td>\n",
       "</tr>\n",
       "<tr>\n",
       "  <th>Date:</th>             <td>Wed, 16 Feb 2022</td> <th>  Prob (F-statistic):</th> <td>1.25e-15</td>\n",
       "</tr>\n",
       "<tr>\n",
       "  <th>Time:</th>                 <td>08:11:39</td>     <th>  Log-Likelihood:    </th> <td> -32.417</td>\n",
       "</tr>\n",
       "<tr>\n",
       "  <th>No. Observations:</th>      <td>    43</td>      <th>  AIC:               </th> <td>   68.83</td>\n",
       "</tr>\n",
       "<tr>\n",
       "  <th>Df Residuals:</th>          <td>    41</td>      <th>  BIC:               </th> <td>   72.36</td>\n",
       "</tr>\n",
       "<tr>\n",
       "  <th>Df Model:</th>              <td>     1</td>      <th>                     </th>     <td> </td>   \n",
       "</tr>\n",
       "<tr>\n",
       "  <th>Covariance Type:</th>      <td>nonrobust</td>    <th>                     </th>     <td> </td>   \n",
       "</tr>\n",
       "</table>\n",
       "<table class=\"simpletable\">\n",
       "<tr>\n",
       "      <td></td>         <th>coef</th>     <th>std err</th>      <th>t</th>      <th>P>|t|</th>  <th>[0.025</th>    <th>0.975]</th>  \n",
       "</tr>\n",
       "<tr>\n",
       "  <th>Intercept</th> <td>    5.9935</td> <td>    0.080</td> <td>   74.629</td> <td> 0.000</td> <td>    5.831</td> <td>    6.156</td>\n",
       "</tr>\n",
       "<tr>\n",
       "  <th>year</th>      <td>   -0.0812</td> <td>    0.006</td> <td>  -12.551</td> <td> 0.000</td> <td>   -0.094</td> <td>   -0.068</td>\n",
       "</tr>\n",
       "</table>\n",
       "<table class=\"simpletable\">\n",
       "<tr>\n",
       "  <th>Omnibus:</th>       <td> 2.573</td> <th>  Durbin-Watson:     </th> <td>   1.727</td>\n",
       "</tr>\n",
       "<tr>\n",
       "  <th>Prob(Omnibus):</th> <td> 0.276</td> <th>  Jarque-Bera (JB):  </th> <td>   1.525</td>\n",
       "</tr>\n",
       "<tr>\n",
       "  <th>Skew:</th>          <td>-0.324</td> <th>  Prob(JB):          </th> <td>   0.467</td>\n",
       "</tr>\n",
       "<tr>\n",
       "  <th>Kurtosis:</th>      <td> 3.656</td> <th>  Cond. No.          </th> <td>    12.4</td>\n",
       "</tr>\n",
       "</table><br/><br/>Notes:<br/>[1] Standard Errors assume that the covariance matrix of the errors is correctly specified."
      ],
      "text/plain": [
       "<class 'statsmodels.iolib.summary.Summary'>\n",
       "\"\"\"\n",
       "                            OLS Regression Results                            \n",
       "==============================================================================\n",
       "Dep. Variable:                 extent   R-squared:                       0.793\n",
       "Model:                            OLS   Adj. R-squared:                  0.788\n",
       "Method:                 Least Squares   F-statistic:                     157.5\n",
       "Date:                Wed, 16 Feb 2022   Prob (F-statistic):           1.25e-15\n",
       "Time:                        08:11:39   Log-Likelihood:                -32.417\n",
       "No. Observations:                  43   AIC:                             68.83\n",
       "Df Residuals:                      41   BIC:                             72.36\n",
       "Df Model:                           1                                         \n",
       "Covariance Type:            nonrobust                                         \n",
       "==============================================================================\n",
       "                 coef    std err          t      P>|t|      [0.025      0.975]\n",
       "------------------------------------------------------------------------------\n",
       "Intercept      5.9935      0.080     74.629      0.000       5.831       6.156\n",
       "year          -0.0812      0.006    -12.551      0.000      -0.094      -0.068\n",
       "==============================================================================\n",
       "Omnibus:                        2.573   Durbin-Watson:                   1.727\n",
       "Prob(Omnibus):                  0.276   Jarque-Bera (JB):                1.525\n",
       "Skew:                          -0.324   Prob(JB):                        0.467\n",
       "Kurtosis:                       3.656   Cond. No.                         12.4\n",
       "==============================================================================\n",
       "\n",
       "Notes:\n",
       "[1] Standard Errors assume that the covariance matrix of the errors is correctly specified.\n",
       "\"\"\""
      ]
     },
     "execution_count": 5,
     "metadata": {},
     "output_type": "execute_result"
    }
   ],
   "source": [
    "ice_s_relative = ice_s.copy()\n",
    "ice_s_relative.year = ice_s_relative.year-2000\n",
    "smf.ols(\"extent~year\", data=ice_s_relative).fit().summary()"
   ]
  },
  {
   "cell_type": "markdown",
   "id": "b05f49c5-8c93-4829-9736-0ef2cf4ffa09",
   "metadata": {},
   "source": [
    "By using relative years, the intercept is 5.9935. This means that at the year 2000, the extent of is is expected to be about 5.9935."
   ]
  },
  {
   "cell_type": "markdown",
   "id": "22f8feb0-c8df-4a80-8893-630210f31b28",
   "metadata": {},
   "source": [
    "## 6. (6pt) Create a plot (like what you did with Boston housing) where you show the regression line through the September data points. Comment the plot. Do you see a trend? Do you see any acceleration/deceleration (i.e. the trend is getting faster/slower)?"
   ]
  },
  {
   "cell_type": "code",
   "execution_count": 6,
   "id": "f76f5ad1-e167-4ee8-935d-4c62b2e9290b",
   "metadata": {},
   "outputs": [
    {
     "data": {
      "image/png": "[encoded data removed]",
      "text/plain": [
       "<Figure size 432x288 with 1 Axes>"
      ]
     },
     "metadata": {
      "needs_background": "light"
     },
     "output_type": "display_data"
    }
   ],
   "source": [
    "import seaborn as sns\n",
    "_ = sns.regplot(y=ice_s_relative.extent, x=ice_s_relative.year)"
   ]
  },
  {
   "cell_type": "markdown",
   "id": "69036ded-d741-4561-b34e-24a9c1f519a9",
   "metadata": {},
   "source": [
    "There is a clear, decreasing trend line. I don't see a clear acceleration or decelration line."
   ]
  },
  {
   "cell_type": "markdown",
   "id": "3ebb1e05-60d5-4796-add6-3b3acfc11824",
   "metadata": {},
   "source": [
    "## 7. (8pt) Based on your linear prediction: when will your trend line hit 0 and we will have BOE?\n",
    "### Note: such predictions are highly speculative as we ignore the physical reality of the polar regions\n",
    "### Note 2: Your figure tells when will the trend reach zero. The first BOE will probably happen 10-20 years earlier as the yearly extent jumps ip and down around the trend"
   ]
  },
  {
   "cell_type": "markdown",
   "id": "41be5c0d-da10-4ced-98da-c191b0b29f1f",
   "metadata": {},
   "source": [
    "We will hit 0 when extent=0. To calculate this, use the following formula: extent = 5.9935 + (-0.0812) * year. By reorganizing the formula, we get this: extent - 5.9935 / (-0.0812) = year"
   ]
  },
  {
   "cell_type": "code",
   "execution_count": 7,
   "id": "536d9cf5-ffbf-4d5a-ba19-8826862489ea",
   "metadata": {},
   "outputs": [
    {
     "data": {
      "text/plain": [
       "73.81157635467981"
      ]
     },
     "execution_count": 7,
     "metadata": {},
     "output_type": "execute_result"
    }
   ],
   "source": [
    "extent = 0\n",
    "x = -0.0812\n",
    "b = 5.9935 #using years relative to 2000 data\n",
    "(extent - b) / x"
   ]
  },
  {
   "cell_type": "markdown",
   "id": "8442b7a9-ef0b-46e8-a902-f9dcde1c406d",
   "metadata": {},
   "source": [
    "We will have BOE at around year 74 relative to the year 2000. This means that we will have BOE at around 2074. However, as noted in Note 1, this is merely speculative, as it doesn't take into account many factors such as the physical reality of the polar regions and the social and environmental changes that might occur. In addition, Note 2 states that the first BOE will probably happen 10-20 years earlier than expected due to the extend variable often jumping around the trend line. This means that the prediction for BOE is updated to around 2054-2064."
   ]
  },
  {
   "cell_type": "markdown",
   "id": "4c7b018f-a0ea-4790-b147-9214eedc9fbf",
   "metadata": {},
   "source": [
    "## 8. (8pt) Repeat these calculations for March - the month of the yearly maximum. When will the Arctic be completely ice free (if current trends continue)?"
   ]
  },
  {
   "cell_type": "code",
   "execution_count": 8,
   "id": "0144d4e0-5644-4e13-9ae1-d4860f4b1458",
   "metadata": {},
   "outputs": [
    {
     "data": {
      "text/html": [
       "<table class=\"simpletable\">\n",
       "<caption>OLS Regression Results</caption>\n",
       "<tr>\n",
       "  <th>Dep. Variable:</th>         <td>extent</td>      <th>  R-squared:         </th> <td>   0.797</td>\n",
       "</tr>\n",
       "<tr>\n",
       "  <th>Model:</th>                   <td>OLS</td>       <th>  Adj. R-squared:    </th> <td>   0.792</td>\n",
       "</tr>\n",
       "<tr>\n",
       "  <th>Method:</th>             <td>Least Squares</td>  <th>  F-statistic:       </th> <td>   160.8</td>\n",
       "</tr>\n",
       "<tr>\n",
       "  <th>Date:</th>             <td>Wed, 16 Feb 2022</td> <th>  Prob (F-statistic):</th> <td>8.96e-16</td>\n",
       "</tr>\n",
       "<tr>\n",
       "  <th>Time:</th>                 <td>08:11:43</td>     <th>  Log-Likelihood:    </th> <td> -1.3365</td>\n",
       "</tr>\n",
       "<tr>\n",
       "  <th>No. Observations:</th>      <td>    43</td>      <th>  AIC:               </th> <td>   6.673</td>\n",
       "</tr>\n",
       "<tr>\n",
       "  <th>Df Residuals:</th>          <td>    41</td>      <th>  BIC:               </th> <td>   10.20</td>\n",
       "</tr>\n",
       "<tr>\n",
       "  <th>Df Model:</th>              <td>     1</td>      <th>                     </th>     <td> </td>   \n",
       "</tr>\n",
       "<tr>\n",
       "  <th>Covariance Type:</th>      <td>nonrobust</td>    <th>                     </th>     <td> </td>   \n",
       "</tr>\n",
       "</table>\n",
       "<table class=\"simpletable\">\n",
       "<tr>\n",
       "      <td></td>         <th>coef</th>     <th>std err</th>      <th>t</th>      <th>P>|t|</th>  <th>[0.025</th>    <th>0.975]</th>  \n",
       "</tr>\n",
       "<tr>\n",
       "  <th>Intercept</th> <td>   15.2570</td> <td>    0.039</td> <td>  391.380</td> <td> 0.000</td> <td>   15.178</td> <td>   15.336</td>\n",
       "</tr>\n",
       "<tr>\n",
       "  <th>year</th>      <td>   -0.0398</td> <td>    0.003</td> <td>  -12.679</td> <td> 0.000</td> <td>   -0.046</td> <td>   -0.033</td>\n",
       "</tr>\n",
       "</table>\n",
       "<table class=\"simpletable\">\n",
       "<tr>\n",
       "  <th>Omnibus:</th>       <td> 3.903</td> <th>  Durbin-Watson:     </th> <td>   1.534</td>\n",
       "</tr>\n",
       "<tr>\n",
       "  <th>Prob(Omnibus):</th> <td> 0.142</td> <th>  Jarque-Bera (JB):  </th> <td>   2.534</td>\n",
       "</tr>\n",
       "<tr>\n",
       "  <th>Skew:</th>          <td>-0.403</td> <th>  Prob(JB):          </th> <td>   0.282</td>\n",
       "</tr>\n",
       "<tr>\n",
       "  <th>Kurtosis:</th>      <td> 2.125</td> <th>  Cond. No.          </th> <td>    12.4</td>\n",
       "</tr>\n",
       "</table><br/><br/>Notes:<br/>[1] Standard Errors assume that the covariance matrix of the errors is correctly specified."
      ],
      "text/plain": [
       "<class 'statsmodels.iolib.summary.Summary'>\n",
       "\"\"\"\n",
       "                            OLS Regression Results                            \n",
       "==============================================================================\n",
       "Dep. Variable:                 extent   R-squared:                       0.797\n",
       "Model:                            OLS   Adj. R-squared:                  0.792\n",
       "Method:                 Least Squares   F-statistic:                     160.8\n",
       "Date:                Wed, 16 Feb 2022   Prob (F-statistic):           8.96e-16\n",
       "Time:                        08:11:43   Log-Likelihood:                -1.3365\n",
       "No. Observations:                  43   AIC:                             6.673\n",
       "Df Residuals:                      41   BIC:                             10.20\n",
       "Df Model:                           1                                         \n",
       "Covariance Type:            nonrobust                                         \n",
       "==============================================================================\n",
       "                 coef    std err          t      P>|t|      [0.025      0.975]\n",
       "------------------------------------------------------------------------------\n",
       "Intercept     15.2570      0.039    391.380      0.000      15.178      15.336\n",
       "year          -0.0398      0.003    -12.679      0.000      -0.046      -0.033\n",
       "==============================================================================\n",
       "Omnibus:                        3.903   Durbin-Watson:                   1.534\n",
       "Prob(Omnibus):                  0.142   Jarque-Bera (JB):                2.534\n",
       "Skew:                          -0.403   Prob(JB):                        0.282\n",
       "Kurtosis:                       2.125   Cond. No.                         12.4\n",
       "==============================================================================\n",
       "\n",
       "Notes:\n",
       "[1] Standard Errors assume that the covariance matrix of the errors is correctly specified.\n",
       "\"\"\""
      ]
     },
     "execution_count": 8,
     "metadata": {},
     "output_type": "execute_result"
    }
   ],
   "source": [
    "ice_m = ice_sdm[ice_sdm.month == 3]\n",
    "ice_m_relative = ice_m.copy()\n",
    "ice_m_relative.year = ice_m_relative.year-2000\n",
    "smf.ols(\"extent~year\", data=ice_m_relative).fit().summary()"
   ]
  },
  {
   "cell_type": "code",
   "execution_count": 9,
   "id": "67ffa580-cb64-4191-9342-b31149f4176c",
   "metadata": {},
   "outputs": [
    {
     "data": {
      "text/plain": [
       "383.34170854271355"
      ]
     },
     "execution_count": 9,
     "metadata": {},
     "output_type": "execute_result"
    }
   ],
   "source": [
    "extent = 0\n",
    "x = -0.0398\n",
    "b = 15.2570 #using years relative to 2000 data\n",
    "(extent - b) / x"
   ]
  },
  {
   "cell_type": "markdown",
   "id": "714491f0-9a80-47ec-9338-8036456b44b0",
   "metadata": {},
   "source": [
    "By using the calculations for March, the Arctic will be completely ice free by around 2383. Again, by taking into account Note 2, a closer prediction would be between the years 2363-2373."
   ]
  },
  {
   "cell_type": "markdown",
   "id": "8526dab1-01f5-4bc1-bced-33735592e25c",
   "metadata": {},
   "source": [
    "# 2. How is Basketball Game Score Calculated? (45pt)"
   ]
  },
  {
   "cell_type": "markdown",
   "id": "ce5e4c0a-69da-4669-b387-f78b38890b75",
   "metadata": {},
   "source": [
    "## 1. (2pt) Load the data (harden-18-19.csv). Do basic sanity checks."
   ]
  },
  {
   "cell_type": "code",
   "execution_count": 10,
   "id": "e5035ec7-b863-4560-b8ec-073cd32835a9",
   "metadata": {},
   "outputs": [
    {
     "name": "stdout",
     "output_type": "stream",
     "text": [
      "(82, 30)\n"
     ]
    },
    {
     "data": {
      "text/html": [
       "<div>\n",
       "<style scoped>\n",
       "    .dataframe tbody tr th:only-of-type {\n",
       "        vertical-align: middle;\n",
       "    }\n",
       "\n",
       "    .dataframe tbody tr th {\n",
       "        vertical-align: top;\n",
       "    }\n",
       "\n",
       "    .dataframe thead th {\n",
       "        text-align: right;\n",
       "    }\n",
       "</style>\n",
       "<table border=\"1\" class=\"dataframe\">\n",
       "  <thead>\n",
       "    <tr style=\"text-align: right;\">\n",
       "      <th></th>\n",
       "      <th>Rk</th>\n",
       "      <th>G</th>\n",
       "      <th>Date</th>\n",
       "      <th>Age</th>\n",
       "      <th>Tm</th>\n",
       "      <th>Unnamed: 5</th>\n",
       "      <th>Opp</th>\n",
       "      <th>Unnamed: 7</th>\n",
       "      <th>GS</th>\n",
       "      <th>MP</th>\n",
       "      <th>...</th>\n",
       "      <th>DRB</th>\n",
       "      <th>TRB</th>\n",
       "      <th>AST</th>\n",
       "      <th>STL</th>\n",
       "      <th>BLK</th>\n",
       "      <th>TOV</th>\n",
       "      <th>PF</th>\n",
       "      <th>PTS</th>\n",
       "      <th>GmSc</th>\n",
       "      <th>+/-</th>\n",
       "    </tr>\n",
       "  </thead>\n",
       "  <tbody>\n",
       "    <tr>\n",
       "      <th>0</th>\n",
       "      <td>1</td>\n",
       "      <td>1.0</td>\n",
       "      <td>2018-10-17</td>\n",
       "      <td>29-052</td>\n",
       "      <td>HOU</td>\n",
       "      <td>NaN</td>\n",
       "      <td>NOP</td>\n",
       "      <td>L (-19)</td>\n",
       "      <td>1</td>\n",
       "      <td>34:43</td>\n",
       "      <td>...</td>\n",
       "      <td>7</td>\n",
       "      <td>9</td>\n",
       "      <td>10</td>\n",
       "      <td>3</td>\n",
       "      <td>1</td>\n",
       "      <td>4</td>\n",
       "      <td>2</td>\n",
       "      <td>18</td>\n",
       "      <td>18.9</td>\n",
       "      <td>-23</td>\n",
       "    </tr>\n",
       "    <tr>\n",
       "      <th>1</th>\n",
       "      <td>2</td>\n",
       "      <td>2.0</td>\n",
       "      <td>2018-10-20</td>\n",
       "      <td>29-055</td>\n",
       "      <td>HOU</td>\n",
       "      <td>@</td>\n",
       "      <td>LAL</td>\n",
       "      <td>W (+9)</td>\n",
       "      <td>1</td>\n",
       "      <td>37:50</td>\n",
       "      <td>...</td>\n",
       "      <td>6</td>\n",
       "      <td>7</td>\n",
       "      <td>5</td>\n",
       "      <td>2</td>\n",
       "      <td>1</td>\n",
       "      <td>6</td>\n",
       "      <td>2</td>\n",
       "      <td>36</td>\n",
       "      <td>27.0</td>\n",
       "      <td>-3</td>\n",
       "    </tr>\n",
       "    <tr>\n",
       "      <th>2</th>\n",
       "      <td>3</td>\n",
       "      <td>3.0</td>\n",
       "      <td>2018-10-21</td>\n",
       "      <td>29-056</td>\n",
       "      <td>HOU</td>\n",
       "      <td>@</td>\n",
       "      <td>LAC</td>\n",
       "      <td>L (-3)</td>\n",
       "      <td>1</td>\n",
       "      <td>39:45</td>\n",
       "      <td>...</td>\n",
       "      <td>4</td>\n",
       "      <td>4</td>\n",
       "      <td>14</td>\n",
       "      <td>2</td>\n",
       "      <td>0</td>\n",
       "      <td>3</td>\n",
       "      <td>1</td>\n",
       "      <td>31</td>\n",
       "      <td>26.4</td>\n",
       "      <td>+5</td>\n",
       "    </tr>\n",
       "    <tr>\n",
       "      <th>3</th>\n",
       "      <td>4</td>\n",
       "      <td>4.0</td>\n",
       "      <td>2018-10-24</td>\n",
       "      <td>29-059</td>\n",
       "      <td>HOU</td>\n",
       "      <td>NaN</td>\n",
       "      <td>UTA</td>\n",
       "      <td>L (-11)</td>\n",
       "      <td>1</td>\n",
       "      <td>31:38</td>\n",
       "      <td>...</td>\n",
       "      <td>4</td>\n",
       "      <td>5</td>\n",
       "      <td>7</td>\n",
       "      <td>1</td>\n",
       "      <td>0</td>\n",
       "      <td>7</td>\n",
       "      <td>4</td>\n",
       "      <td>29</td>\n",
       "      <td>17.7</td>\n",
       "      <td>-5</td>\n",
       "    </tr>\n",
       "    <tr>\n",
       "      <th>4</th>\n",
       "      <td>5</td>\n",
       "      <td>NaN</td>\n",
       "      <td>2018-10-26</td>\n",
       "      <td>29-061</td>\n",
       "      <td>HOU</td>\n",
       "      <td>NaN</td>\n",
       "      <td>LAC</td>\n",
       "      <td>L (-20)</td>\n",
       "      <td>Inactive</td>\n",
       "      <td>Inactive</td>\n",
       "      <td>...</td>\n",
       "      <td>Inactive</td>\n",
       "      <td>Inactive</td>\n",
       "      <td>Inactive</td>\n",
       "      <td>Inactive</td>\n",
       "      <td>Inactive</td>\n",
       "      <td>Inactive</td>\n",
       "      <td>Inactive</td>\n",
       "      <td>Inactive</td>\n",
       "      <td>Inactive</td>\n",
       "      <td>Inactive</td>\n",
       "    </tr>\n",
       "  </tbody>\n",
       "</table>\n",
       "<p>5 rows × 30 columns</p>\n",
       "</div>"
      ],
      "text/plain": [
       "   Rk    G        Date     Age   Tm Unnamed: 5  Opp Unnamed: 7        GS  \\\n",
       "0   1  1.0  2018-10-17  29-052  HOU        NaN  NOP    L (-19)         1   \n",
       "1   2  2.0  2018-10-20  29-055  HOU          @  LAL     W (+9)         1   \n",
       "2   3  3.0  2018-10-21  29-056  HOU          @  LAC     L (-3)         1   \n",
       "3   4  4.0  2018-10-24  29-059  HOU        NaN  UTA    L (-11)         1   \n",
       "4   5  NaN  2018-10-26  29-061  HOU        NaN  LAC    L (-20)  Inactive   \n",
       "\n",
       "         MP  ...       DRB       TRB       AST       STL       BLK       TOV  \\\n",
       "0     34:43  ...         7         9        10         3         1         4   \n",
       "1     37:50  ...         6         7         5         2         1         6   \n",
       "2     39:45  ...         4         4        14         2         0         3   \n",
       "3     31:38  ...         4         5         7         1         0         7   \n",
       "4  Inactive  ...  Inactive  Inactive  Inactive  Inactive  Inactive  Inactive   \n",
       "\n",
       "         PF       PTS      GmSc       +/-  \n",
       "0         2        18      18.9       -23  \n",
       "1         2        36      27.0        -3  \n",
       "2         1        31      26.4        +5  \n",
       "3         4        29      17.7        -5  \n",
       "4  Inactive  Inactive  Inactive  Inactive  \n",
       "\n",
       "[5 rows x 30 columns]"
      ]
     },
     "execution_count": 10,
     "metadata": {},
     "output_type": "execute_result"
    }
   ],
   "source": [
    "harden = pd.read_csv(\"../data/harden-18-19.csv.bz2\")\n",
    "print(harden.shape)\n",
    "harden.head()"
   ]
  },
  {
   "cell_type": "markdown",
   "id": "b2966436-118c-48cb-b61f-c64d9f4e36ff",
   "metadata": {},
   "source": [
    "## 2. (2pt) How many games did James Harden play in the 2018-2019 season?\n",
    "### Note: the data also includes games where he did not play"
   ]
  },
  {
   "cell_type": "code",
   "execution_count": 11,
   "id": "df2959a3-9133-4ffb-94fc-62d1e9370f30",
   "metadata": {},
   "outputs": [],
   "source": [
    "harden = harden.dropna(subset=['G']) #filtered out the games (G) in the dataset where the value was NaN"
   ]
  },
  {
   "cell_type": "code",
   "execution_count": 12,
   "id": "86be1644-50d8-4412-a25e-3133a7b766ba",
   "metadata": {},
   "outputs": [
    {
     "data": {
      "text/plain": [
       "78"
      ]
     },
     "execution_count": 12,
     "metadata": {},
     "output_type": "execute_result"
    }
   ],
   "source": [
    "harden.shape[0]"
   ]
  },
  {
   "cell_type": "markdown",
   "id": "df389005-c9a6-42fa-a460-7bf720f49163",
   "metadata": {},
   "source": [
    "## 3. (4pt) Clean the data and ensure that the relevant variables are of numeric type so we can use those in regression models. It is your task to find what is wrong with the data in its present form (it is downloaded directly from basketball-reference.com), and fix these issues.\n",
    "### Hint: a good way to transform text to number is pd.to_numeric"
   ]
  },
  {
   "cell_type": "code",
   "execution_count": 13,
   "id": "e6df66ac-7db2-4bae-978e-f0359beab039",
   "metadata": {},
   "outputs": [
    {
     "data": {
      "text/html": [
       "<div>\n",
       "<style scoped>\n",
       "    .dataframe tbody tr th:only-of-type {\n",
       "        vertical-align: middle;\n",
       "    }\n",
       "\n",
       "    .dataframe tbody tr th {\n",
       "        vertical-align: top;\n",
       "    }\n",
       "\n",
       "    .dataframe thead th {\n",
       "        text-align: right;\n",
       "    }\n",
       "</style>\n",
       "<table border=\"1\" class=\"dataframe\">\n",
       "  <thead>\n",
       "    <tr style=\"text-align: right;\">\n",
       "      <th></th>\n",
       "      <th>Rk</th>\n",
       "      <th>G</th>\n",
       "      <th>Date</th>\n",
       "      <th>Age</th>\n",
       "      <th>Tm</th>\n",
       "      <th>Unnamed: 5</th>\n",
       "      <th>Opp</th>\n",
       "      <th>Unnamed: 7</th>\n",
       "      <th>GS</th>\n",
       "      <th>MP</th>\n",
       "      <th>...</th>\n",
       "      <th>DRB</th>\n",
       "      <th>TRB</th>\n",
       "      <th>AST</th>\n",
       "      <th>STL</th>\n",
       "      <th>BLK</th>\n",
       "      <th>TOV</th>\n",
       "      <th>PF</th>\n",
       "      <th>PTS</th>\n",
       "      <th>GmSc</th>\n",
       "      <th>+/-</th>\n",
       "    </tr>\n",
       "  </thead>\n",
       "  <tbody>\n",
       "    <tr>\n",
       "      <th>0</th>\n",
       "      <td>1</td>\n",
       "      <td>1.0</td>\n",
       "      <td>2018-10-17</td>\n",
       "      <td>29-052</td>\n",
       "      <td>HOU</td>\n",
       "      <td>NaN</td>\n",
       "      <td>NOP</td>\n",
       "      <td>L (-19)</td>\n",
       "      <td>1</td>\n",
       "      <td>34:43</td>\n",
       "      <td>...</td>\n",
       "      <td>7</td>\n",
       "      <td>9</td>\n",
       "      <td>10</td>\n",
       "      <td>3</td>\n",
       "      <td>1</td>\n",
       "      <td>4</td>\n",
       "      <td>2</td>\n",
       "      <td>18</td>\n",
       "      <td>18.9</td>\n",
       "      <td>-23</td>\n",
       "    </tr>\n",
       "    <tr>\n",
       "      <th>1</th>\n",
       "      <td>2</td>\n",
       "      <td>2.0</td>\n",
       "      <td>2018-10-20</td>\n",
       "      <td>29-055</td>\n",
       "      <td>HOU</td>\n",
       "      <td>@</td>\n",
       "      <td>LAL</td>\n",
       "      <td>W (+9)</td>\n",
       "      <td>1</td>\n",
       "      <td>37:50</td>\n",
       "      <td>...</td>\n",
       "      <td>6</td>\n",
       "      <td>7</td>\n",
       "      <td>5</td>\n",
       "      <td>2</td>\n",
       "      <td>1</td>\n",
       "      <td>6</td>\n",
       "      <td>2</td>\n",
       "      <td>36</td>\n",
       "      <td>27.0</td>\n",
       "      <td>-3</td>\n",
       "    </tr>\n",
       "    <tr>\n",
       "      <th>2</th>\n",
       "      <td>3</td>\n",
       "      <td>3.0</td>\n",
       "      <td>2018-10-21</td>\n",
       "      <td>29-056</td>\n",
       "      <td>HOU</td>\n",
       "      <td>@</td>\n",
       "      <td>LAC</td>\n",
       "      <td>L (-3)</td>\n",
       "      <td>1</td>\n",
       "      <td>39:45</td>\n",
       "      <td>...</td>\n",
       "      <td>4</td>\n",
       "      <td>4</td>\n",
       "      <td>14</td>\n",
       "      <td>2</td>\n",
       "      <td>0</td>\n",
       "      <td>3</td>\n",
       "      <td>1</td>\n",
       "      <td>31</td>\n",
       "      <td>26.4</td>\n",
       "      <td>+5</td>\n",
       "    </tr>\n",
       "    <tr>\n",
       "      <th>3</th>\n",
       "      <td>4</td>\n",
       "      <td>4.0</td>\n",
       "      <td>2018-10-24</td>\n",
       "      <td>29-059</td>\n",
       "      <td>HOU</td>\n",
       "      <td>NaN</td>\n",
       "      <td>UTA</td>\n",
       "      <td>L (-11)</td>\n",
       "      <td>1</td>\n",
       "      <td>31:38</td>\n",
       "      <td>...</td>\n",
       "      <td>4</td>\n",
       "      <td>5</td>\n",
       "      <td>7</td>\n",
       "      <td>1</td>\n",
       "      <td>0</td>\n",
       "      <td>7</td>\n",
       "      <td>4</td>\n",
       "      <td>29</td>\n",
       "      <td>17.7</td>\n",
       "      <td>-5</td>\n",
       "    </tr>\n",
       "    <tr>\n",
       "      <th>7</th>\n",
       "      <td>8</td>\n",
       "      <td>5.0</td>\n",
       "      <td>2018-11-03</td>\n",
       "      <td>29-069</td>\n",
       "      <td>HOU</td>\n",
       "      <td>@</td>\n",
       "      <td>CHI</td>\n",
       "      <td>W (+8)</td>\n",
       "      <td>1</td>\n",
       "      <td>33:16</td>\n",
       "      <td>...</td>\n",
       "      <td>1</td>\n",
       "      <td>1</td>\n",
       "      <td>7</td>\n",
       "      <td>4</td>\n",
       "      <td>0</td>\n",
       "      <td>8</td>\n",
       "      <td>3</td>\n",
       "      <td>25</td>\n",
       "      <td>15.1</td>\n",
       "      <td>+9</td>\n",
       "    </tr>\n",
       "  </tbody>\n",
       "</table>\n",
       "<p>5 rows × 30 columns</p>\n",
       "</div>"
      ],
      "text/plain": [
       "   Rk    G        Date     Age   Tm Unnamed: 5  Opp Unnamed: 7 GS     MP  ...  \\\n",
       "0   1  1.0  2018-10-17  29-052  HOU        NaN  NOP    L (-19)  1  34:43  ...   \n",
       "1   2  2.0  2018-10-20  29-055  HOU          @  LAL     W (+9)  1  37:50  ...   \n",
       "2   3  3.0  2018-10-21  29-056  HOU          @  LAC     L (-3)  1  39:45  ...   \n",
       "3   4  4.0  2018-10-24  29-059  HOU        NaN  UTA    L (-11)  1  31:38  ...   \n",
       "7   8  5.0  2018-11-03  29-069  HOU          @  CHI     W (+8)  1  33:16  ...   \n",
       "\n",
       "   DRB  TRB AST STL BLK TOV PF PTS  GmSc  +/-  \n",
       "0    7    9  10   3   1   4  2  18  18.9  -23  \n",
       "1    6    7   5   2   1   6  2  36  27.0   -3  \n",
       "2    4    4  14   2   0   3  1  31  26.4   +5  \n",
       "3    4    5   7   1   0   7  4  29  17.7   -5  \n",
       "7    1    1   7   4   0   8  3  25  15.1   +9  \n",
       "\n",
       "[5 rows x 30 columns]"
      ]
     },
     "execution_count": 13,
     "metadata": {},
     "output_type": "execute_result"
    }
   ],
   "source": [
    "harden.GmSc = pd.to_numeric(harden.GmSc)\n",
    "harden.FGA = pd.to_numeric(harden.FGA)\n",
    "harden.FG = pd.to_numeric(harden.FG)\n",
    "\n",
    "harden.head()"
   ]
  },
  {
   "cell_type": "markdown",
   "id": "cb8e1dd2-e04a-45cc-a4e1-de0c8af504b2",
   "metadata": {},
   "source": [
    "## 4. (5pt) Analyze the game score GmSc. What is its distribution? Which distribution does the histogram resemble? Range? Mean? Standard deviation?"
   ]
  },
  {
   "cell_type": "code",
   "execution_count": 14,
   "id": "631a75fc-178d-4bcc-a127-096f9efe6c6f",
   "metadata": {},
   "outputs": [
    {
     "data": {
      "image/png": "[encoded data removed]",
      "text/plain": [
       "<Figure size 432x288 with 1 Axes>"
      ]
     },
     "metadata": {
      "needs_background": "light"
     },
     "output_type": "display_data"
    }
   ],
   "source": [
    "_ = plt.hist(harden.GmSc)"
   ]
  },
  {
   "cell_type": "markdown",
   "id": "68793a12-4241-454d-ac93-ad031e9a4aa3",
   "metadata": {},
   "source": [
    "It looks normally distributed, but it doesn't really look symmetric. There are no skews, but the peak of the histogram is so much greater than the other values."
   ]
  },
  {
   "cell_type": "code",
   "execution_count": 15,
   "id": "5c3a155b-0cf0-48ad-85fb-9ebb53ef481f",
   "metadata": {},
   "outputs": [
    {
     "name": "stdout",
     "output_type": "stream",
     "text": [
      "Mean:  26.708974358974366\n",
      "Range:  51.0\n",
      "Standard Deviation:  10.053883218218113\n"
     ]
    }
   ],
   "source": [
    "print(\"Mean: \", harden.GmSc.mean())\n",
    "print(\"Range: \", harden.GmSc.max() - harden.GmSc.min())\n",
    "print(\"Standard Deviation: \", harden.GmSc.std())"
   ]
  },
  {
   "cell_type": "markdown",
   "id": "4f209c9f-9285-4f2e-9195-186ded157e2f",
   "metadata": {},
   "source": [
    "## 5. (6pt) First, lets run a simple regression model explaining game score GmSc by field goal attempts FGA: \n",
    "## $GmScg = \\beta_0 + \\beta_1 * FGA_g + \\epsilon_g$, where g indexes games. (Call this Model 5)"
   ]
  },
  {
   "cell_type": "code",
   "execution_count": 16,
   "id": "daf5f0ed-12d7-4030-bc7a-a5a1196fb204",
   "metadata": {},
   "outputs": [
    {
     "data": {
      "text/html": [
       "<table class=\"simpletable\">\n",
       "<caption>OLS Regression Results</caption>\n",
       "<tr>\n",
       "  <th>Dep. Variable:</th>          <td>GmSc</td>       <th>  R-squared:         </th> <td>   0.151</td>\n",
       "</tr>\n",
       "<tr>\n",
       "  <th>Model:</th>                   <td>OLS</td>       <th>  Adj. R-squared:    </th> <td>   0.140</td>\n",
       "</tr>\n",
       "<tr>\n",
       "  <th>Method:</th>             <td>Least Squares</td>  <th>  F-statistic:       </th> <td>   13.54</td>\n",
       "</tr>\n",
       "<tr>\n",
       "  <th>Date:</th>             <td>Wed, 16 Feb 2022</td> <th>  Prob (F-statistic):</th> <td>0.000433</td>\n",
       "</tr>\n",
       "<tr>\n",
       "  <th>Time:</th>                 <td>08:11:50</td>     <th>  Log-Likelihood:    </th> <td> -283.80</td>\n",
       "</tr>\n",
       "<tr>\n",
       "  <th>No. Observations:</th>      <td>    78</td>      <th>  AIC:               </th> <td>   571.6</td>\n",
       "</tr>\n",
       "<tr>\n",
       "  <th>Df Residuals:</th>          <td>    76</td>      <th>  BIC:               </th> <td>   576.3</td>\n",
       "</tr>\n",
       "<tr>\n",
       "  <th>Df Model:</th>              <td>     1</td>      <th>                     </th>     <td> </td>   \n",
       "</tr>\n",
       "<tr>\n",
       "  <th>Covariance Type:</th>      <td>nonrobust</td>    <th>                     </th>     <td> </td>   \n",
       "</tr>\n",
       "</table>\n",
       "<table class=\"simpletable\">\n",
       "<tr>\n",
       "      <td></td>         <th>coef</th>     <th>std err</th>      <th>t</th>      <th>P>|t|</th>  <th>[0.025</th>    <th>0.975]</th>  \n",
       "</tr>\n",
       "<tr>\n",
       "  <th>Intercept</th> <td>   11.5963</td> <td>    4.240</td> <td>    2.735</td> <td> 0.008</td> <td>    3.152</td> <td>   20.041</td>\n",
       "</tr>\n",
       "<tr>\n",
       "  <th>FGA</th>       <td>    0.6175</td> <td>    0.168</td> <td>    3.680</td> <td> 0.000</td> <td>    0.283</td> <td>    0.952</td>\n",
       "</tr>\n",
       "</table>\n",
       "<table class=\"simpletable\">\n",
       "<tr>\n",
       "  <th>Omnibus:</th>       <td> 0.602</td> <th>  Durbin-Watson:     </th> <td>   1.884</td>\n",
       "</tr>\n",
       "<tr>\n",
       "  <th>Prob(Omnibus):</th> <td> 0.740</td> <th>  Jarque-Bera (JB):  </th> <td>   0.739</td>\n",
       "</tr>\n",
       "<tr>\n",
       "  <th>Skew:</th>          <td>-0.137</td> <th>  Prob(JB):          </th> <td>   0.691</td>\n",
       "</tr>\n",
       "<tr>\n",
       "  <th>Kurtosis:</th>      <td> 2.609</td> <th>  Cond. No.          </th> <td>    102.</td>\n",
       "</tr>\n",
       "</table><br/><br/>Notes:<br/>[1] Standard Errors assume that the covariance matrix of the errors is correctly specified."
      ],
      "text/plain": [
       "<class 'statsmodels.iolib.summary.Summary'>\n",
       "\"\"\"\n",
       "                            OLS Regression Results                            \n",
       "==============================================================================\n",
       "Dep. Variable:                   GmSc   R-squared:                       0.151\n",
       "Model:                            OLS   Adj. R-squared:                  0.140\n",
       "Method:                 Least Squares   F-statistic:                     13.54\n",
       "Date:                Wed, 16 Feb 2022   Prob (F-statistic):           0.000433\n",
       "Time:                        08:11:50   Log-Likelihood:                -283.80\n",
       "No. Observations:                  78   AIC:                             571.6\n",
       "Df Residuals:                      76   BIC:                             576.3\n",
       "Df Model:                           1                                         \n",
       "Covariance Type:            nonrobust                                         \n",
       "==============================================================================\n",
       "                 coef    std err          t      P>|t|      [0.025      0.975]\n",
       "------------------------------------------------------------------------------\n",
       "Intercept     11.5963      4.240      2.735      0.008       3.152      20.041\n",
       "FGA            0.6175      0.168      3.680      0.000       0.283       0.952\n",
       "==============================================================================\n",
       "Omnibus:                        0.602   Durbin-Watson:                   1.884\n",
       "Prob(Omnibus):                  0.740   Jarque-Bera (JB):                0.739\n",
       "Skew:                          -0.137   Prob(JB):                        0.691\n",
       "Kurtosis:                       2.609   Cond. No.                         102.\n",
       "==============================================================================\n",
       "\n",
       "Notes:\n",
       "[1] Standard Errors assume that the covariance matrix of the errors is correctly specified.\n",
       "\"\"\""
      ]
     },
     "execution_count": 16,
     "metadata": {},
     "output_type": "execute_result"
    }
   ],
   "source": [
    "smf.ols(\"GmSc~FGA\", data=harden).fit().summary()"
   ]
  },
  {
   "cell_type": "markdown",
   "id": "4e6fa9c1-1935-4b1b-905e-469c2d1634f6",
   "metadata": {},
   "source": [
    "### a. What is the interpretation of Intercept ($B0$)?\n",
    "The intercept is saying that even when Harden does not have any Field Goal Attempts, he is still expected to get about 12 points (rounded).\n",
    "### b. What is the interpretation of FGA ($B1$)? Is it statistically significant?\n",
    "For each Field Goal Attempted, the game score increases by 0.6175. However, this is not possible in this scenario because a field goal basket is worth 2 or 3 points, depending on where the player shoots from. So, the player would to do atleast 4 FGA in order to get points towards the game score. \n",
    "\n",
    "This is statistically significant because the p-value is less than 0.05, which is the significance level. In addition, the null hypothesis ($H0$ = 0) is not in the confidence interval. With this, we can reject $H0$, making the test statistically significant"
   ]
  },
  {
   "cell_type": "markdown",
   "id": "d6c9563e-a42f-4aed-b94e-898f820b62e6",
   "metadata": {},
   "source": [
    "## 6. (12pt) Next, lets analyse how is game score (GmSc) related to field goals (FG) and field goal attempts (FGA). Estimate the model: GmScg = $\\beta_0 + \\beta_1 * FG_g + \\beta_2 * FGA_g + \\epsilon_g$ (Call this Model 6). If done correctly, you should see results approximately 6.9, 3.4, -0.7. Answer the following questions:"
   ]
  },
  {
   "cell_type": "code",
   "execution_count": 109,
   "id": "75d6c980-d588-43b8-b497-aed4972877c4",
   "metadata": {},
   "outputs": [
    {
     "data": {
      "text/html": [
       "<table class=\"simpletable\">\n",
       "<caption>OLS Regression Results</caption>\n",
       "<tr>\n",
       "  <th>Dep. Variable:</th>          <td>GmSc</td>       <th>  R-squared:         </th> <td>   0.573</td>\n",
       "</tr>\n",
       "<tr>\n",
       "  <th>Model:</th>                   <td>OLS</td>       <th>  Adj. R-squared:    </th> <td>   0.562</td>\n",
       "</tr>\n",
       "<tr>\n",
       "  <th>Method:</th>             <td>Least Squares</td>  <th>  F-statistic:       </th> <td>   50.42</td>\n",
       "</tr>\n",
       "<tr>\n",
       "  <th>Date:</th>             <td>Wed, 16 Feb 2022</td> <th>  Prob (F-statistic):</th> <td>1.33e-14</td>\n",
       "</tr>\n",
       "<tr>\n",
       "  <th>Time:</th>                 <td>06:05:50</td>     <th>  Log-Likelihood:    </th> <td> -256.97</td>\n",
       "</tr>\n",
       "<tr>\n",
       "  <th>No. Observations:</th>      <td>    78</td>      <th>  AIC:               </th> <td>   519.9</td>\n",
       "</tr>\n",
       "<tr>\n",
       "  <th>Df Residuals:</th>          <td>    75</td>      <th>  BIC:               </th> <td>   527.0</td>\n",
       "</tr>\n",
       "<tr>\n",
       "  <th>Df Model:</th>              <td>     2</td>      <th>                     </th>     <td> </td>   \n",
       "</tr>\n",
       "<tr>\n",
       "  <th>Covariance Type:</th>      <td>nonrobust</td>    <th>                     </th>     <td> </td>   \n",
       "</tr>\n",
       "</table>\n",
       "<table class=\"simpletable\">\n",
       "<tr>\n",
       "      <td></td>         <th>coef</th>     <th>std err</th>      <th>t</th>      <th>P>|t|</th>  <th>[0.025</th>    <th>0.975]</th>  \n",
       "</tr>\n",
       "<tr>\n",
       "  <th>Intercept</th> <td>    6.8608</td> <td>    3.075</td> <td>    2.231</td> <td> 0.029</td> <td>    0.735</td> <td>   12.987</td>\n",
       "</tr>\n",
       "<tr>\n",
       "  <th>FG</th>        <td>    3.4082</td> <td>    0.396</td> <td>    8.616</td> <td> 0.000</td> <td>    2.620</td> <td>    4.196</td>\n",
       "</tr>\n",
       "<tr>\n",
       "  <th>FGA</th>       <td>   -0.6940</td> <td>    0.194</td> <td>   -3.584</td> <td> 0.001</td> <td>   -1.080</td> <td>   -0.308</td>\n",
       "</tr>\n",
       "</table>\n",
       "<table class=\"simpletable\">\n",
       "<tr>\n",
       "  <th>Omnibus:</th>       <td> 2.958</td> <th>  Durbin-Watson:     </th> <td>   1.880</td>\n",
       "</tr>\n",
       "<tr>\n",
       "  <th>Prob(Omnibus):</th> <td> 0.228</td> <th>  Jarque-Bera (JB):  </th> <td>   1.904</td>\n",
       "</tr>\n",
       "<tr>\n",
       "  <th>Skew:</th>          <td> 0.154</td> <th>  Prob(JB):          </th> <td>   0.386</td>\n",
       "</tr>\n",
       "<tr>\n",
       "  <th>Kurtosis:</th>      <td> 2.299</td> <th>  Cond. No.          </th> <td>    113.</td>\n",
       "</tr>\n",
       "</table><br/><br/>Notes:<br/>[1] Standard Errors assume that the covariance matrix of the errors is correctly specified."
      ],
      "text/plain": [
       "<class 'statsmodels.iolib.summary.Summary'>\n",
       "\"\"\"\n",
       "                            OLS Regression Results                            \n",
       "==============================================================================\n",
       "Dep. Variable:                   GmSc   R-squared:                       0.573\n",
       "Model:                            OLS   Adj. R-squared:                  0.562\n",
       "Method:                 Least Squares   F-statistic:                     50.42\n",
       "Date:                Wed, 16 Feb 2022   Prob (F-statistic):           1.33e-14\n",
       "Time:                        06:05:50   Log-Likelihood:                -256.97\n",
       "No. Observations:                  78   AIC:                             519.9\n",
       "Df Residuals:                      75   BIC:                             527.0\n",
       "Df Model:                           2                                         \n",
       "Covariance Type:            nonrobust                                         \n",
       "==============================================================================\n",
       "                 coef    std err          t      P>|t|      [0.025      0.975]\n",
       "------------------------------------------------------------------------------\n",
       "Intercept      6.8608      3.075      2.231      0.029       0.735      12.987\n",
       "FG             3.4082      0.396      8.616      0.000       2.620       4.196\n",
       "FGA           -0.6940      0.194     -3.584      0.001      -1.080      -0.308\n",
       "==============================================================================\n",
       "Omnibus:                        2.958   Durbin-Watson:                   1.880\n",
       "Prob(Omnibus):                  0.228   Jarque-Bera (JB):                1.904\n",
       "Skew:                           0.154   Prob(JB):                        0.386\n",
       "Kurtosis:                       2.299   Cond. No.                         113.\n",
       "==============================================================================\n",
       "\n",
       "Notes:\n",
       "[1] Standard Errors assume that the covariance matrix of the errors is correctly specified.\n",
       "\"\"\""
      ]
     },
     "execution_count": 109,
     "metadata": {},
     "output_type": "execute_result"
    }
   ],
   "source": [
    "smf.ols(\"GmSc~FG + FGA\", data=harden).fit().summary()"
   ]
  },
  {
   "cell_type": "markdown",
   "id": "59a928da-2966-43b3-a4bc-d920ec354b6e",
   "metadata": {},
   "source": [
    "### (a) What is the interpretation of $FG$? Is it statistically significant?"
   ]
  },
  {
   "cell_type": "markdown",
   "id": "50a31da7-e7ae-4a80-8b7f-11b9beca2cab",
   "metadata": {},
   "source": [
    "For each field goals scored, the game score increases by around 3 points (rounded). With $H0$: FG=0, it is not in the confidence interval of [2.620, 4.196], meaning we can reject $H0$. In addition, the p-value is less than the significant level of 0.05, and the t-value is fairly large and is above the tcritical value, meaning we further reject the $H0$ (t-crit is found in the following pdf: https://yuppal.people.ysu.edu/econ_3790/t-table.pdf). This is statistically significant. "
   ]
  },
  {
   "cell_type": "markdown",
   "id": "9bd4d8e3-16b6-4e6e-9b0f-68034e5f2fb1",
   "metadata": {},
   "source": [
    "### (b) What is the interpretation of $FGA$ ($\\beta 2$)? Is it statistically significant?"
   ]
  },
  {
   "cell_type": "markdown",
   "id": "ed051b5e-b755-447a-9fc7-4f44d6fb4a71",
   "metadata": {},
   "source": [
    "Each time Harden attempts a field goal, the game score decreases by 0.6940 if the field goals (FG) remains the same. This is statistically significant because $H0$: $FGA$ = 0. $H0$ is not in the confidence interval, its p-value is less than the significance level of 0.05, and the t-value is larger than the t-critical. However, this doesn't seem to make any sense, since it is not possible to earn negative points in basketball. Specifically, it makes no sense that Harden would lose 0.69 points for every time he made a field goal attempt"
   ]
  },
  {
   "cell_type": "markdown",
   "id": "dba50732-843c-47d9-8e62-98d2ac0c8636",
   "metadata": {},
   "source": [
    "## (c) How do you explain the fact that model 5 shows positive and model 6 shows a negative estimate for FGA? There is a very easy an intuitive explanation that everyone will understand. Can you figure out what it is?\n",
    "In model 5, it is only taking into account Field Goal Attempt (FGA) and the Game Score (GmSc). It would make sense for FGA to have a positive coefficient because we are not taking into account anything else. However, in model 6, we are taking into account both Field Goal (FG) and FGA. If FG remains the same and FGA increases, then that means that the Harden missed his FGs. \n"
   ]
  },
  {
   "cell_type": "markdown",
   "id": "43f544cb-ddc4-45b8-b1c4-c265feef3212",
   "metadata": {},
   "source": [
    "## (d) What is the R2 of the model? How does it compare to the model 5? What do you conclude from this comparison?"
   ]
  },
  {
   "cell_type": "markdown",
   "id": "f48ba2c5-e1ae-45fa-9e10-e68a65e86c72",
   "metadata": {},
   "source": [
    "Model 5 $R^2$: 0.151\n",
    "\n",
    "Model 6 $R^2$: 0.572\n",
    "\n",
    "The $R^2$ value is larger on Model 6 than it is for Model 5. Model 6 explains about 57% of the variation in the data. I think that it is safe to say that the the multiple regression model is able to explain the GmSc result better than the single regression model."
   ]
  },
  {
   "cell_type": "markdown",
   "id": "979b7366-9b8b-4838-88ea-1104d036b3f4",
   "metadata": {},
   "source": [
    "## 7. (9pt) Now include all the independent numerical variables, i.e. FG, FGA, 3P, 3PA, FT, FTA, ORB, DRB, AST, STL, BLK, TOV, PF into the model. Estimate it, and discuss the results. Answer the following questions:"
   ]
  },
  {
   "cell_type": "code",
   "execution_count": 88,
   "id": "4d9b2339-58e5-45bc-86f7-2fce7ab029ba",
   "metadata": {},
   "outputs": [
    {
     "data": {
      "text/html": [
       "<div>\n",
       "<style scoped>\n",
       "    .dataframe tbody tr th:only-of-type {\n",
       "        vertical-align: middle;\n",
       "    }\n",
       "\n",
       "    .dataframe tbody tr th {\n",
       "        vertical-align: top;\n",
       "    }\n",
       "\n",
       "    .dataframe thead th {\n",
       "        text-align: right;\n",
       "    }\n",
       "</style>\n",
       "<table border=\"1\" class=\"dataframe\">\n",
       "  <thead>\n",
       "    <tr style=\"text-align: right;\">\n",
       "      <th></th>\n",
       "      <th>Rk</th>\n",
       "      <th>G</th>\n",
       "      <th>Date</th>\n",
       "      <th>Age</th>\n",
       "      <th>Tm</th>\n",
       "      <th>Unnamed: 5</th>\n",
       "      <th>Opp</th>\n",
       "      <th>Unnamed: 7</th>\n",
       "      <th>GS</th>\n",
       "      <th>MP</th>\n",
       "      <th>...</th>\n",
       "      <th>DRB</th>\n",
       "      <th>TRB</th>\n",
       "      <th>AST</th>\n",
       "      <th>STL</th>\n",
       "      <th>BLK</th>\n",
       "      <th>TOV</th>\n",
       "      <th>PF</th>\n",
       "      <th>PTS</th>\n",
       "      <th>GmSc</th>\n",
       "      <th>+/-</th>\n",
       "    </tr>\n",
       "  </thead>\n",
       "  <tbody>\n",
       "    <tr>\n",
       "      <th>0</th>\n",
       "      <td>1</td>\n",
       "      <td>1.0</td>\n",
       "      <td>2018-10-17</td>\n",
       "      <td>29-052</td>\n",
       "      <td>HOU</td>\n",
       "      <td>NaN</td>\n",
       "      <td>NOP</td>\n",
       "      <td>L (-19)</td>\n",
       "      <td>1</td>\n",
       "      <td>34:43</td>\n",
       "      <td>...</td>\n",
       "      <td>7</td>\n",
       "      <td>9</td>\n",
       "      <td>10</td>\n",
       "      <td>3</td>\n",
       "      <td>1</td>\n",
       "      <td>4</td>\n",
       "      <td>2</td>\n",
       "      <td>18</td>\n",
       "      <td>18.9</td>\n",
       "      <td>-23</td>\n",
       "    </tr>\n",
       "    <tr>\n",
       "      <th>1</th>\n",
       "      <td>2</td>\n",
       "      <td>2.0</td>\n",
       "      <td>2018-10-20</td>\n",
       "      <td>29-055</td>\n",
       "      <td>HOU</td>\n",
       "      <td>@</td>\n",
       "      <td>LAL</td>\n",
       "      <td>W (+9)</td>\n",
       "      <td>1</td>\n",
       "      <td>37:50</td>\n",
       "      <td>...</td>\n",
       "      <td>6</td>\n",
       "      <td>7</td>\n",
       "      <td>5</td>\n",
       "      <td>2</td>\n",
       "      <td>1</td>\n",
       "      <td>6</td>\n",
       "      <td>2</td>\n",
       "      <td>36</td>\n",
       "      <td>27.0</td>\n",
       "      <td>-3</td>\n",
       "    </tr>\n",
       "    <tr>\n",
       "      <th>2</th>\n",
       "      <td>3</td>\n",
       "      <td>3.0</td>\n",
       "      <td>2018-10-21</td>\n",
       "      <td>29-056</td>\n",
       "      <td>HOU</td>\n",
       "      <td>@</td>\n",
       "      <td>LAC</td>\n",
       "      <td>L (-3)</td>\n",
       "      <td>1</td>\n",
       "      <td>39:45</td>\n",
       "      <td>...</td>\n",
       "      <td>4</td>\n",
       "      <td>4</td>\n",
       "      <td>14</td>\n",
       "      <td>2</td>\n",
       "      <td>0</td>\n",
       "      <td>3</td>\n",
       "      <td>1</td>\n",
       "      <td>31</td>\n",
       "      <td>26.4</td>\n",
       "      <td>+5</td>\n",
       "    </tr>\n",
       "    <tr>\n",
       "      <th>3</th>\n",
       "      <td>4</td>\n",
       "      <td>4.0</td>\n",
       "      <td>2018-10-24</td>\n",
       "      <td>29-059</td>\n",
       "      <td>HOU</td>\n",
       "      <td>NaN</td>\n",
       "      <td>UTA</td>\n",
       "      <td>L (-11)</td>\n",
       "      <td>1</td>\n",
       "      <td>31:38</td>\n",
       "      <td>...</td>\n",
       "      <td>4</td>\n",
       "      <td>5</td>\n",
       "      <td>7</td>\n",
       "      <td>1</td>\n",
       "      <td>0</td>\n",
       "      <td>7</td>\n",
       "      <td>4</td>\n",
       "      <td>29</td>\n",
       "      <td>17.7</td>\n",
       "      <td>-5</td>\n",
       "    </tr>\n",
       "    <tr>\n",
       "      <th>7</th>\n",
       "      <td>8</td>\n",
       "      <td>5.0</td>\n",
       "      <td>2018-11-03</td>\n",
       "      <td>29-069</td>\n",
       "      <td>HOU</td>\n",
       "      <td>@</td>\n",
       "      <td>CHI</td>\n",
       "      <td>W (+8)</td>\n",
       "      <td>1</td>\n",
       "      <td>33:16</td>\n",
       "      <td>...</td>\n",
       "      <td>1</td>\n",
       "      <td>1</td>\n",
       "      <td>7</td>\n",
       "      <td>4</td>\n",
       "      <td>0</td>\n",
       "      <td>8</td>\n",
       "      <td>3</td>\n",
       "      <td>25</td>\n",
       "      <td>15.1</td>\n",
       "      <td>+9</td>\n",
       "    </tr>\n",
       "  </tbody>\n",
       "</table>\n",
       "<p>5 rows × 30 columns</p>\n",
       "</div>"
      ],
      "text/plain": [
       "   Rk    G        Date     Age   Tm Unnamed: 5  Opp Unnamed: 7 GS     MP  ...  \\\n",
       "0   1  1.0  2018-10-17  29-052  HOU        NaN  NOP    L (-19)  1  34:43  ...   \n",
       "1   2  2.0  2018-10-20  29-055  HOU          @  LAL     W (+9)  1  37:50  ...   \n",
       "2   3  3.0  2018-10-21  29-056  HOU          @  LAC     L (-3)  1  39:45  ...   \n",
       "3   4  4.0  2018-10-24  29-059  HOU        NaN  UTA    L (-11)  1  31:38  ...   \n",
       "7   8  5.0  2018-11-03  29-069  HOU          @  CHI     W (+8)  1  33:16  ...   \n",
       "\n",
       "   DRB  TRB AST  STL  BLK TOV  PF  PTS  GmSc  +/-  \n",
       "0    7    9  10    3    1   4   2   18  18.9  -23  \n",
       "1    6    7   5    2    1   6   2   36  27.0   -3  \n",
       "2    4    4  14    2    0   3   1   31  26.4   +5  \n",
       "3    4    5   7    1    0   7   4   29  17.7   -5  \n",
       "7    1    1   7    4    0   8   3   25  15.1   +9  \n",
       "\n",
       "[5 rows x 30 columns]"
      ]
     },
     "execution_count": 88,
     "metadata": {},
     "output_type": "execute_result"
    }
   ],
   "source": [
    "cols = ['FG', 'FGA', '3P', '3PA', 'FT', 'FTA', 'ORB', 'DRB', 'AST', 'STL', 'BLK', 'TOV', 'PF', 'PTS']\n",
    "harden[cols] = harden[cols].apply(pd.to_numeric, errors='coerce')\n",
    "harden.head()"
   ]
  },
  {
   "cell_type": "code",
   "execution_count": 90,
   "id": "ca72a4ee-f9d4-4294-9330-72bdcef22401",
   "metadata": {},
   "outputs": [
    {
     "data": {
      "text/html": [
       "<table class=\"simpletable\">\n",
       "<caption>OLS Regression Results</caption>\n",
       "<tr>\n",
       "  <th>Dep. Variable:</th>          <td>GmSc</td>       <th>  R-squared:         </th> <td>   1.000</td> \n",
       "</tr>\n",
       "<tr>\n",
       "  <th>Model:</th>                   <td>OLS</td>       <th>  Adj. R-squared:    </th> <td>   1.000</td> \n",
       "</tr>\n",
       "<tr>\n",
       "  <th>Method:</th>             <td>Least Squares</td>  <th>  F-statistic:       </th> <td>9.407e+28</td>\n",
       "</tr>\n",
       "<tr>\n",
       "  <th>Date:</th>             <td>Wed, 16 Feb 2022</td> <th>  Prob (F-statistic):</th>  <td>  0.00</td>  \n",
       "</tr>\n",
       "<tr>\n",
       "  <th>Time:</th>                 <td>04:53:43</td>     <th>  Log-Likelihood:    </th> <td>  2249.5</td> \n",
       "</tr>\n",
       "<tr>\n",
       "  <th>No. Observations:</th>      <td>    78</td>      <th>  AIC:               </th> <td>  -4471.</td> \n",
       "</tr>\n",
       "<tr>\n",
       "  <th>Df Residuals:</th>          <td>    64</td>      <th>  BIC:               </th> <td>  -4438.</td> \n",
       "</tr>\n",
       "<tr>\n",
       "  <th>Df Model:</th>              <td>    13</td>      <th>                     </th>     <td> </td>    \n",
       "</tr>\n",
       "<tr>\n",
       "  <th>Covariance Type:</th>      <td>nonrobust</td>    <th>                     </th>     <td> </td>    \n",
       "</tr>\n",
       "</table>\n",
       "<table class=\"simpletable\">\n",
       "<tr>\n",
       "      <td></td>         <th>coef</th>     <th>std err</th>      <th>t</th>      <th>P>|t|</th>  <th>[0.025</th>    <th>0.975]</th>  \n",
       "</tr>\n",
       "<tr>\n",
       "  <th>Intercept</th> <td> 1.421e-14</td> <td> 5.65e-14</td> <td>    0.251</td> <td> 0.802</td> <td>-9.87e-14</td> <td> 1.27e-13</td>\n",
       "</tr>\n",
       "<tr>\n",
       "  <th>FG</th>        <td>    0.3429</td> <td> 5.72e-15</td> <td> 5.99e+13</td> <td> 0.000</td> <td>    0.343</td> <td>    0.343</td>\n",
       "</tr>\n",
       "<tr>\n",
       "  <th>FGA</th>       <td>   -0.7000</td> <td> 3.96e-15</td> <td>-1.77e+14</td> <td> 0.000</td> <td>   -0.700</td> <td>   -0.700</td>\n",
       "</tr>\n",
       "<tr>\n",
       "  <th>ThrPoint</th>  <td>   -0.0286</td> <td> 7.87e-15</td> <td>-3.63e+12</td> <td> 0.000</td> <td>   -0.029</td> <td>   -0.029</td>\n",
       "</tr>\n",
       "<tr>\n",
       "  <th>ThrPointA</th> <td> 2.442e-15</td> <td> 5.16e-15</td> <td>    0.473</td> <td> 0.638</td> <td>-7.86e-15</td> <td> 1.27e-14</td>\n",
       "</tr>\n",
       "<tr>\n",
       "  <th>FT</th>        <td>    0.3714</td> <td> 7.97e-15</td> <td> 4.66e+13</td> <td> 0.000</td> <td>    0.371</td> <td>    0.371</td>\n",
       "</tr>\n",
       "<tr>\n",
       "  <th>FTA</th>       <td>   -0.4000</td> <td> 8.14e-15</td> <td>-4.91e+13</td> <td> 0.000</td> <td>   -0.400</td> <td>   -0.400</td>\n",
       "</tr>\n",
       "<tr>\n",
       "  <th>ORB</th>       <td>    0.7000</td> <td> 1.05e-14</td> <td> 6.64e+13</td> <td> 0.000</td> <td>    0.700</td> <td>    0.700</td>\n",
       "</tr>\n",
       "<tr>\n",
       "  <th>DRB</th>       <td>    0.3000</td> <td> 3.95e-15</td> <td> 7.59e+13</td> <td> 0.000</td> <td>    0.300</td> <td>    0.300</td>\n",
       "</tr>\n",
       "<tr>\n",
       "  <th>AST</th>       <td>    0.7000</td> <td> 2.95e-15</td> <td> 2.38e+14</td> <td> 0.000</td> <td>    0.700</td> <td>    0.700</td>\n",
       "</tr>\n",
       "<tr>\n",
       "  <th>STL</th>       <td>    1.0000</td> <td> 6.72e-15</td> <td> 1.49e+14</td> <td> 0.000</td> <td>    1.000</td> <td>    1.000</td>\n",
       "</tr>\n",
       "<tr>\n",
       "  <th>BLK</th>       <td>    0.7000</td> <td> 1.22e-14</td> <td> 5.71e+13</td> <td> 0.000</td> <td>    0.700</td> <td>    0.700</td>\n",
       "</tr>\n",
       "<tr>\n",
       "  <th>TOV</th>       <td>   -1.0000</td> <td> 4.98e-15</td> <td>-2.01e+14</td> <td> 0.000</td> <td>   -1.000</td> <td>   -1.000</td>\n",
       "</tr>\n",
       "<tr>\n",
       "  <th>PF</th>        <td>   -0.4000</td> <td> 7.56e-15</td> <td>-5.29e+13</td> <td> 0.000</td> <td>   -0.400</td> <td>   -0.400</td>\n",
       "</tr>\n",
       "<tr>\n",
       "  <th>PTS</th>       <td>    1.0286</td> <td> 1.88e-15</td> <td> 5.48e+14</td> <td> 0.000</td> <td>    1.029</td> <td>    1.029</td>\n",
       "</tr>\n",
       "</table>\n",
       "<table class=\"simpletable\">\n",
       "<tr>\n",
       "  <th>Omnibus:</th>       <td> 0.516</td> <th>  Durbin-Watson:     </th> <td>   0.070</td>\n",
       "</tr>\n",
       "<tr>\n",
       "  <th>Prob(Omnibus):</th> <td> 0.773</td> <th>  Jarque-Bera (JB):  </th> <td>   0.652</td>\n",
       "</tr>\n",
       "<tr>\n",
       "  <th>Skew:</th>          <td>-0.074</td> <th>  Prob(JB):          </th> <td>   0.722</td>\n",
       "</tr>\n",
       "<tr>\n",
       "  <th>Kurtosis:</th>      <td> 2.577</td> <th>  Cond. No.          </th> <td>4.04e+16</td>\n",
       "</tr>\n",
       "</table><br/><br/>Notes:<br/>[1] Standard Errors assume that the covariance matrix of the errors is correctly specified.<br/>[2] The smallest eigenvalue is 1.3e-28. This might indicate that there are<br/>strong multicollinearity problems or that the design matrix is singular."
      ],
      "text/plain": [
       "<class 'statsmodels.iolib.summary.Summary'>\n",
       "\"\"\"\n",
       "                            OLS Regression Results                            \n",
       "==============================================================================\n",
       "Dep. Variable:                   GmSc   R-squared:                       1.000\n",
       "Model:                            OLS   Adj. R-squared:                  1.000\n",
       "Method:                 Least Squares   F-statistic:                 9.407e+28\n",
       "Date:                Wed, 16 Feb 2022   Prob (F-statistic):               0.00\n",
       "Time:                        04:53:43   Log-Likelihood:                 2249.5\n",
       "No. Observations:                  78   AIC:                            -4471.\n",
       "Df Residuals:                      64   BIC:                            -4438.\n",
       "Df Model:                          13                                         \n",
       "Covariance Type:            nonrobust                                         \n",
       "==============================================================================\n",
       "                 coef    std err          t      P>|t|      [0.025      0.975]\n",
       "------------------------------------------------------------------------------\n",
       "Intercept   1.421e-14   5.65e-14      0.251      0.802   -9.87e-14    1.27e-13\n",
       "FG             0.3429   5.72e-15   5.99e+13      0.000       0.343       0.343\n",
       "FGA           -0.7000   3.96e-15  -1.77e+14      0.000      -0.700      -0.700\n",
       "ThrPoint      -0.0286   7.87e-15  -3.63e+12      0.000      -0.029      -0.029\n",
       "ThrPointA   2.442e-15   5.16e-15      0.473      0.638   -7.86e-15    1.27e-14\n",
       "FT             0.3714   7.97e-15   4.66e+13      0.000       0.371       0.371\n",
       "FTA           -0.4000   8.14e-15  -4.91e+13      0.000      -0.400      -0.400\n",
       "ORB            0.7000   1.05e-14   6.64e+13      0.000       0.700       0.700\n",
       "DRB            0.3000   3.95e-15   7.59e+13      0.000       0.300       0.300\n",
       "AST            0.7000   2.95e-15   2.38e+14      0.000       0.700       0.700\n",
       "STL            1.0000   6.72e-15   1.49e+14      0.000       1.000       1.000\n",
       "BLK            0.7000   1.22e-14   5.71e+13      0.000       0.700       0.700\n",
       "TOV           -1.0000   4.98e-15  -2.01e+14      0.000      -1.000      -1.000\n",
       "PF            -0.4000   7.56e-15  -5.29e+13      0.000      -0.400      -0.400\n",
       "PTS            1.0286   1.88e-15   5.48e+14      0.000       1.029       1.029\n",
       "==============================================================================\n",
       "Omnibus:                        0.516   Durbin-Watson:                   0.070\n",
       "Prob(Omnibus):                  0.773   Jarque-Bera (JB):                0.652\n",
       "Skew:                          -0.074   Prob(JB):                        0.722\n",
       "Kurtosis:                       2.577   Cond. No.                     4.04e+16\n",
       "==============================================================================\n",
       "\n",
       "Notes:\n",
       "[1] Standard Errors assume that the covariance matrix of the errors is correctly specified.\n",
       "[2] The smallest eigenvalue is 1.3e-28. This might indicate that there are\n",
       "strong multicollinearity problems or that the design matrix is singular.\n",
       "\"\"\""
      ]
     },
     "execution_count": 90,
     "metadata": {},
     "output_type": "execute_result"
    }
   ],
   "source": [
    "harden.rename(columns={'3P':'ThrPoint', '3PA':'ThrPointA' }, inplace=True)\n",
    "smf.ols(\"GmSc ~ FG + FGA + ThrPoint + ThrPointA + FT + FTA + ORB + DRB + AST + STL + BLK + TOV + PF + PTS\", data=harden).fit().summary()"
   ]
  },
  {
   "cell_type": "markdown",
   "id": "ead3d1bc-0cdd-4c27-acfe-38e33868d07c",
   "metadata": {},
   "source": [
    "### (a) How do standard errors and t-values look like in this model?"
   ]
  },
  {
   "cell_type": "markdown",
   "id": "2eb2ac90-9b93-4344-b108-a67ed7cae0ae",
   "metadata": {},
   "source": [
    "The t-value is very big, and the standard error is very small/"
   ]
  },
  {
   "cell_type": "markdown",
   "id": "cab9944a-ff62-4d96-a853-49e9d526f751",
   "metadata": {},
   "source": [
    "### (b) What is $R^2$ of this model? What does it tell you about how game score is calculated?"
   ]
  },
  {
   "cell_type": "markdown",
   "id": "ca0a32d7-6dee-49c5-9e10-acf6492109c6",
   "metadata": {},
   "source": [
    "The $R^2$ of this model is 1. This means that 100% of the variation in the data set can be explained by the variables above. The plot perfectly matches the regression line. The score of the game is dependent on the variables above."
   ]
  },
  {
   "cell_type": "markdown",
   "id": "46b4708a-3d13-4c89-9d20-c0ff4a07b8c0",
   "metadata": {},
   "source": [
    "### (c) What do the results tell about turnover (TOV)? Is it good or bad for the team?"
   ]
  },
  {
   "cell_type": "markdown",
   "id": "c1d8152f-dea1-47a1-8608-c1c5a1b97e3e",
   "metadata": {},
   "source": [
    "With all things being equal, for each turnover, the team loses 1 point. This is bad for the team."
   ]
  },
  {
   "cell_type": "markdown",
   "id": "24b15493-9134-4515-a88c-697931b02606",
   "metadata": {},
   "source": [
    "## 8. (5pt)  Finally, consult the game score explanation at https://www.nbastuffer.com/analytics101/game-score/. Did you recover the same formula?"
   ]
  },
  {
   "cell_type": "markdown",
   "id": "ba8ee490-c9c8-4576-be58-11260cb9973f",
   "metadata": {},
   "source": [
    "Game Score Formula=(Points)+0.4*(Field Goals Made)+0.7*(Offensive Rebounds)+0.3*(Defensive rebounds)+(Steals)+0.7*(Assists)+0.7*(Blocked Shots)- 0.7*(Field Goal Attempts)-0.4*(Free Throws Missed) – 0.4*(Personal Fouls)-(Turnovers)"
   ]
  },
  {
   "cell_type": "markdown",
   "id": "d5d1bac2-9fc6-4719-b85c-3e638704dfc8",
   "metadata": {},
   "source": [
    "|Variable| My results |  NBA  |\n",
    "| :----: | :--------: |:-----:|\n",
    "| Points |   1.0286   |   1   |\n",
    "|   FG   |   0.3429   |  0.4  | \n",
    "|   FGA  |    -.7     |  -.7  |\n",
    "|   3PT  |   -.0286   |   --  |\n",
    "|  3PTA  |      0     |   --  |\n",
    "|   FT   |    .3714   |   --  |\n",
    "|   FTA  |     -.4    |  -.4  |\n",
    "|   ORB  |     .7     |   .7  |\n",
    "|   DRB  |     .3     |   .3  |\n",
    "|   AST  |     .7     |   .7  |\n",
    "|   STL  |      1     |   1   |\n",
    "|   BLK  |     .7     |   .7  |\n",
    "|   TOV  |     -1     |   -1  |\n",
    "|   PF   |     -.4    |  -.4  |"
   ]
  },
  {
   "cell_type": "markdown",
   "id": "b2904e6a-9b6f-45ff-b8e6-5e9b248e35a0",
   "metadata": {},
   "source": [
    "The results I got from my regression model was very close to the ones in the link. All of the coefficients were either exactly the same, or very close to the ones in the link. However, the variables $3PT, 3PTA, FT$ weren't in the formula."
   ]
  },
  {
   "cell_type": "markdown",
   "id": "defc0d14-176d-47f4-8a7d-28ed09bada99",
   "metadata": {},
   "source": [
    "# 3. Interpret regression results in the literature (10pt)"
   ]
  },
  {
   "cell_type": "markdown",
   "id": "188ddee6-ac21-4816-926b-955832645941",
   "metadata": {},
   "source": [
    "## 1. (3pt) Do those who have a partner have better mental health (as measured by PHQ-9)? Is the effect statistically significant?\n",
    "With other things being equal, those who have a partner seem to have better mental health than those who don't. For this interpretation, it is best to think the smaller the coefficient, the better. This test is not statistically significant because the p-value (.150) is bigger than the significant level of 0.05.\n",
    "\n",
    "## 2. (4pt) What is the effect of COVID exposure? Is it improving or worsening mental health? Is the effect statistically significant?\n",
    "With other things being equal, the COVID exposure has resulted in worst mental health. As with the above question, the p-value of .129 is bigger than the significant level of 0.05, so this test is not statistically significant.\n",
    "\n",
    "## 3. (3pt) How is Financial distress related to mental health? Is the effect statistically significant?\n",
    "With other things being equal, financial distress has caused worsening of mental health. It is one of the largest positive numbers. This is statistically significant because the p-value associated with this variable is <.001, which is less than the significant value, meaning we can reject $H0$"
   ]
  },
  {
   "cell_type": "markdown",
   "id": "b6af4367-cbf6-415b-98f1-a3ddd36fe1ce",
   "metadata": {},
   "source": [
    "# Finally tell us how many hours did you spend on this PS.\n",
    "Around 6 hours"
   ]
  },
  {
   "cell_type": "code",
   "execution_count": null,
   "id": "b53d9290-a2e7-464f-84d7-4eb4c18b02fd",
   "metadata": {},
   "outputs": [],
   "source": []
  }
 ],
 "metadata": {
  "kernelspec": {
   "display_name": "Python 3 (ipykernel)",
   "language": "python",
   "name": "python3"
  },
  "language_info": {
   "codemirror_mode": {
    "name": "ipython",
    "version": 3
   },
   "file_extension": ".py",
   "mimetype": "text/x-python",
   "name": "python",
   "nbconvert_exporter": "python",
   "pygments_lexer": "ipython3",
   "version": "3.9.7"
  }
 },
 "nbformat": 4,
 "nbformat_minor": 5
}
