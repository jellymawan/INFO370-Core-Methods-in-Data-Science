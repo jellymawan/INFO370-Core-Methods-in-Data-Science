{
 "cells": [
  {
   "cell_type": "markdown",
   "id": "e2bac515-e863-44bd-ad69-270f8fd12df3",
   "metadata": {},
   "source": [
    "# 1. Simulations (50pt)\n",
    "## 1. (2pt) load data college-admissions.csv. You only need variables Research and Chance to Admit. You are welcome to delete all other variables right here. Perform basic description of data: what is the number of observations? Are there any missings or otherwise invalid entries?"
   ]
  },
  {
   "cell_type": "code",
   "execution_count": 2,
   "id": "37f7b0b5-75c7-47f5-9108-be32b2ac1f1f",
   "metadata": {},
   "outputs": [],
   "source": [
    "import numpy as np\n",
    "import pandas as pd\n",
    "import matplotlib.pyplot as plt"
   ]
  },
  {
   "cell_type": "code",
   "execution_count": 3,
   "id": "14604bdb-b143-495b-bbea-c2f8e1838306",
   "metadata": {},
   "outputs": [
    {
     "name": "stdout",
     "output_type": "stream",
     "text": [
      "(400, 2)\n",
      "Research            0\n",
      "Chance_of_Admit_    0\n",
      "dtype: int64\n"
     ]
    },
    {
     "data": {
      "text/html": [
       "<div>\n",
       "<style scoped>\n",
       "    .dataframe tbody tr th:only-of-type {\n",
       "        vertical-align: middle;\n",
       "    }\n",
       "\n",
       "    .dataframe tbody tr th {\n",
       "        vertical-align: top;\n",
       "    }\n",
       "\n",
       "    .dataframe thead th {\n",
       "        text-align: right;\n",
       "    }\n",
       "</style>\n",
       "<table border=\"1\" class=\"dataframe\">\n",
       "  <thead>\n",
       "    <tr style=\"text-align: right;\">\n",
       "      <th></th>\n",
       "      <th>Research</th>\n",
       "      <th>Chance_of_Admit_</th>\n",
       "    </tr>\n",
       "  </thead>\n",
       "  <tbody>\n",
       "    <tr>\n",
       "      <th>0</th>\n",
       "      <td>1</td>\n",
       "      <td>0.92</td>\n",
       "    </tr>\n",
       "    <tr>\n",
       "      <th>1</th>\n",
       "      <td>1</td>\n",
       "      <td>0.76</td>\n",
       "    </tr>\n",
       "    <tr>\n",
       "      <th>2</th>\n",
       "      <td>1</td>\n",
       "      <td>0.72</td>\n",
       "    </tr>\n",
       "    <tr>\n",
       "      <th>3</th>\n",
       "      <td>1</td>\n",
       "      <td>0.80</td>\n",
       "    </tr>\n",
       "    <tr>\n",
       "      <th>4</th>\n",
       "      <td>0</td>\n",
       "      <td>0.65</td>\n",
       "    </tr>\n",
       "  </tbody>\n",
       "</table>\n",
       "</div>"
      ],
      "text/plain": [
       "   Research  Chance_of_Admit_\n",
       "0         1              0.92\n",
       "1         1              0.76\n",
       "2         1              0.72\n",
       "3         1              0.80\n",
       "4         0              0.65"
      ]
     },
     "execution_count": 3,
     "metadata": {},
     "output_type": "execute_result"
    }
   ],
   "source": [
    "admissions = pd.read_csv(\"../data/college-admissions.csv.bz2\")\n",
    "admissions.columns = admissions.columns.str.replace(' ', '_')\n",
    "admissions = admissions[['Research', 'Chance_of_Admit_']]\n",
    "print(admissions.shape)\n",
    "print(admissions.isnull().sum())\n",
    "admissions.head()"
   ]
  },
  {
   "cell_type": "markdown",
   "id": "9fe1c2b4-22ee-41d2-999e-d7847b223061",
   "metadata": {},
   "source": [
    "There are a total of 400 rows and 2 columns (after filtering the columns down). There also seems to be no null values.\n",
    "\n",
    "## 2. (3pt) Describe the admission probability: compute its mean, median, standard deviation, and range. According to these figures, which students are more likely to be admitted–researchers or non-researchers?"
   ]
  },
  {
   "cell_type": "code",
   "execution_count": 4,
   "id": "1a1f7c5b-c6bb-4c44-bf8c-1304e1011a90",
   "metadata": {},
   "outputs": [
    {
     "data": {
      "text/html": [
       "<div>\n",
       "<style scoped>\n",
       "    .dataframe tbody tr th:only-of-type {\n",
       "        vertical-align: middle;\n",
       "    }\n",
       "\n",
       "    .dataframe tbody tr th {\n",
       "        vertical-align: top;\n",
       "    }\n",
       "\n",
       "    .dataframe thead th {\n",
       "        text-align: right;\n",
       "    }\n",
       "</style>\n",
       "<table border=\"1\" class=\"dataframe\">\n",
       "  <thead>\n",
       "    <tr style=\"text-align: right;\">\n",
       "      <th></th>\n",
       "      <th>Chance_of_Admit_</th>\n",
       "    </tr>\n",
       "    <tr>\n",
       "      <th>Research</th>\n",
       "      <th></th>\n",
       "    </tr>\n",
       "  </thead>\n",
       "  <tbody>\n",
       "    <tr>\n",
       "      <th>0</th>\n",
       "      <td>0.637680</td>\n",
       "    </tr>\n",
       "    <tr>\n",
       "      <th>1</th>\n",
       "      <td>0.795982</td>\n",
       "    </tr>\n",
       "  </tbody>\n",
       "</table>\n",
       "</div>"
      ],
      "text/plain": [
       "          Chance_of_Admit_\n",
       "Research                  \n",
       "0                 0.637680\n",
       "1                 0.795982"
      ]
     },
     "execution_count": 4,
     "metadata": {},
     "output_type": "execute_result"
    }
   ],
   "source": [
    "admissions.groupby(admissions.Research).mean()"
   ]
  },
  {
   "cell_type": "code",
   "execution_count": 5,
   "id": "bc2c06dc-cd8d-4a53-bd47-d30793f051c5",
   "metadata": {},
   "outputs": [
    {
     "data": {
      "text/html": [
       "<div>\n",
       "<style scoped>\n",
       "    .dataframe tbody tr th:only-of-type {\n",
       "        vertical-align: middle;\n",
       "    }\n",
       "\n",
       "    .dataframe tbody tr th {\n",
       "        vertical-align: top;\n",
       "    }\n",
       "\n",
       "    .dataframe thead th {\n",
       "        text-align: right;\n",
       "    }\n",
       "</style>\n",
       "<table border=\"1\" class=\"dataframe\">\n",
       "  <thead>\n",
       "    <tr style=\"text-align: right;\">\n",
       "      <th></th>\n",
       "      <th>Chance_of_Admit_</th>\n",
       "    </tr>\n",
       "    <tr>\n",
       "      <th>Research</th>\n",
       "      <th></th>\n",
       "    </tr>\n",
       "  </thead>\n",
       "  <tbody>\n",
       "    <tr>\n",
       "      <th>0</th>\n",
       "      <td>0.65</td>\n",
       "    </tr>\n",
       "    <tr>\n",
       "      <th>1</th>\n",
       "      <td>0.80</td>\n",
       "    </tr>\n",
       "  </tbody>\n",
       "</table>\n",
       "</div>"
      ],
      "text/plain": [
       "          Chance_of_Admit_\n",
       "Research                  \n",
       "0                     0.65\n",
       "1                     0.80"
      ]
     },
     "execution_count": 5,
     "metadata": {},
     "output_type": "execute_result"
    }
   ],
   "source": [
    "admissions.groupby(admissions.Research).median()"
   ]
  },
  {
   "cell_type": "code",
   "execution_count": 6,
   "id": "09bede9f-a105-47e4-90d1-e94999f43155",
   "metadata": {},
   "outputs": [
    {
     "data": {
      "text/html": [
       "<div>\n",
       "<style scoped>\n",
       "    .dataframe tbody tr th:only-of-type {\n",
       "        vertical-align: middle;\n",
       "    }\n",
       "\n",
       "    .dataframe tbody tr th {\n",
       "        vertical-align: top;\n",
       "    }\n",
       "\n",
       "    .dataframe thead th {\n",
       "        text-align: right;\n",
       "    }\n",
       "</style>\n",
       "<table border=\"1\" class=\"dataframe\">\n",
       "  <thead>\n",
       "    <tr style=\"text-align: right;\">\n",
       "      <th></th>\n",
       "      <th>Chance_of_Admit_</th>\n",
       "    </tr>\n",
       "    <tr>\n",
       "      <th>Research</th>\n",
       "      <th></th>\n",
       "    </tr>\n",
       "  </thead>\n",
       "  <tbody>\n",
       "    <tr>\n",
       "      <th>0</th>\n",
       "      <td>0.113784</td>\n",
       "    </tr>\n",
       "    <tr>\n",
       "      <th>1</th>\n",
       "      <td>0.123051</td>\n",
       "    </tr>\n",
       "  </tbody>\n",
       "</table>\n",
       "</div>"
      ],
      "text/plain": [
       "          Chance_of_Admit_\n",
       "Research                  \n",
       "0                 0.113784\n",
       "1                 0.123051"
      ]
     },
     "execution_count": 6,
     "metadata": {},
     "output_type": "execute_result"
    }
   ],
   "source": [
    "admissions.groupby(admissions.Research).std()"
   ]
  },
  {
   "cell_type": "code",
   "execution_count": 213,
   "id": "2caf97d8-843a-49d8-8ad7-3fa79545b523",
   "metadata": {},
   "outputs": [
    {
     "data": {
      "text/html": [
       "<div>\n",
       "<style scoped>\n",
       "    .dataframe tbody tr th:only-of-type {\n",
       "        vertical-align: middle;\n",
       "    }\n",
       "\n",
       "    .dataframe tbody tr th {\n",
       "        vertical-align: top;\n",
       "    }\n",
       "\n",
       "    .dataframe thead th {\n",
       "        text-align: right;\n",
       "    }\n",
       "</style>\n",
       "<table border=\"1\" class=\"dataframe\">\n",
       "  <thead>\n",
       "    <tr style=\"text-align: right;\">\n",
       "      <th></th>\n",
       "      <th>Chance_of_Admit_</th>\n",
       "    </tr>\n",
       "    <tr>\n",
       "      <th>Research</th>\n",
       "      <th></th>\n",
       "    </tr>\n",
       "  </thead>\n",
       "  <tbody>\n",
       "    <tr>\n",
       "      <th>0</th>\n",
       "      <td>0.55</td>\n",
       "    </tr>\n",
       "    <tr>\n",
       "      <th>1</th>\n",
       "      <td>0.61</td>\n",
       "    </tr>\n",
       "  </tbody>\n",
       "</table>\n",
       "</div>"
      ],
      "text/plain": [
       "          Chance_of_Admit_\n",
       "Research                  \n",
       "0                     0.55\n",
       "1                     0.61"
      ]
     },
     "execution_count": 213,
     "metadata": {},
     "output_type": "execute_result"
    }
   ],
   "source": [
    "admissions.groupby(admissions.Research).max() - admissions.groupby(admissions.Research).min()"
   ]
  },
  {
   "cell_type": "markdown",
   "id": "864a38d9-1cd7-4f8a-abb6-56626c5da652",
   "metadata": {},
   "source": [
    "By looking at the mean, median, and std, it seems like students who researched were more likely to be admitted. Looking at the range, it seems to be that there is a little more spread for the people who did research than those who did not."
   ]
  },
  {
   "cell_type": "markdown",
   "id": "127511ec-ba06-4cee-b6fb-cff69c9daa0b",
   "metadata": {},
   "source": [
    "## 3. (3pt) Below, we are going to do t-test. However, t-test works best if the data is normally distributed. Analyze the shape of the distributions for both researchers and non-researchers on a histogram. Comment its shape. Do you think the chances are normally distributed?"
   ]
  },
  {
   "cell_type": "code",
   "execution_count": 13,
   "id": "5c66b24e-0683-4b87-bb32-59145eee4804",
   "metadata": {},
   "outputs": [
    {
     "data": {
      "image/png": "[encoded data removed]",
      "text/plain": [
       "<Figure size 432x288 with 1 Axes>"
      ]
     },
     "metadata": {
      "needs_background": "light"
     },
     "output_type": "display_data"
    }
   ],
   "source": [
    "research = admissions[admissions.Research == 1]\n",
    "_ = plt.hist(research[\"Chance_of_Admit_\"])"
   ]
  },
  {
   "cell_type": "code",
   "execution_count": 14,
   "id": "fd64feb8-b95b-41c8-8b52-11dd18c28a12",
   "metadata": {},
   "outputs": [
    {
     "data": {
      "image/png": "[encoded data removed]",
      "text/plain": [
       "<Figure size 432x288 with 1 Axes>"
      ]
     },
     "metadata": {
      "needs_background": "light"
     },
     "output_type": "display_data"
    }
   ],
   "source": [
    "non_research = admissions[admissions.Research == 0]\n",
    "_ = plt.hist(non_research[\"Chance_of_Admit_\"])"
   ]
  },
  {
   "cell_type": "markdown",
   "id": "f2cec68f-0241-45f7-91f3-29ad732883de",
   "metadata": {},
   "source": [
    "I don't think chances are normally distributed. For students that had research activities, the graph was skewed left. For the students that had no research activities, it looks more normal, but it is still a little skewed left."
   ]
  },
  {
   "cell_type": "markdown",
   "id": "8af12888-1f72-40d5-8b18-4282f4398ebd",
   "metadata": {},
   "source": [
    "## 4. (5pt) Compute the mean difference in the admission rate between researchers and non- researchers.\n",
    "### Hint: 0.158"
   ]
  },
  {
   "cell_type": "code",
   "execution_count": 56,
   "id": "8a01dda5-4bd0-4e8e-a685-5e46d655435a",
   "metadata": {},
   "outputs": [
    {
     "data": {
      "text/plain": [
       "0.1583021771487675"
      ]
     },
     "execution_count": 56,
     "metadata": {},
     "output_type": "execute_result"
    }
   ],
   "source": [
    "mdiff = research[\"Chance_of_Admit_\"].mean() - non_research[\"Chance_of_Admit_\"].mean()\n",
    "mdiff"
   ]
  },
  {
   "cell_type": "markdown",
   "id": "b8117d48-03ca-411f-bcd3-bb5d122b100d",
   "metadata": {},
   "source": [
    "## 5. (2pt) Let’s state our H0 again: researchers and non-researchers have similar admission chances (in average). Hence we have to create fake researchers and fake non-researchers using the same distribution. The obvious choice for this is the distribution of all students combined. Compute the overall mean μ0 and standard deviation σ0 of admission chances across all students in the data.\n",
    "### Hint: standard deviation is 0.143."
   ]
  },
  {
   "cell_type": "code",
   "execution_count": 136,
   "id": "9c94b82a-48ac-4abf-a3e4-30b467298649",
   "metadata": {},
   "outputs": [
    {
     "data": {
      "text/plain": [
       "(0.7243499999999996, 0.1424309569580995)"
      ]
     },
     "execution_count": 136,
     "metadata": {},
     "output_type": "execute_result"
    }
   ],
   "source": [
    "mu = np.mean(admissions[\"Chance_of_Admit_\"])\n",
    "sigma = np.std(admissions[\"Chance_of_Admit_\"])\n",
    "count = admissions.Research.value_counts()\n",
    "mu, sigma"
   ]
  },
  {
   "cell_type": "markdown",
   "id": "9e777e83-7337-4527-94a2-e369d8a1fd32",
   "metadata": {},
   "source": [
    "## 6. (5pt) Now create two sets of random normals, “fake researchers” and “fake non-researchers”, both with the same mean μ0 and standard deviation σ0 that you just computed above. The number of fake students must be the same as the number of real students for the corresponding group. What is the difference in the mean admission chances of the fake researchers and fake non- researchers? Compare the result with the real difference you found above. Now compare this number with what you see in data."
   ]
  },
  {
   "cell_type": "code",
   "execution_count": 67,
   "id": "5bb02620-0b5b-4dd9-991b-a07172a7355c",
   "metadata": {},
   "outputs": [],
   "source": [
    "aR = np.random.normal(mu, sigma, size=count[1]) #students who did research\n",
    "aNR = np.random.normal(mu, sigma, size=count[0]) #students who did not do research"
   ]
  },
  {
   "cell_type": "code",
   "execution_count": 72,
   "id": "08fbdf85-0c09-44a5-900a-bb18bc2e1fa5",
   "metadata": {},
   "outputs": [
    {
     "data": {
      "text/plain": [
       "0.0023942505011348425"
      ]
     },
     "execution_count": 72,
     "metadata": {},
     "output_type": "execute_result"
    }
   ],
   "source": [
    "fake_diff = np.mean(aR) - np.mean(aNR)\n",
    "fake_diff"
   ]
  },
  {
   "cell_type": "markdown",
   "id": "147d7ab2-1231-4701-931f-41583110a883",
   "metadata": {},
   "source": [
    "From my fake simulations, I am getting a difference of .002, which is close to 0. The real difference is about 0.158, which is a lot more than 0.002. In the real data, a difference of 0.002 means that there should be little-to-no difference between the admission rates. However, that is not the case."
   ]
  },
  {
   "cell_type": "markdown",
   "id": "6cb8dbd8-b7d0-423f-be24-1e2c2fcc9949",
   "metadata": {},
   "source": [
    "## (3pt) Why do we use the same mean μ0 for both fake researchers and fake non-researchers?"
   ]
  },
  {
   "cell_type": "markdown",
   "id": "7e732af6-4424-4269-9804-b0def557c2b2",
   "metadata": {},
   "source": [
    "We use the same mean because $H0$: There is no difference in admission rates between researchers and non-researchers. So, in order to test that theory, we must use the same $\\mu0$ for both fake researchers and real researchers."
   ]
  },
  {
   "cell_type": "markdown",
   "id": "ea562ebd-a6fc-4896-bb75-ca017420c3ce",
   "metadata": {},
   "source": [
    "## 8. (5pt) Now repeat the previous question a large number R (1000 or more) times. Each time store the mean difference between fake researchers and fake non-researchers, so you end up with R different values for the mean difference."
   ]
  },
  {
   "cell_type": "code",
   "execution_count": 115,
   "id": "569d619e-3c70-4f2c-8624-f361aace837a",
   "metadata": {},
   "outputs": [],
   "source": [
    "R = 1000\n",
    "np.random.seed(2)\n",
    "aR = np.random.normal(mu, sigma, size=(R, count[1])) #students who did research\n",
    "aNR = np.random.normal(mu, sigma, size=(R, count[0])) #students who did not do research"
   ]
  },
  {
   "cell_type": "markdown",
   "id": "c93c5ee5-ae63-4887-b3c1-18f8841d1211",
   "metadata": {},
   "source": [
    "## 9. (5pt) What is the mean of the mean differences? If you did your simulations correctly, it should be close to 0. Explain why do you get this result."
   ]
  },
  {
   "cell_type": "code",
   "execution_count": 116,
   "id": "3baf81fc-806e-444b-ba9c-353b5329e9a1",
   "metadata": {},
   "outputs": [
    {
     "data": {
      "text/plain": [
       "0.000730888489867465"
      ]
     },
     "execution_count": 116,
     "metadata": {},
     "output_type": "execute_result"
    }
   ],
   "source": [
    "fake_diff = np.mean(aR) - np.mean(aNR)\n",
    "fake_diff"
   ]
  },
  {
   "cell_type": "markdown",
   "id": "35315c35-5c29-4e00-9963-95d25d22e844",
   "metadata": {},
   "source": [
    "The result I received was .0007, which is close to 0. By the CLT, the more samples we have, the closer the mean will be to the expected value, and the more normally distributed it is. $H0$: diff = 0. In this case, the expected value is 0, so it makes sense that with R=1000, the mean differences would be close to 0."
   ]
  },
  {
   "cell_type": "markdown",
   "id": "f2cce48e-ec36-43ea-ab53-c92c2898c640",
   "metadata": {},
   "source": [
    "## 10. (4pt) What is the largest mean difference (in absolute value) in your sample? Hint: np.abs computes absolute value."
   ]
  },
  {
   "cell_type": "code",
   "execution_count": 117,
   "id": "90eedd31-63c6-4072-9cc6-de20f3751164",
   "metadata": {},
   "outputs": [
    {
     "data": {
      "text/plain": [
       "0.04828290992772655"
      ]
     },
     "execution_count": 117,
     "metadata": {},
     "output_type": "execute_result"
    }
   ],
   "source": [
    "meanR = aR.mean(axis=1)\n",
    "meanNR = aNR.mean(axis=1)\n",
    "mean_diff = meanR-meanNR\n",
    "np.abs(mean_diff).max()"
   ]
  },
  {
   "cell_type": "markdown",
   "id": "6ddbdaf4-2fdc-4c0c-a6af-9ac3fb38b439",
   "metadata": {},
   "source": [
    "## 11. (7pt) find 95% confidence interval (CI) of your sample of mean differences based on sample quantiles. Does the difference in actual data, 0.158 in favor of researchers, fall into the CI?"
   ]
  },
  {
   "cell_type": "code",
   "execution_count": 118,
   "id": "9e35157d-336e-46c8-a70a-0a303fdc2c56",
   "metadata": {},
   "outputs": [
    {
     "data": {
      "text/plain": [
       "array([-0.02641568,  0.02917017])"
      ]
     },
     "execution_count": 118,
     "metadata": {},
     "output_type": "execute_result"
    }
   ],
   "source": [
    "np.percentile(mean_diff, [2.5, 97.5])"
   ]
  },
  {
   "cell_type": "markdown",
   "id": "6f8f14c6-9465-485c-97c6-6c66163a009a",
   "metadata": {},
   "source": [
    "The difference in actual data does not fall into the CI."
   ]
  },
  {
   "cell_type": "markdown",
   "id": "5fc353c5-4e88-41ab-99fa-244b2fdd028b",
   "metadata": {},
   "source": [
    "## 12. (7pt) Finally, based on the simulations, what is your conclusion: is the observed difference 0.158 just a random fluke, or do students with research experience have better admission chances?"
   ]
  },
  {
   "cell_type": "markdown",
   "id": "6f1794a3-996e-4144-b5d5-79663d43f8a1",
   "metadata": {},
   "source": [
    "Since it is not in the CI, we can reject $H0$ at confidence range (95%). Since $H0$: there is no difference in admission rates between students who research and students who don't research, according to this figure, 0.158 is a rare/unlikely event. This means that it was just a random fluke."
   ]
  },
  {
   "cell_type": "markdown",
   "id": "6b93c730-966a-4793-9ed2-6193f8c9e8e4",
   "metadata": {},
   "source": [
    "# 2. Now repeat the above with t-test (40pt)"
   ]
  },
  {
   "cell_type": "markdown",
   "id": "e0f7833e-5e4d-473c-8032-13d80c34e51d",
   "metadata": {},
   "source": [
    "## 1. (10pt) Compute standard error SE of the nonresearchers-researchers mean difference. Remember: we are still working in logarithms!\n",
    "### Hint: read OIS 7.3, p 267. You probably have to walk back and read about various other concepts the book is using in 7.3."
   ]
  },
  {
   "cell_type": "code",
   "execution_count": 146,
   "id": "9093860c-0517-4c58-8f26-57912a1ca419",
   "metadata": {},
   "outputs": [
    {
     "data": {
      "text/plain": [
       "0.011860394139180394"
      ]
     },
     "execution_count": 146,
     "metadata": {},
     "output_type": "execute_result"
    }
   ],
   "source": [
    "r1 = research['Chance_of_Admit_'].std()\n",
    "r0 = non_research['Chance_of_Admit_'].std()\n",
    "SE = np.sqrt(((r1)**2/count[1]) + ((r0)**2/count[0]))\n",
    "SE"
   ]
  },
  {
   "cell_type": "markdown",
   "id": "352fd009-8515-4d76-abbe-44ab213e1d44",
   "metadata": {},
   "source": [
    "## 2. (10pt) Compute 95% CI. Use the 5% two-tail significance level to look up tcr values in t-distribution table. OIS has such a table in Appendix C.2, and google image search finds a thousand similar tables. 95% CI is given by μ±tcr ·SE where μ is the mean, SE is its standard error, and tcr is the critical value from the table.\n",
    "### Hint 1: what is the degrees of freedom in current case? Consult OIS 7.3.\n",
    "### Hint 2: we need 2-tailed test as nonresearchers can have both better and worse admission chances than researchers.\n",
    "### Hint 3: you can do this in two ways. Compute 95% CI around H0 value (i.e. difference is 0) and check if the actual difference fits in there (this is what we simulated above). Or compute 95% CI around the actual value, and check of H0 value 0 fits in there. DO NOT compute 95% around actual value and then check if the actual value fits in there. It always does!"
   ]
  },
  {
   "cell_type": "code",
   "execution_count": 195,
   "id": "4abd7045-d60d-425e-b807-c0f6a7540c23",
   "metadata": {},
   "outputs": [
    {
     "data": {
      "text/plain": [
       "(0.13489887976111842, 0.18170547453641656)"
      ]
     },
     "execution_count": 195,
     "metadata": {},
     "output_type": "execute_result"
    }
   ],
   "source": [
    "tcrit = 1.973231 #df = 180\n",
    "C1 = mdiff - tcrit*SE\n",
    "C2 = mdiff + tcrit*SE\n",
    "C1, C2 #Confidence Interval"
   ]
  },
  {
   "cell_type": "markdown",
   "id": "77d09335-d76f-4a7c-b47d-2e66529f3a7d",
   "metadata": {},
   "source": [
    "## 3. (6pt) What will you conclude based on CI: can you reject H0 that nonresearchers and re- searchers have equal admission chance at 5% level?"
   ]
  },
  {
   "cell_type": "markdown",
   "id": "c37a552e-f99b-45d9-bd29-9db6dc576117",
   "metadata": {},
   "source": [
    "$H0$: the difference in admission rates is 0, and it is not in the confidence interval. Thus, we reject the $H0$ at 95%."
   ]
  },
  {
   "cell_type": "markdown",
   "id": "0bea14ae-fe84-4216-88c1-1e4bb1d2d924",
   "metadata": {},
   "source": [
    "## 4, (8pt) Now perform the opposite operation: compute the t-value. When the you have mean μ and standard error SE, you can compute the t-value by"
   ]
  },
  {
   "cell_type": "code",
   "execution_count": 197,
   "id": "d90392ed-a2f0-4af9-81e9-0ce6a6b2399d",
   "metadata": {},
   "outputs": [
    {
     "data": {
      "text/plain": [
       "13.347126182410905"
      ]
     },
     "execution_count": 197,
     "metadata": {},
     "output_type": "execute_result"
    }
   ],
   "source": [
    "t = mdiff / SE\n",
    "t"
   ]
  },
  {
   "cell_type": "markdown",
   "id": "b2518852-c70d-4d44-8f6c-93ddc10f8fed",
   "metadata": {},
   "source": [
    "## 5. (6pt) What is the likelihood that such a t value happens just by random chance? Consult the t-table.\n",
    "### Hint: I have never seen t-tables that contain such large values. But where on the table would you write this value? What can you say about how likely it is to see such a value just by random chance?"
   ]
  },
  {
   "cell_type": "markdown",
   "id": "a198de6e-8aa2-4839-94f6-35052438ef20",
   "metadata": {},
   "source": [
    "Because |t| > tcrit, this means that it is outside the confidence interval. Because it is outside the interval, the t value is an unlikely event and happened just by random chance."
   ]
  },
  {
   "cell_type": "markdown",
   "id": "ff8cf8ac-9b6a-4db4-bc7e-75928a6f1543",
   "metadata": {},
   "source": [
    "# 3. Use canned t-test function (10pt)"
   ]
  },
  {
   "cell_type": "markdown",
   "id": "5d51526a-5c89-43b8-9152-1d514111b5ab",
   "metadata": {},
   "source": [
    "## 1. (5pt) Compute t-value and the probability using ttest_ind.\n",
    "### Note: you have to specify equal_var=False to tell the function that non-researchers and researchers chances may have different variance."
   ]
  },
  {
   "cell_type": "code",
   "execution_count": 210,
   "id": "cc1f7d93-3781-465e-852d-acb5c952d13e",
   "metadata": {},
   "outputs": [
    {
     "data": {
      "text/plain": [
       "Ttest_indResult(statistic=13.347126182410907, pvalue=8.966853051858437e-34)"
      ]
     },
     "execution_count": 210,
     "metadata": {},
     "output_type": "execute_result"
    }
   ],
   "source": [
    "from scipy import stats\n",
    "stats.ttest_ind(research['Chance_of_Admit_'], non_research['Chance_of_Admit_'], equal_var=False)"
   ]
  },
  {
   "cell_type": "markdown",
   "id": "cecde062-2e85-4eea-9514-63536d57862d",
   "metadata": {},
   "source": [
    "## 2. (5pt) Finally, state your conclusion: do researchers have better admission chances than non- researchers? Do all of your three methods: simulations, 95% CI, t-value and python’s t-test agree? \n",
    "### Hint: they should!"
   ]
  },
  {
   "cell_type": "markdown",
   "id": "6f604c4a-bb0d-4b0a-bf3d-81d24b508550",
   "metadata": {},
   "source": [
    "As seen above, the t-value I calculated and the t-value found using python's t-test agrees, meaning my t-test result is correct. In addition, python's t-test shows the p-value to be less than 0.05. When the p-value is less than the significance level (which is 0.05 in this case), then we reject $H0$. In all 3 tests, we rejected the $H0$. This means that there is a difference between in admission rates between those who do research and those who don't."
   ]
  },
  {
   "cell_type": "code",
   "execution_count": null,
   "id": "d02aa299-cfc8-41d4-9fd8-8dd9dd451c90",
   "metadata": {},
   "outputs": [],
   "source": []
  }
 ],
 "metadata": {
  "kernelspec": {
   "display_name": "Python 3 (ipykernel)",
   "language": "python",
   "name": "python3"
  },
  "language_info": {
   "codemirror_mode": {
    "name": "ipython",
    "version": 3
   },
   "file_extension": ".py",
   "mimetype": "text/x-python",
   "name": "python",
   "nbconvert_exporter": "python",
   "pygments_lexer": "ipython3",
   "version": "3.9.7"
  }
 },
 "nbformat": 4,
 "nbformat_minor": 5
}
