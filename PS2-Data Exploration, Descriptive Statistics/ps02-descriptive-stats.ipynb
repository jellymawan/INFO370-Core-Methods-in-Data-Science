{
 "cells": [
  {
   "cell_type": "markdown",
   "id": "166d840d-b30e-4474-8243-17fbbcff9e81",
   "metadata": {},
   "source": [
    "# 1 Measures, values and relationships (30pt)"
   ]
  },
  {
   "cell_type": "code",
   "execution_count": 3,
   "id": "84e41401-f3fe-488b-8aaa-ef505685b287",
   "metadata": {},
   "outputs": [],
   "source": [
    "import pandas as pd\n",
    "import numpy as np\n",
    "import matplotlib.pyplot as plt\n",
    "data = pd.read_csv(\"../data/states.csv.bz2\", sep=\"\\t\")"
   ]
  },
  {
   "cell_type": "markdown",
   "id": "a5272fdd-aef7-4f4f-8f52-225cbe149f47",
   "metadata": {},
   "source": [
    "## 1. Consider all variables in data. List their measure type (nominal/ordinal/interval/ratio)."
   ]
  },
  {
   "cell_type": "code",
   "execution_count": 13,
   "id": "c02a2326-5ca2-4120-9a00-fe4cb235341f",
   "metadata": {},
   "outputs": [
    {
     "data": {
      "text/html": [
       "<div>\n",
       "<style scoped>\n",
       "    .dataframe tbody tr th:only-of-type {\n",
       "        vertical-align: middle;\n",
       "    }\n",
       "\n",
       "    .dataframe tbody tr th {\n",
       "        vertical-align: top;\n",
       "    }\n",
       "\n",
       "    .dataframe thead th {\n",
       "        text-align: right;\n",
       "    }\n",
       "</style>\n",
       "<table border=\"1\" class=\"dataframe\">\n",
       "  <thead>\n",
       "    <tr style=\"text-align: right;\">\n",
       "      <th></th>\n",
       "      <th>Population</th>\n",
       "      <th>Income</th>\n",
       "      <th>Illiteracy</th>\n",
       "      <th>LifeExp</th>\n",
       "      <th>Murder</th>\n",
       "      <th>HSGrad</th>\n",
       "      <th>Frost</th>\n",
       "      <th>Area</th>\n",
       "    </tr>\n",
       "  </thead>\n",
       "  <tbody>\n",
       "    <tr>\n",
       "      <th>0</th>\n",
       "      <td>3615</td>\n",
       "      <td>3624</td>\n",
       "      <td>2.1</td>\n",
       "      <td>69.05</td>\n",
       "      <td>15.1</td>\n",
       "      <td>41.3</td>\n",
       "      <td>20</td>\n",
       "      <td>50708</td>\n",
       "    </tr>\n",
       "    <tr>\n",
       "      <th>1</th>\n",
       "      <td>365</td>\n",
       "      <td>6315</td>\n",
       "      <td>1.5</td>\n",
       "      <td>69.31</td>\n",
       "      <td>11.3</td>\n",
       "      <td>66.7</td>\n",
       "      <td>152</td>\n",
       "      <td>566432</td>\n",
       "    </tr>\n",
       "    <tr>\n",
       "      <th>2</th>\n",
       "      <td>2212</td>\n",
       "      <td>4530</td>\n",
       "      <td>1.8</td>\n",
       "      <td>70.55</td>\n",
       "      <td>7.8</td>\n",
       "      <td>58.1</td>\n",
       "      <td>15</td>\n",
       "      <td>113417</td>\n",
       "    </tr>\n",
       "    <tr>\n",
       "      <th>3</th>\n",
       "      <td>2110</td>\n",
       "      <td>3378</td>\n",
       "      <td>1.9</td>\n",
       "      <td>70.66</td>\n",
       "      <td>10.1</td>\n",
       "      <td>39.9</td>\n",
       "      <td>65</td>\n",
       "      <td>51945</td>\n",
       "    </tr>\n",
       "    <tr>\n",
       "      <th>4</th>\n",
       "      <td>21198</td>\n",
       "      <td>5114</td>\n",
       "      <td>1.1</td>\n",
       "      <td>71.71</td>\n",
       "      <td>10.3</td>\n",
       "      <td>62.6</td>\n",
       "      <td>20</td>\n",
       "      <td>156361</td>\n",
       "    </tr>\n",
       "  </tbody>\n",
       "</table>\n",
       "</div>"
      ],
      "text/plain": [
       "   Population  Income  Illiteracy  LifeExp  Murder  HSGrad  Frost    Area\n",
       "0        3615    3624         2.1    69.05    15.1    41.3     20   50708\n",
       "1         365    6315         1.5    69.31    11.3    66.7    152  566432\n",
       "2        2212    4530         1.8    70.55     7.8    58.1     15  113417\n",
       "3        2110    3378         1.9    70.66    10.1    39.9     65   51945\n",
       "4       21198    5114         1.1    71.71    10.3    62.6     20  156361"
      ]
     },
     "execution_count": 13,
     "metadata": {},
     "output_type": "execute_result"
    }
   ],
   "source": [
    "data.head()"
   ]
  },
  {
   "cell_type": "markdown",
   "id": "39c90ee4-0665-4de4-9b94-7f6115895275",
   "metadata": {},
   "source": [
    "Population: Interval\n",
    "\n",
    "Income: Interval\n",
    "\n",
    "Illiteracy: Ratio\n",
    "\n",
    "LifeExp: Interval\n",
    "\n",
    "Murder: Ratio\n",
    "\n",
    "HSGrad: Ratio\n",
    "\n",
    "Frost: Interval\n",
    "\n",
    "Area: Interval"
   ]
  },
  {
   "cell_type": "markdown",
   "id": "ba0018c0-4dd7-4d48-a63f-eebc507a3536",
   "metadata": {},
   "source": [
    "## 2. Explain their valid value range (continous, integer, continous within certain limits...)."
   ]
  },
  {
   "cell_type": "markdown",
   "id": "5f1dcb41-d775-4e86-8e34-29eb15779f1c",
   "metadata": {},
   "source": [
    "Population: integer with positive values. Within the range of 365 and 21198\n",
    "\n",
    "Income: integer with positive values. Within the range of 3098 and 6315\n",
    "\n",
    "Illiteracy: continous with positive values. Within 0.5 and 2.8\n",
    "\n",
    "LifeExp: continous with positive values. Within 67.96 and 73.6\n",
    "\n",
    "Murder: continous with positive values. Within 1.4 and 15.1\n",
    "\n",
    "Frost: integer with positve values. Within 0 and 188\n",
    "\n",
    "Area: integer with positive values. Within 1,049 and 566,432"
   ]
  },
  {
   "cell_type": "markdown",
   "id": "0034c65e-2d60-4b9f-b9d5-a87a99ce4342",
   "metadata": {},
   "source": [
    "## 3. Check if all values are within the range you specified. Are there any invalid values?"
   ]
  },
  {
   "cell_type": "code",
   "execution_count": 14,
   "id": "28ddb877-f25e-4505-b9ee-29071abee8ce",
   "metadata": {},
   "outputs": [
    {
     "data": {
      "text/plain": [
       "365"
      ]
     },
     "execution_count": 14,
     "metadata": {},
     "output_type": "execute_result"
    }
   ],
   "source": [
    "data.Population.min()"
   ]
  },
  {
   "cell_type": "code",
   "execution_count": 15,
   "id": "1464354f-9fa3-46dd-93c5-48c2a5d29033",
   "metadata": {},
   "outputs": [
    {
     "data": {
      "text/plain": [
       "21198"
      ]
     },
     "execution_count": 15,
     "metadata": {},
     "output_type": "execute_result"
    }
   ],
   "source": [
    "data.Population.max()"
   ]
  },
  {
   "cell_type": "code",
   "execution_count": 16,
   "id": "c0f0d4c6-d577-469f-8ef7-c5d2be607bcb",
   "metadata": {},
   "outputs": [
    {
     "data": {
      "text/plain": [
       "3098"
      ]
     },
     "execution_count": 16,
     "metadata": {},
     "output_type": "execute_result"
    }
   ],
   "source": [
    "data.Income.min()"
   ]
  },
  {
   "cell_type": "code",
   "execution_count": 17,
   "id": "6d76e1a8-dd86-4b29-9e59-fe6378363a24",
   "metadata": {},
   "outputs": [
    {
     "data": {
      "text/plain": [
       "6315"
      ]
     },
     "execution_count": 17,
     "metadata": {},
     "output_type": "execute_result"
    }
   ],
   "source": [
    "data.Income.max()"
   ]
  },
  {
   "cell_type": "code",
   "execution_count": 18,
   "id": "de2a07f9-67f0-43e2-baec-0bdafc3dca62",
   "metadata": {},
   "outputs": [
    {
     "data": {
      "text/plain": [
       "0.5"
      ]
     },
     "execution_count": 18,
     "metadata": {},
     "output_type": "execute_result"
    }
   ],
   "source": [
    "data.Illiteracy.min()"
   ]
  },
  {
   "cell_type": "code",
   "execution_count": 19,
   "id": "670ef540-04f0-4485-ae05-d2ecff48eec2",
   "metadata": {},
   "outputs": [
    {
     "data": {
      "text/plain": [
       "2.8"
      ]
     },
     "execution_count": 19,
     "metadata": {},
     "output_type": "execute_result"
    }
   ],
   "source": [
    "data.Illiteracy.max()"
   ]
  },
  {
   "cell_type": "code",
   "execution_count": 20,
   "id": "e81d45df-f7ee-4af2-a99c-6afc4eb01cd7",
   "metadata": {},
   "outputs": [
    {
     "data": {
      "text/plain": [
       "67.96"
      ]
     },
     "execution_count": 20,
     "metadata": {},
     "output_type": "execute_result"
    }
   ],
   "source": [
    "data.LifeExp.min()"
   ]
  },
  {
   "cell_type": "code",
   "execution_count": 21,
   "id": "ebb06e29-6a3f-4dd1-aaae-167007dd06bd",
   "metadata": {},
   "outputs": [
    {
     "data": {
      "text/plain": [
       "1.4"
      ]
     },
     "execution_count": 21,
     "metadata": {},
     "output_type": "execute_result"
    }
   ],
   "source": [
    "data.Murder.min()"
   ]
  },
  {
   "cell_type": "code",
   "execution_count": 22,
   "id": "a8cb6306-89f6-4ac9-917d-0b10ff7f4085",
   "metadata": {},
   "outputs": [
    {
     "data": {
      "text/plain": [
       "15.1"
      ]
     },
     "execution_count": 22,
     "metadata": {},
     "output_type": "execute_result"
    }
   ],
   "source": [
    "data.Murder.max()"
   ]
  },
  {
   "cell_type": "code",
   "execution_count": 23,
   "id": "15c464b2-7de3-4680-aca0-bef17b91bd03",
   "metadata": {},
   "outputs": [
    {
     "data": {
      "text/plain": [
       "37.8"
      ]
     },
     "execution_count": 23,
     "metadata": {},
     "output_type": "execute_result"
    }
   ],
   "source": [
    "data.HSGrad.min()"
   ]
  },
  {
   "cell_type": "code",
   "execution_count": 24,
   "id": "dfaceb74-fc61-4f4f-baa6-d56d3c1c6306",
   "metadata": {},
   "outputs": [
    {
     "data": {
      "text/plain": [
       "67.3"
      ]
     },
     "execution_count": 24,
     "metadata": {},
     "output_type": "execute_result"
    }
   ],
   "source": [
    "data.HSGrad.max()"
   ]
  },
  {
   "cell_type": "code",
   "execution_count": 25,
   "id": "38d11c60-239b-4402-b151-13516f5d67e3",
   "metadata": {},
   "outputs": [
    {
     "data": {
      "text/plain": [
       "0"
      ]
     },
     "execution_count": 25,
     "metadata": {},
     "output_type": "execute_result"
    }
   ],
   "source": [
    "data.Frost.min()"
   ]
  },
  {
   "cell_type": "code",
   "execution_count": 26,
   "id": "285b2f79-4c90-4b5a-a348-62412884427d",
   "metadata": {},
   "outputs": [
    {
     "data": {
      "text/plain": [
       "188"
      ]
     },
     "execution_count": 26,
     "metadata": {},
     "output_type": "execute_result"
    }
   ],
   "source": [
    "data.Frost.max()"
   ]
  },
  {
   "cell_type": "code",
   "execution_count": 27,
   "id": "41313d86-acfe-4bb8-a4c0-5c42f2cfb7d9",
   "metadata": {},
   "outputs": [
    {
     "data": {
      "text/plain": [
       "1049"
      ]
     },
     "execution_count": 27,
     "metadata": {},
     "output_type": "execute_result"
    }
   ],
   "source": [
    "data.Area.min()"
   ]
  },
  {
   "cell_type": "code",
   "execution_count": 28,
   "id": "a291f918-457d-4c64-89d8-1f8d310c6f98",
   "metadata": {},
   "outputs": [
    {
     "data": {
      "text/plain": [
       "566432"
      ]
     },
     "execution_count": 28,
     "metadata": {},
     "output_type": "execute_result"
    }
   ],
   "source": [
    "data.Area.max()"
   ]
  },
  {
   "cell_type": "code",
   "execution_count": 29,
   "id": "9f1acbf2-cb03-4f3b-bbc9-27d6194e0ff7",
   "metadata": {},
   "outputs": [
    {
     "data": {
      "text/plain": [
       "67.96"
      ]
     },
     "execution_count": 29,
     "metadata": {},
     "output_type": "execute_result"
    }
   ],
   "source": [
    "data.LifeExp.min()"
   ]
  },
  {
   "cell_type": "code",
   "execution_count": 30,
   "id": "1ebadd46-e0d3-4530-880e-76edd6457bf4",
   "metadata": {},
   "outputs": [
    {
     "data": {
      "text/plain": [
       "73.6"
      ]
     },
     "execution_count": 30,
     "metadata": {},
     "output_type": "execute_result"
    }
   ],
   "source": [
    "data.LifeExp.max()"
   ]
  },
  {
   "cell_type": "markdown",
   "id": "bc06fd29-698e-4a17-955c-edd3760771ce",
   "metadata": {},
   "source": [
    "Population: Within the range of 365 and 21198. No invalid values\n",
    "\n",
    "Income: Within the range of 3098 and 6315. No invalid values\n",
    "\n",
    "Illiteracy: Within 0.5 and 2.8. No invalid values\n",
    "\n",
    "LifeExp: Within 67.96 and 73.6. No invalid values\n",
    "\n",
    "Murder: Within 1.4 and 15.1. No invalid values\n",
    "\n",
    "Frost: Within 0 and 188. No invalid values\n",
    "\n",
    "Area: Within 1,049 and 566,432. No invalid values"
   ]
  },
  {
   "cell_type": "markdown",
   "id": "4b4c8139-bde3-4e95-9785-218e9c6db050",
   "metadata": {},
   "source": [
    "#### Next, you task is to analyze relationship between HS graduation rate and income using the same state data"
   ]
  },
  {
   "cell_type": "markdown",
   "id": "8c3618d4-cf06-4396-a0af-3f5d9b45cc3c",
   "metadata": {},
   "source": [
    "## 4. Are these variables of a measure type that permit to ask/answer such a question?\n",
    "\n",
    "These measure types permit me to ask answer the relationship between the HS graduation rate and the income. This is because all variables are either an interval or a ratio. Specifically, the two variables needed to answer the question are of type interval and ratio. Both of these data types allow for meaningful calculations"
   ]
  },
  {
   "cell_type": "markdown",
   "id": "04f3597c-9c04-4fec-b8de-0cc043cfbef0",
   "metadata": {},
   "source": [
    "## 5. What is your hypothesis: how might these variables be related? What do you think, why might it be like this?\n",
    "\n",
    "I think the higher the HS graduation rate, the higher the income. This is because most places require at least a Highschool GED as a requirement for a job position. In addition, most high-paying jobs usually require a Bachelor's Degree to apply. To get a Bachelor's you needed to have graduated from high school."
   ]
  },
  {
   "cell_type": "markdown",
   "id": "50c8e736-33b5-4e0a-8b4c-de3473562cf2",
   "metadata": {},
   "source": [
    "## 6. Make a plot to address your hypothesis. Comment it: does it seem to confirm or not to confirm your thoughts?"
   ]
  },
  {
   "cell_type": "code",
   "execution_count": 31,
   "id": "9f8423c2-b12a-4b6b-b0f8-3337c1acef31",
   "metadata": {},
   "outputs": [
    {
     "data": {
      "image/png": "[encoded data removed]",
      "text/plain": [
       "<Figure size 432x288 with 1 Axes>"
      ]
     },
     "metadata": {
      "needs_background": "light"
     },
     "output_type": "display_data"
    }
   ],
   "source": [
    "_ = plt.scatter(data.HSGrad, data.Income)\n",
    "_ = plt.xlabel(\"High School Graduation Rate\")\n",
    "_ = plt.ylabel(\"Income per Capita\")\n",
    "_ = plt.title(\"High School Graduation Rate vs. Income\")"
   ]
  },
  {
   "cell_type": "markdown",
   "id": "86308c88-12ea-4ede-9f00-5d12ff572e09",
   "metadata": {},
   "source": [
    "There is a positive correlation between high school graduation rate and income. The higher the high school graduation rate, the higher the income per capita. This outcome confirms my prediction."
   ]
  },
  {
   "cell_type": "markdown",
   "id": "7b54fbc3-877b-491d-958b-f9aec44d3fea",
   "metadata": {},
   "source": [
    "## 7. Now let’s split the states into two groups: less-educated (HS gradutation rate less than median) and more-educated (HS above median).\n",
    "Hint: create such a variable and add it to the data frame."
   ]
  },
  {
   "cell_type": "code",
   "execution_count": 32,
   "id": "1b5642b3-1e43-482d-bc11-66ec1d59045c",
   "metadata": {},
   "outputs": [],
   "source": [
    "less_educated = data[data.HSGrad < np.median(data.HSGrad)]\n",
    "more_educated = data[data.HSGrad > np.median(data.HSGrad)]"
   ]
  },
  {
   "cell_type": "markdown",
   "id": "8137b650-aede-49b4-bd4e-af95fa94a45b",
   "metadata": {},
   "source": [
    "## 8.  Compute the mean income for both of these state groups. Does the result align well with the plot?\n",
    "Hint: you can use groupby"
   ]
  },
  {
   "cell_type": "code",
   "execution_count": 33,
   "id": "b2f385a7-5d83-408e-8f9f-89f069ee9dee",
   "metadata": {},
   "outputs": [
    {
     "data": {
      "text/plain": [
       "4269.88"
      ]
     },
     "execution_count": 33,
     "metadata": {},
     "output_type": "execute_result"
    }
   ],
   "source": [
    "less_educated.Income.mean()"
   ]
  },
  {
   "cell_type": "code",
   "execution_count": 34,
   "id": "d6183006-3aa3-40af-be13-2ec0173cc299",
   "metadata": {},
   "outputs": [
    {
     "data": {
      "text/plain": [
       "4601.72"
      ]
     },
     "execution_count": 34,
     "metadata": {},
     "output_type": "execute_result"
    }
   ],
   "source": [
    "more_educated.Income.mean()"
   ]
  },
  {
   "cell_type": "markdown",
   "id": "e5607e79-e2da-4366-8963-9cb5c311d418",
   "metadata": {},
   "source": [
    "Yes, I would say the results align well with the plot. The average income of the less-educated is less than the average income of the more-educated."
   ]
  },
  {
   "cell_type": "markdown",
   "id": "9fa05a2f-056d-4469-a948-9fd4e20e680a",
   "metadata": {},
   "source": [
    "## 9. Based on your analysis, what do you think: do states have higher income because of more education, or the other way around: better income states can afford more education? Explain your reasoning!"
   ]
  },
  {
   "cell_type": "markdown",
   "id": "58c5b718-455f-428b-8dcd-225a34043dd2",
   "metadata": {},
   "source": [
    "Personally, I think that states have higher income because of more education. Many companies require, at the bare minimum, a highschool GED in order to work. Companies that pay more will require their employees at least a Bachelor's degree to work. In addition, its been engraved in our brains that getting a good education equals getting more money.\n",
    "\n",
    "However, it also makes sense if the higher income states can afford more education. This is because the higher the income, the higher the tax, and a portion of that tax will be funded towards schools."
   ]
  },
  {
   "cell_type": "markdown",
   "id": "12b6de5d-dbbb-46fd-8886-701a8ec96d99",
   "metadata": {},
   "source": [
    "# 2 Explore Inequality\n",
    "## 2.1 Descriptive Analysis\n",
    "### 1. Load all three datasets and do basic sanity checks; remove missings values in the variable of interest—you only need the income (and citations and crater radius) variable below."
   ]
  },
  {
   "cell_type": "code",
   "execution_count": 35,
   "id": "c20b2f45-a5b0-4a2b-889f-8913fcfe94af",
   "metadata": {},
   "outputs": [
    {
     "data": {
      "text/html": [
       "<div>\n",
       "<style scoped>\n",
       "    .dataframe tbody tr th:only-of-type {\n",
       "        vertical-align: middle;\n",
       "    }\n",
       "\n",
       "    .dataframe tbody tr th {\n",
       "        vertical-align: top;\n",
       "    }\n",
       "\n",
       "    .dataframe thead th {\n",
       "        text-align: right;\n",
       "    }\n",
       "</style>\n",
       "<table border=\"1\" class=\"dataframe\">\n",
       "  <thead>\n",
       "    <tr style=\"text-align: right;\">\n",
       "      <th></th>\n",
       "      <th>id</th>\n",
       "      <th>citations</th>\n",
       "      <th>year</th>\n",
       "    </tr>\n",
       "  </thead>\n",
       "  <tbody>\n",
       "    <tr>\n",
       "      <th>0</th>\n",
       "      <td>1926704088</td>\n",
       "      <td>10</td>\n",
       "      <td>2004</td>\n",
       "    </tr>\n",
       "    <tr>\n",
       "      <th>1</th>\n",
       "      <td>1590836146</td>\n",
       "      <td>0</td>\n",
       "      <td>1971</td>\n",
       "    </tr>\n",
       "    <tr>\n",
       "      <th>2</th>\n",
       "      <td>2035484488</td>\n",
       "      <td>3</td>\n",
       "      <td>2007</td>\n",
       "    </tr>\n",
       "    <tr>\n",
       "      <th>3</th>\n",
       "      <td>1965723909</td>\n",
       "      <td>0</td>\n",
       "      <td>2009</td>\n",
       "    </tr>\n",
       "    <tr>\n",
       "      <th>4</th>\n",
       "      <td>2021155615</td>\n",
       "      <td>42</td>\n",
       "      <td>1998</td>\n",
       "    </tr>\n",
       "    <tr>\n",
       "      <th>...</th>\n",
       "      <td>...</td>\n",
       "      <td>...</td>\n",
       "      <td>...</td>\n",
       "    </tr>\n",
       "    <tr>\n",
       "      <th>29995</th>\n",
       "      <td>1978075524</td>\n",
       "      <td>0</td>\n",
       "      <td>2014</td>\n",
       "    </tr>\n",
       "    <tr>\n",
       "      <th>29996</th>\n",
       "      <td>2055200684</td>\n",
       "      <td>1</td>\n",
       "      <td>2008</td>\n",
       "    </tr>\n",
       "    <tr>\n",
       "      <th>29997</th>\n",
       "      <td>2080698788</td>\n",
       "      <td>0</td>\n",
       "      <td>2012</td>\n",
       "    </tr>\n",
       "    <tr>\n",
       "      <th>29998</th>\n",
       "      <td>2004912114</td>\n",
       "      <td>11</td>\n",
       "      <td>2006</td>\n",
       "    </tr>\n",
       "    <tr>\n",
       "      <th>29999</th>\n",
       "      <td>2162869412</td>\n",
       "      <td>84</td>\n",
       "      <td>1990</td>\n",
       "    </tr>\n",
       "  </tbody>\n",
       "</table>\n",
       "<p>30000 rows × 3 columns</p>\n",
       "</div>"
      ],
      "text/plain": [
       "               id  citations  year\n",
       "0      1926704088         10  2004\n",
       "1      1590836146          0  1971\n",
       "2      2035484488          3  2007\n",
       "3      1965723909          0  2009\n",
       "4      2021155615         42  1998\n",
       "...           ...        ...   ...\n",
       "29995  1978075524          0  2014\n",
       "29996  2055200684          1  2008\n",
       "29997  2080698788          0  2012\n",
       "29998  2004912114         11  2006\n",
       "29999  2162869412         84  1990\n",
       "\n",
       "[30000 rows x 3 columns]"
      ]
     },
     "execution_count": 35,
     "metadata": {},
     "output_type": "execute_result"
    }
   ],
   "source": [
    "lunar = pd.read_csv('../data/lunar-impact-craters_v08-2015-09.csv.bz2', sep='\\t')\n",
    "treatment = pd.read_csv('../data/treatment.csv.bz2', sep='\\t')\n",
    "citations = pd.read_csv('../data/mag-30k-citations.csv.bz2', sep='\\t')\n",
    "lunar.dropna(subset=['7. Radius [m]'])\n",
    "treatment.dropna(subset=['re78'])\n",
    "citations.dropna(subset=['citations'])"
   ]
  },
  {
   "cell_type": "markdown",
   "id": "e9d6adce-6163-49ac-a8c3-c182a55a8849",
   "metadata": {},
   "source": [
    "#### a. How many cases do we have in each data file?"
   ]
  },
  {
   "cell_type": "code",
   "execution_count": 36,
   "id": "76bbfa38-5484-4088-ba93-0e3335da7d4f",
   "metadata": {},
   "outputs": [
    {
     "data": {
      "text/plain": [
       "2675"
      ]
     },
     "execution_count": 36,
     "metadata": {},
     "output_type": "execute_result"
    }
   ],
   "source": [
    "treatment.shape[0]"
   ]
  },
  {
   "cell_type": "code",
   "execution_count": 37,
   "id": "1f17ded2-cbd8-4b9f-a737-796655e22249",
   "metadata": {},
   "outputs": [
    {
     "data": {
      "text/plain": [
       "8716"
      ]
     },
     "execution_count": 37,
     "metadata": {},
     "output_type": "execute_result"
    }
   ],
   "source": [
    "lunar.shape[0]"
   ]
  },
  {
   "cell_type": "code",
   "execution_count": 38,
   "id": "6c9cf8d4-ce0e-49bd-af02-380a48d53312",
   "metadata": {},
   "outputs": [
    {
     "data": {
      "text/plain": [
       "30000"
      ]
     },
     "execution_count": 38,
     "metadata": {},
     "output_type": "execute_result"
    }
   ],
   "source": [
    "citations.shape[0]"
   ]
  },
  {
   "cell_type": "markdown",
   "id": "bc524671-4524-4f1b-b005-26ea45a254ff",
   "metadata": {},
   "source": [
    "In the lunar dataset, there is a total of 8,716 rows. In the treatment dataset, there is a total of 2,675 rows. In the citations data set, there is a total of 30,000 rows"
   ]
  },
  {
   "cell_type": "markdown",
   "id": "5dfeaa4d-7598-42c0-a958-ee4569a18b21",
   "metadata": {},
   "source": [
    "#### b. Do the values of interest look reasonable?"
   ]
  },
  {
   "cell_type": "code",
   "execution_count": 39,
   "id": "424c897f-9b60-4daa-b1db-590c86cb9127",
   "metadata": {},
   "outputs": [
    {
     "data": {
      "text/plain": [
       "5"
      ]
     },
     "execution_count": 39,
     "metadata": {},
     "output_type": "execute_result"
    }
   ],
   "source": [
    "lunar['7. Radius [m]'].min()"
   ]
  },
  {
   "cell_type": "code",
   "execution_count": 40,
   "id": "91930404-55c9-425d-bab5-37ba1aa13efe",
   "metadata": {},
   "outputs": [
    {
     "data": {
      "text/plain": [
       "1250000"
      ]
     },
     "execution_count": 40,
     "metadata": {},
     "output_type": "execute_result"
    }
   ],
   "source": [
    "lunar['7. Radius [m]'].max()"
   ]
  },
  {
   "cell_type": "code",
   "execution_count": 41,
   "id": "7af8c75b-e898-47cc-b5e3-28fecaf8daa6",
   "metadata": {},
   "outputs": [
    {
     "data": {
      "text/plain": [
       "0.0"
      ]
     },
     "execution_count": 41,
     "metadata": {},
     "output_type": "execute_result"
    }
   ],
   "source": [
    "treatment.re78.min()"
   ]
  },
  {
   "cell_type": "code",
   "execution_count": 42,
   "id": "ec2cccc7-4d5c-44fe-8691-20d49d3204ea",
   "metadata": {},
   "outputs": [
    {
     "data": {
      "text/plain": [
       "121174.0"
      ]
     },
     "execution_count": 42,
     "metadata": {},
     "output_type": "execute_result"
    }
   ],
   "source": [
    "treatment.re78.max()"
   ]
  },
  {
   "cell_type": "code",
   "execution_count": 43,
   "id": "5c624d80-e715-4fb7-88ab-d70114d479b8",
   "metadata": {},
   "outputs": [
    {
     "data": {
      "text/plain": [
       "0"
      ]
     },
     "execution_count": 43,
     "metadata": {},
     "output_type": "execute_result"
    }
   ],
   "source": [
    "citations.citations.min()"
   ]
  },
  {
   "cell_type": "code",
   "execution_count": 44,
   "id": "db3a9980-37b6-4925-81c2-3cebed43c86c",
   "metadata": {},
   "outputs": [
    {
     "data": {
      "text/plain": [
       "7241"
      ]
     },
     "execution_count": 44,
     "metadata": {},
     "output_type": "execute_result"
    }
   ],
   "source": [
    "citations.citations.max()"
   ]
  },
  {
   "cell_type": "markdown",
   "id": "a3ecbc12-0ecc-4621-9ddc-dd80073fb1c6",
   "metadata": {},
   "source": [
    "I think they all look reasonable. They're all positive values"
   ]
  },
  {
   "cell_type": "markdown",
   "id": "bfd6cad4-fb54-459c-a134-e11a25d47734",
   "metadata": {},
   "source": [
    "r = lunar[\"7. Radius [m]\"]\n",
    "### 2. Show the distribution of all three data in a histogram. As the histogram may not look good, do it in two ways: a) histogram of income (or citations, or crater size) and b) histogram of log income. In order to avoid issues with log of zero you can do log(1 + income) instead of log income."
   ]
  },
  {
   "cell_type": "code",
   "execution_count": 156,
   "id": "407a7dd8-f56f-4909-9b3d-b2b5d2acfedc",
   "metadata": {},
   "outputs": [],
   "source": [
    "r = lunar[\"7. Radius [m]\"]\n",
    "i = treatment.re78\n",
    "c = citations.citations"
   ]
  },
  {
   "cell_type": "code",
   "execution_count": 157,
   "id": "c1bdec6f-8579-43fb-b2f3-1e6a9999d825",
   "metadata": {},
   "outputs": [
    {
     "data": {
      "image/png": "[encoded data removed]",
      "text/plain": [
       "<Figure size 432x288 with 1 Axes>"
      ]
     },
     "metadata": {
      "needs_background": "light"
     },
     "output_type": "display_data"
    }
   ],
   "source": [
    "_ = plt.hist(r)"
   ]
  },
  {
   "cell_type": "code",
   "execution_count": 158,
   "id": "705cb0df-88e6-4286-8b48-be6cc2f101f0",
   "metadata": {},
   "outputs": [
    {
     "data": {
      "image/png": "[encoded data removed]",
      "text/plain": [
       "<Figure size 432x288 with 1 Axes>"
      ]
     },
     "metadata": {
      "needs_background": "light"
     },
     "output_type": "display_data"
    }
   ],
   "source": [
    "_ = plt.hist(np.log(r + 1))"
   ]
  },
  {
   "cell_type": "code",
   "execution_count": 159,
   "id": "22394860-7cf9-4801-bd99-600e00fc7964",
   "metadata": {},
   "outputs": [
    {
     "data": {
      "image/png": "[encoded data removed]",
      "text/plain": [
       "<Figure size 432x288 with 1 Axes>"
      ]
     },
     "metadata": {
      "needs_background": "light"
     },
     "output_type": "display_data"
    }
   ],
   "source": [
    "_ = plt.hist(i)"
   ]
  },
  {
   "cell_type": "code",
   "execution_count": 160,
   "id": "7662fe10-fefe-4062-b2e1-d8f2a06cc990",
   "metadata": {},
   "outputs": [
    {
     "data": {
      "image/png": "[encoded data removed]",
      "text/plain": [
       "<Figure size 432x288 with 1 Axes>"
      ]
     },
     "metadata": {
      "needs_background": "light"
     },
     "output_type": "display_data"
    }
   ],
   "source": [
    "_ = plt.hist(np.log(i + 1))"
   ]
  },
  {
   "cell_type": "code",
   "execution_count": 161,
   "id": "dd720ed1-a0ea-4f55-9619-a95be435e2e4",
   "metadata": {},
   "outputs": [
    {
     "data": {
      "image/png": "[encoded data removed]",
      "text/plain": [
       "<Figure size 432x288 with 1 Axes>"
      ]
     },
     "metadata": {
      "needs_background": "light"
     },
     "output_type": "display_data"
    }
   ],
   "source": [
    "_ = plt.hist(c)"
   ]
  },
  {
   "cell_type": "code",
   "execution_count": 155,
   "id": "367b2c51-1967-4700-bf10-bb914bf36a3b",
   "metadata": {},
   "outputs": [
    {
     "data": {
      "image/png": "[encoded data removed]",
      "text/plain": [
       "<Figure size 432x288 with 1 Axes>"
      ]
     },
     "metadata": {
      "needs_background": "light"
     },
     "output_type": "display_data"
    }
   ],
   "source": [
    "_ = plt.hist(np.log(1 + c))"
   ]
  },
  {
   "cell_type": "markdown",
   "id": "d27e486b-0989-41be-a411-e5f9b0f271cb",
   "metadata": {},
   "source": [
    "### 3. Look at the histograms and tell-what do you think, which one describes the least unequal distribution, and which one the most unequal distribution?"
   ]
  },
  {
   "cell_type": "markdown",
   "id": "70abb7cc-eeaf-46d2-bc1a-b5a27eef6ba7",
   "metadata": {},
   "source": [
    "The histograms that are logged displays a more equal distribution. To be specific, I think the histogram showing the log() of the lunar radius showed the most equal distribution. I chose this as the least unequal distribution because it showed a more symmetric distribution compared to the others. The one that shows the most unequal distribution is the citations distribution. I chose this as the most unequal one because the highest point of the data set was towards one side of the spread, not in the middle. In other words, it is very asymmetrical."
   ]
  },
  {
   "cell_type": "markdown",
   "id": "2bc3804e-8ab1-44cc-bcb1-1b6af73a12ee",
   "metadata": {},
   "source": [
    "### 4. Compute sample mean and standard deviation for all three data. Compare these: how much smaller (or larger) is std. dev compared to the mean?\n",
    " "
   ]
  },
  {
   "cell_type": "code",
   "execution_count": 173,
   "id": "7b21307c-0e08-459c-9e8b-6729994aceeb",
   "metadata": {},
   "outputs": [
    {
     "data": {
      "text/plain": [
       "13711.492083524552"
      ]
     },
     "execution_count": 173,
     "metadata": {},
     "output_type": "execute_result"
    }
   ],
   "source": [
    "r.mean() #lunar mean"
   ]
  },
  {
   "cell_type": "code",
   "execution_count": 174,
   "id": "8eb0e331-6c36-4f68-851e-704f78e1542a",
   "metadata": {},
   "outputs": [
    {
     "data": {
      "text/plain": [
       "27505.543842011248"
      ]
     },
     "execution_count": 174,
     "metadata": {},
     "output_type": "execute_result"
    }
   ],
   "source": [
    "r.std() #lunar standard deviation"
   ]
  },
  {
   "cell_type": "code",
   "execution_count": 175,
   "id": "ee5cb4ea-380f-4c5f-ab07-d0b67cf43336",
   "metadata": {},
   "outputs": [
    {
     "data": {
      "text/plain": [
       "20502.37607865417"
      ]
     },
     "execution_count": 175,
     "metadata": {},
     "output_type": "execute_result"
    }
   ],
   "source": [
    "i.mean() #treatment mean"
   ]
  },
  {
   "cell_type": "code",
   "execution_count": 176,
   "id": "4007193e-d89d-4343-8be6-62c8ceedfd77",
   "metadata": {},
   "outputs": [
    {
     "data": {
      "text/plain": [
       "15632.519774212507"
      ]
     },
     "execution_count": 176,
     "metadata": {},
     "output_type": "execute_result"
    }
   ],
   "source": [
    "i.std() #treatment standard deviation"
   ]
  },
  {
   "cell_type": "code",
   "execution_count": 177,
   "id": "6c9b8c70-3e67-4152-abbd-9b74f6876f96",
   "metadata": {},
   "outputs": [
    {
     "data": {
      "text/plain": [
       "15.605633333333333"
      ]
     },
     "execution_count": 177,
     "metadata": {},
     "output_type": "execute_result"
    }
   ],
   "source": [
    "c.mean() #citations mean"
   ]
  },
  {
   "cell_type": "code",
   "execution_count": 178,
   "id": "cb29c5f0-e35a-4473-92a1-b2416f79772c",
   "metadata": {},
   "outputs": [
    {
     "data": {
      "text/plain": [
       "79.17810312200979"
      ]
     },
     "execution_count": 178,
     "metadata": {},
     "output_type": "execute_result"
    }
   ],
   "source": [
    "c.std() #citations standard deviation"
   ]
  },
  {
   "cell_type": "markdown",
   "id": "66aef149-9853-4503-b74a-a64b38261ce3",
   "metadata": {},
   "source": [
    "For the lunar radius and the citations, the standard deviations are over two times larger than their means. The treatment mean, on the other hand, is larger than the standard deviation."
   ]
  },
  {
   "cell_type": "markdown",
   "id": "43c3063a-68eb-437f-8f41-b938d9772908",
   "metadata": {},
   "source": [
    "## 2.2 80-20 Ratio"
   ]
  },
  {
   "cell_type": "markdown",
   "id": "00aec46e-1f56-4f8e-b784-702594058dbf",
   "metadata": {},
   "source": [
    "### 1. Compute the 20/80 ratio for all these three distributions\n",
    "Hint: the answers are approximately 18, 30, 37"
   ]
  },
  {
   "cell_type": "code",
   "execution_count": 162,
   "id": "466072ce-5e50-4b50-84d4-85f37526d805",
   "metadata": {},
   "outputs": [
    {
     "data": {
      "text/plain": [
       "0.7073570343211179"
      ]
     },
     "execution_count": 162,
     "metadata": {},
     "output_type": "execute_result"
    }
   ],
   "source": [
    "r_threshold = np.percentile(r , 70)\n",
    "rtotal = r.sum()\n",
    "r[r > r_threshold].sum()/rtotal "
   ]
  },
  {
   "cell_type": "code",
   "execution_count": 163,
   "id": "119d8f86-cd99-4ea7-8a53-29d476557437",
   "metadata": {},
   "outputs": [
    {
     "data": {
      "text/plain": [
       "0.6348069361388086"
      ]
     },
     "execution_count": 163,
     "metadata": {},
     "output_type": "execute_result"
    }
   ],
   "source": [
    "i_threshold = np.percentile(i, 64) #top 36%\n",
    "itotal = i.sum()\n",
    "i[i > i_threshold].sum()/itotal"
   ]
  },
  {
   "cell_type": "code",
   "execution_count": 164,
   "id": "b333a6a8-eb32-45bb-9838-17fa93e91928",
   "metadata": {},
   "outputs": [
    {
     "data": {
      "text/plain": [
       "0.8325220166222027"
      ]
     },
     "execution_count": 164,
     "metadata": {},
     "output_type": "execute_result"
    }
   ],
   "source": [
    "c_threshold = np.percentile(c, 82) #top 18%\n",
    "ctotal = c.sum()\n",
    "c[c > c_threshold].sum()/ctotal"
   ]
  },
  {
   "cell_type": "markdown",
   "id": "d4f37cd0-832e-4683-bab2-c77708f48e8d",
   "metadata": {},
   "source": [
    "The top 30% of radius accounts for 70% of all radiuses in the lunar dataset.\n",
    "\n",
    "The top 36% of real incomes in 1978 account for 63% of all real incomes in 1978 according to the dataset.\n",
    "\n",
    "The top 18% of citations account for 82% of all citations in the citations dataset."
   ]
  },
  {
   "cell_type": "markdown",
   "id": "0b8484bc-8c2c-40d3-b35b-d84bbf3285ca",
   "metadata": {},
   "source": [
    "#### 2. Which distribution is the most unequal one? Which one the most equal one? Does this corresponds to what did you guess based on the visual impression based on the histograms?"
   ]
  },
  {
   "cell_type": "markdown",
   "id": "5443a824-2121-482e-b67c-503bb90512fd",
   "metadata": {},
   "source": [
    "The most unequal distribution in the 20/80 distribution is the citations dataset. This corresponds to the visual.\n",
    "\n",
    "The most equal distribution was the income distribution in the treatment dataset. It would be perfectly equal if the top 50% accounted for 50% of the total data, but it didn't happen with any of the distributions. Instead, the closest one was the top 36% of real incomes accounts for 63% of all real incomes according to the dataset. This is a little different than my visual impressions based on the histogram. My analysis for the histogram was that the lunar data set would be most even. However, it was not the case. "
   ]
  },
  {
   "cell_type": "markdown",
   "id": "d46d1535-eeb8-4380-8b6f-af271af14f6a",
   "metadata": {},
   "source": [
    "# 3 Global Temperature Over Time\n",
    "### Your task is to answer two questions:\n",
    "#### a) Do we observe a trend in the global temperature over time in this data?\n",
    "#### b) Do we observe a trend in the temporal variability (i.e. variability over time) of the global temperature in this data?"
   ]
  },
  {
   "cell_type": "markdown",
   "id": "18625129-cc94-4a5f-8803-deaeec051da8",
   "metadata": {},
   "source": [
    "### 1. Are these variables of such a measure type that permit to ask/answer such a question?"
   ]
  },
  {
   "cell_type": "markdown",
   "id": "5753eeff-1055-4536-bb46-1cdb3e56e5cd",
   "metadata": {},
   "source": [
    "The variables are:\n",
    "\n",
    "year\n",
    "\n",
    "month: month 1..12\n",
    "\n",
    "the area of measurement: globe, nh = north hemisphere, nh_land = NH land, nh_ocean = NH ocean, sh = south hemisphere, trpcs = tropics, noext = northern areas outside tropics, soext, nopol = northern polar areas, etc.\n",
    "\n",
    "globe: global temperature deg C deviation from 1991-2020 average.\n",
    "\n",
    "globe_land: global land temperature. There are many others, including hemishperes, ocean, polar areas etc."
   ]
  },
  {
   "cell_type": "markdown",
   "id": "1604bb8f-0373-42c0-a9ed-a9e340a3b731",
   "metadata": {},
   "source": [
    "Judging by the variables, I think they permit me toask and answer such a question. There is the year and month variable, which are intervals and needed in order to measure time. To measure and find trends about global temperature, the globe and globe_land variables are also numeric and can provide answers to the questions."
   ]
  },
  {
   "cell_type": "markdown",
   "id": "4f507e2a-8d43-406e-b8f1-7d82d58316f2",
   "metadata": {},
   "source": [
    "### 2. Load the data. Perform basic sanity checks."
   ]
  },
  {
   "cell_type": "code",
   "execution_count": 4,
   "id": "47ae680a-540b-4ab3-8200-aa390a8f7dba",
   "metadata": {},
   "outputs": [],
   "source": [
    "temp = pd.read_csv(\"../data/UAH-lower-troposphere-wide.csv.bz2\", sep='\\t')"
   ]
  },
  {
   "cell_type": "markdown",
   "id": "a65ff480-28ab-49d3-9499-05135df6790a",
   "metadata": {},
   "source": [
    "#### How many variables (columns) is there in the data? Ensure you know the variables in the data. Keep the documentation nearby."
   ]
  },
  {
   "cell_type": "code",
   "execution_count": 5,
   "id": "ec678921-f7d6-4f06-bea7-3d77660ede14",
   "metadata": {},
   "outputs": [
    {
     "data": {
      "text/plain": [
       "29"
      ]
     },
     "execution_count": 5,
     "metadata": {},
     "output_type": "execute_result"
    }
   ],
   "source": [
    "temp.shape[1] #gives number of columns"
   ]
  },
  {
   "cell_type": "markdown",
   "id": "871a6d52-c3b4-44fc-b685-a73fbadb0c7c",
   "metadata": {},
   "source": [
    "#### How many rows of data is there?"
   ]
  },
  {
   "cell_type": "code",
   "execution_count": 6,
   "id": "af17757b-9a72-4f91-8320-52d9d49ec019",
   "metadata": {},
   "outputs": [
    {
     "data": {
      "text/plain": [
       "517"
      ]
     },
     "execution_count": 6,
     "metadata": {},
     "output_type": "execute_result"
    }
   ],
   "source": [
    "temp.shape[0] #gives number of rows"
   ]
  },
  {
   "cell_type": "markdown",
   "id": "31af0a5c-cf88-42d7-ab67-d6948ec82df8",
   "metadata": {},
   "source": [
    "#### Print the first few lines of data. Does it look reasonable?"
   ]
  },
  {
   "cell_type": "code",
   "execution_count": 7,
   "id": "f29b684c-81e9-421b-80bd-793b9f806bbe",
   "metadata": {},
   "outputs": [
    {
     "data": {
      "text/html": [
       "<div>\n",
       "<style scoped>\n",
       "    .dataframe tbody tr th:only-of-type {\n",
       "        vertical-align: middle;\n",
       "    }\n",
       "\n",
       "    .dataframe tbody tr th {\n",
       "        vertical-align: top;\n",
       "    }\n",
       "\n",
       "    .dataframe thead th {\n",
       "        text-align: right;\n",
       "    }\n",
       "</style>\n",
       "<table border=\"1\" class=\"dataframe\">\n",
       "  <thead>\n",
       "    <tr style=\"text-align: right;\">\n",
       "      <th></th>\n",
       "      <th>year</th>\n",
       "      <th>month</th>\n",
       "      <th>globe</th>\n",
       "      <th>globe_land</th>\n",
       "      <th>globe_ocean</th>\n",
       "      <th>nh</th>\n",
       "      <th>nh_land</th>\n",
       "      <th>nh_ocean</th>\n",
       "      <th>sh</th>\n",
       "      <th>sh_land</th>\n",
       "      <th>...</th>\n",
       "      <th>soext_ocean</th>\n",
       "      <th>nopol</th>\n",
       "      <th>nopol_land</th>\n",
       "      <th>nopol_ocean</th>\n",
       "      <th>sopol</th>\n",
       "      <th>sopol_land</th>\n",
       "      <th>sopol_ocean</th>\n",
       "      <th>usa48</th>\n",
       "      <th>usa49</th>\n",
       "      <th>aust</th>\n",
       "    </tr>\n",
       "  </thead>\n",
       "  <tbody>\n",
       "    <tr>\n",
       "      <th>0</th>\n",
       "      <td>1978</td>\n",
       "      <td>12</td>\n",
       "      <td>-0.48</td>\n",
       "      <td>-0.51</td>\n",
       "      <td>-0.47</td>\n",
       "      <td>-0.44</td>\n",
       "      <td>-0.46</td>\n",
       "      <td>-0.42</td>\n",
       "      <td>-0.52</td>\n",
       "      <td>-0.62</td>\n",
       "      <td>...</td>\n",
       "      <td>-0.45</td>\n",
       "      <td>-0.39</td>\n",
       "      <td>-0.68</td>\n",
       "      <td>-0.06</td>\n",
       "      <td>-0.45</td>\n",
       "      <td>-0.38</td>\n",
       "      <td>-0.49</td>\n",
       "      <td>-1.29</td>\n",
       "      <td>-1.15</td>\n",
       "      <td>-1.29</td>\n",
       "    </tr>\n",
       "    <tr>\n",
       "      <th>1</th>\n",
       "      <td>1979</td>\n",
       "      <td>1</td>\n",
       "      <td>-0.47</td>\n",
       "      <td>-0.64</td>\n",
       "      <td>-0.41</td>\n",
       "      <td>-0.64</td>\n",
       "      <td>-0.86</td>\n",
       "      <td>-0.50</td>\n",
       "      <td>-0.31</td>\n",
       "      <td>-0.13</td>\n",
       "      <td>...</td>\n",
       "      <td>-0.29</td>\n",
       "      <td>-0.46</td>\n",
       "      <td>-0.95</td>\n",
       "      <td>0.10</td>\n",
       "      <td>-0.16</td>\n",
       "      <td>-0.15</td>\n",
       "      <td>-0.16</td>\n",
       "      <td>-3.22</td>\n",
       "      <td>-2.42</td>\n",
       "      <td>0.92</td>\n",
       "    </tr>\n",
       "    <tr>\n",
       "      <th>2</th>\n",
       "      <td>1979</td>\n",
       "      <td>2</td>\n",
       "      <td>-0.43</td>\n",
       "      <td>-0.56</td>\n",
       "      <td>-0.39</td>\n",
       "      <td>-0.47</td>\n",
       "      <td>-0.57</td>\n",
       "      <td>-0.41</td>\n",
       "      <td>-0.39</td>\n",
       "      <td>-0.53</td>\n",
       "      <td>...</td>\n",
       "      <td>-0.36</td>\n",
       "      <td>-2.00</td>\n",
       "      <td>-2.30</td>\n",
       "      <td>-1.66</td>\n",
       "      <td>-0.80</td>\n",
       "      <td>-1.25</td>\n",
       "      <td>-0.58</td>\n",
       "      <td>-1.76</td>\n",
       "      <td>-1.84</td>\n",
       "      <td>-0.30</td>\n",
       "    </tr>\n",
       "    <tr>\n",
       "      <th>3</th>\n",
       "      <td>1979</td>\n",
       "      <td>3</td>\n",
       "      <td>-0.38</td>\n",
       "      <td>-0.51</td>\n",
       "      <td>-0.33</td>\n",
       "      <td>-0.46</td>\n",
       "      <td>-0.51</td>\n",
       "      <td>-0.44</td>\n",
       "      <td>-0.30</td>\n",
       "      <td>-0.53</td>\n",
       "      <td>...</td>\n",
       "      <td>-0.21</td>\n",
       "      <td>-0.56</td>\n",
       "      <td>-0.47</td>\n",
       "      <td>-0.65</td>\n",
       "      <td>-0.53</td>\n",
       "      <td>-1.25</td>\n",
       "      <td>-0.18</td>\n",
       "      <td>-0.70</td>\n",
       "      <td>-0.38</td>\n",
       "      <td>0.23</td>\n",
       "    </tr>\n",
       "    <tr>\n",
       "      <th>4</th>\n",
       "      <td>1979</td>\n",
       "      <td>4</td>\n",
       "      <td>-0.40</td>\n",
       "      <td>-0.57</td>\n",
       "      <td>-0.34</td>\n",
       "      <td>-0.47</td>\n",
       "      <td>-0.62</td>\n",
       "      <td>-0.37</td>\n",
       "      <td>-0.34</td>\n",
       "      <td>-0.46</td>\n",
       "      <td>...</td>\n",
       "      <td>-0.31</td>\n",
       "      <td>-0.84</td>\n",
       "      <td>-0.81</td>\n",
       "      <td>-0.87</td>\n",
       "      <td>-0.26</td>\n",
       "      <td>0.26</td>\n",
       "      <td>-0.51</td>\n",
       "      <td>-0.72</td>\n",
       "      <td>-0.46</td>\n",
       "      <td>-1.12</td>\n",
       "    </tr>\n",
       "  </tbody>\n",
       "</table>\n",
       "<p>5 rows × 29 columns</p>\n",
       "</div>"
      ],
      "text/plain": [
       "   year  month  globe  globe_land  globe_ocean    nh  nh_land  nh_ocean    sh  \\\n",
       "0  1978     12  -0.48       -0.51        -0.47 -0.44    -0.46     -0.42 -0.52   \n",
       "1  1979      1  -0.47       -0.64        -0.41 -0.64    -0.86     -0.50 -0.31   \n",
       "2  1979      2  -0.43       -0.56        -0.39 -0.47    -0.57     -0.41 -0.39   \n",
       "3  1979      3  -0.38       -0.51        -0.33 -0.46    -0.51     -0.44 -0.30   \n",
       "4  1979      4  -0.40       -0.57        -0.34 -0.47    -0.62     -0.37 -0.34   \n",
       "\n",
       "   sh_land  ...  soext_ocean  nopol  nopol_land  nopol_ocean  sopol  \\\n",
       "0    -0.62  ...        -0.45  -0.39       -0.68        -0.06  -0.45   \n",
       "1    -0.13  ...        -0.29  -0.46       -0.95         0.10  -0.16   \n",
       "2    -0.53  ...        -0.36  -2.00       -2.30        -1.66  -0.80   \n",
       "3    -0.53  ...        -0.21  -0.56       -0.47        -0.65  -0.53   \n",
       "4    -0.46  ...        -0.31  -0.84       -0.81        -0.87  -0.26   \n",
       "\n",
       "   sopol_land  sopol_ocean  usa48  usa49  aust  \n",
       "0       -0.38        -0.49  -1.29  -1.15 -1.29  \n",
       "1       -0.15        -0.16  -3.22  -2.42  0.92  \n",
       "2       -1.25        -0.58  -1.76  -1.84 -0.30  \n",
       "3       -1.25        -0.18  -0.70  -0.38  0.23  \n",
       "4        0.26        -0.51  -0.72  -0.46 -1.12  \n",
       "\n",
       "[5 rows x 29 columns]"
      ]
     },
     "execution_count": 7,
     "metadata": {},
     "output_type": "execute_result"
    }
   ],
   "source": [
    "temp.head()"
   ]
  },
  {
   "cell_type": "markdown",
   "id": "6a4e4852-33b7-43f1-ba3e-c086724bb473",
   "metadata": {},
   "source": [
    "### 3.  Make a simple plot to address the first question–the temperature trend. Which variables do you want to plot? Comment the result: what, if anything, does the figure suggest?\n",
    "#### Hint: you may want to create a variable for time along the lines time = year +month/12"
   ]
  },
  {
   "cell_type": "code",
   "execution_count": 8,
   "id": "712a13cc-ef26-4e4f-992e-e935d8799f7a",
   "metadata": {},
   "outputs": [
    {
     "data": {
      "image/png": "[encoded data removed]",
      "text/plain": [
       "<Figure size 432x288 with 1 Axes>"
      ]
     },
     "metadata": {
      "needs_background": "light"
     },
     "output_type": "display_data"
    }
   ],
   "source": [
    "temp[\"time\"] = temp.year + temp.month / 12\n",
    "_ = plt.scatter(temp.time, temp.globe)\n",
    "_ = plt.xlabel(\"Time\")\n",
    "_ = plt.ylabel(\" Average Global Temperature\")\n",
    "_ = plt.title(\"Global Temperature 1991-2020\")"
   ]
  },
  {
   "cell_type": "markdown",
   "id": "6e16ed1f-c19f-4b0b-858f-9be757c6b1a5",
   "metadata": {},
   "source": [
    "I decided to plot a variable that represents time and a vairable that represents the average global temperature. To calculate the time, I used the suggested formula of time = year + month / 12 (I'm assuming the temperature is being taken at the same time every month). The average global temperature was already in the dataset under the variable globe. \n",
    "\n",
    "There defintely seems to be an upwards trend. As time passes, the global temperature increase. It is not exactly a linear relationship, as I think that it is slightly curved upwards."
   ]
  },
  {
   "cell_type": "markdown",
   "id": "c115f5eb-97d2-4ccd-b334-4bc1b460d755",
   "metadata": {},
   "source": [
    "### 4. However, for each month we have a single global temperature reading only so we cannot compute the monthly variance across the globe. Instead, let’s compute yearly variance, variance of global temperature over months for each year, and make a plot where years are on the horizontal axis and temperature variance on the vertical axis.\n",
    "#### Hint: use groupby by years."
   ]
  },
  {
   "cell_type": "code",
   "execution_count": 22,
   "id": "de0b73da-ba8d-486c-8c6e-e60729ecc4a6",
   "metadata": {},
   "outputs": [
    {
     "data": {
      "image/png": "[encoded data removed]",
      "text/plain": [
       "<Figure size 432x288 with 1 Axes>"
      ]
     },
     "metadata": {
      "needs_background": "light"
     },
     "output_type": "display_data"
    }
   ],
   "source": [
    "yearly_var = temp.groupby(\"year\").globe.var()\n",
    "_ = plt.scatter(temp.year.unique(), yearly_var)\n",
    "_ = plt.xlabel(\"Year\")\n",
    "_ = plt.ylabel(\"Yearly Variance (Global Temperature)\")\n",
    "_ = plt.title(\"Yearly Variance of Global Temperature\")"
   ]
  },
  {
   "cell_type": "markdown",
   "id": "b6908e6f-d02f-4007-8e47-b3dddc4d42dc",
   "metadata": {},
   "source": [
    "### 5. In order to be consistent, let’s do the same with temperature: compute yearly temperature and repeat the plot with yearly averages. But what is “yearly temperature”? Do you prefer yearly mean temperature? Or perhaps yearly median? Discuss the advantages/disadvantages of these measures and pick an appropriate measure. You may also display both.\n",
    "#### Hint: Lecture notes Section 1.2.2 “Describing data” discusses mean and median."
   ]
  },
  {
   "cell_type": "code",
   "execution_count": 21,
   "id": "0e640994-7715-47f2-bb69-3ed402206ae4",
   "metadata": {},
   "outputs": [],
   "source": [
    "mean_temp = temp.groupby(\"year\").globe.mean()\n",
    "median_temp = temp.groupby(\"year\").globe.median()"
   ]
  },
  {
   "cell_type": "code",
   "execution_count": 53,
   "id": "019b7284-ba3d-4b63-af73-fbe68b455508",
   "metadata": {},
   "outputs": [
    {
     "data": {
      "image/png": "[encoded data removed]",
      "text/plain": [
       "<Figure size 432x288 with 1 Axes>"
      ]
     },
     "metadata": {
      "needs_background": "light"
     },
     "output_type": "display_data"
    }
   ],
   "source": [
    "_ = plt.scatter(temp.year.unique(), mean_temp)\n",
    "_ = plt.xlabel(\"Year\")\n",
    "_ = plt.ylabel(\"Average Temperature\")\n",
    "_ = plt.title(\"Average Yearly Temperature (Mean)\")"
   ]
  },
  {
   "cell_type": "code",
   "execution_count": 54,
   "id": "2da7cb65-f5b2-472b-b0ed-3db43ecd0f67",
   "metadata": {},
   "outputs": [
    {
     "data": {
      "image/png": "[encoded data removed]",
      "text/plain": [
       "<Figure size 432x288 with 1 Axes>"
      ]
     },
     "metadata": {
      "needs_background": "light"
     },
     "output_type": "display_data"
    }
   ],
   "source": [
    "_ = plt.scatter(temp.year.unique(), median_temp)\n",
    "_ = plt.xlabel(\"Year\")\n",
    "_ = plt.ylabel(\"Average Temperature\")\n",
    "_ = plt.title(\"Average Yearly Temperature (Median)\")"
   ]
  },
  {
   "cell_type": "markdown",
   "id": "16d1aaf4-93b2-4579-aa66-bc51f63ee073",
   "metadata": {},
   "source": [
    "Mean is easy to understand, but it sensitive to outliers anc cannot handle missing values. Median, on the other hand, requires the dataset to be organized and picks the middle number. It is not sensitive to outliers, so in a way, it can give a little more accurate reading of the middle number. It can also sometimes handle missings. I think it would be best to display both the graphs of the mean and median data."
   ]
  },
  {
   "cell_type": "markdown",
   "id": "fbfa3d55-f778-4227-8d74-11040c5aacf4",
   "metadata": {},
   "source": [
    "### 6. Finally, let’s also make similar plots using decades instead of years.\n",
    "#### Hint: create a decade variable using year and integer division //."
   ]
  },
  {
   "cell_type": "code",
   "execution_count": 55,
   "id": "2513e277-13e8-47d7-a7bc-1e07340d1f03",
   "metadata": {},
   "outputs": [
    {
     "data": {
      "image/png": "[encoded data removed]",
      "text/plain": [
       "<Figure size 432x288 with 1 Axes>"
      ]
     },
     "metadata": {
      "needs_background": "light"
     },
     "output_type": "display_data"
    }
   ],
   "source": [
    "temp[\"decade\"] = temp.year//10\n",
    "mean_temp_decade = temp.groupby(\"decade\").globe.mean()\n",
    "median_temp_decade = temp.groupby(\"decade\").globe.median()\n",
    "_ = plt.scatter(temp.decade.unique(), mean_temp_decade)\n",
    "_ = plt.xlabel(\"Year\")\n",
    "_ = plt.ylabel(\"Average Temperature\")\n",
    "_ = plt.title(\"Average Yearly Temperature (Mean)\")"
   ]
  },
  {
   "cell_type": "code",
   "execution_count": 56,
   "id": "6a6c4f88-130b-4a55-aa49-ec79c9c12b1d",
   "metadata": {},
   "outputs": [
    {
     "data": {
      "image/png": "[encoded data removed]",
      "text/plain": [
       "<Figure size 432x288 with 1 Axes>"
      ]
     },
     "metadata": {
      "needs_background": "light"
     },
     "output_type": "display_data"
    }
   ],
   "source": [
    "_ = plt.scatter(temp.decade.unique(), median_temp_decade)\n",
    "_ = plt.xlabel(\"Year\")\n",
    "_ = plt.ylabel(\"Average Temperature\")\n",
    "_ = plt.title(\"Average Yearly Temperature (Median)\")"
   ]
  },
  {
   "cell_type": "markdown",
   "id": "4b51e35f-f2e6-464d-8a2e-25c3156625c4",
   "metadata": {},
   "source": [
    "### 7. In your decadal plot: what do you think about data quality for 1970s and 2020s?\n",
    "#### Hint: how many observations are there?"
   ]
  },
  {
   "cell_type": "code",
   "execution_count": 57,
   "id": "3da8816f-d5a7-4032-9f5b-307f077cd80a",
   "metadata": {},
   "outputs": [
    {
     "data": {
      "text/plain": [
       "13"
      ]
     },
     "execution_count": 57,
     "metadata": {},
     "output_type": "execute_result"
    }
   ],
   "source": [
    "len(temp[temp.decade == 197])"
   ]
  },
  {
   "cell_type": "code",
   "execution_count": 58,
   "id": "6558e601-4fbf-4993-9678-6a5fe78fc72b",
   "metadata": {},
   "outputs": [
    {
     "data": {
      "text/plain": [
       "24"
      ]
     },
     "execution_count": 58,
     "metadata": {},
     "output_type": "execute_result"
    }
   ],
   "source": [
    "len(temp[temp.decade == 202])"
   ]
  },
  {
   "cell_type": "markdown",
   "id": "4eb95114-1916-44e7-8ed9-ee11c21eb3ee",
   "metadata": {},
   "source": [
    "The data in the 2020s is far more complete than the data in the 1970s. There are more rows of data in the 2020s than in the 1970s. This means that the quality of data in the 1970s isn't as good as the one in the 2020s."
   ]
  },
  {
   "cell_type": "markdown",
   "id": "ede1221a-f790-457e-8894-9a3ddce062ac",
   "metadata": {},
   "source": [
    "### 8. Discuss all your plots and state your conclusions: \n",
    "#### Do you see any temperature trend? Do you see any trend in temporal variability? "
   ]
  },
  {
   "cell_type": "markdown",
   "id": "8511b2ef-0589-493d-a21d-5e2b76246db6",
   "metadata": {},
   "source": [
    "From the mean and median temperature graphs, there is an obvious positive trend as the year increases. However, I don't see any trends in temporal variability."
   ]
  },
  {
   "cell_type": "markdown",
   "id": "7e910796-3605-4ec4-bd19-e2cb4cd7b5dd",
   "metadata": {},
   "source": [
    "#### Which plots do you think illustrate your claims in the best way?"
   ]
  },
  {
   "cell_type": "markdown",
   "id": "e3867f65-7e8e-4a7f-b58d-908408c789c4",
   "metadata": {},
   "source": [
    "I think the mean and median decadal plots illustrate my claims in the best way. This is because the decadal plots gives a very straightforward answer to the question and is very easy to interpret. Also, the mean and median plots shows the data with and without outliers, which can be very helpful in determining if the temperature is indeed rising, or if it is just one specific year where the temperature just happened to be extremely high."
   ]
  },
  {
   "cell_type": "markdown",
   "id": "441d19d5-ae84-4106-9060-ae59cc0de7ca",
   "metadata": {},
   "source": [
    "# How much time did you spend on this PS?"
   ]
  },
  {
   "cell_type": "markdown",
   "id": "9b6e8e31-c0db-4a56-af22-cd1c5a5516d9",
   "metadata": {},
   "source": [
    "6 hours"
   ]
  },
  {
   "cell_type": "code",
   "execution_count": null,
   "id": "227ef0b0-77d4-4a77-abf5-dcd11d49572a",
   "metadata": {},
   "outputs": [],
   "source": []
  }
 ],
 "metadata": {
  "kernelspec": {
   "display_name": "Python 3 (ipykernel)",
   "language": "python",
   "name": "python3"
  },
  "language_info": {
   "codemirror_mode": {
    "name": "ipython",
    "version": 3
   },
   "file_extension": ".py",
   "mimetype": "text/x-python",
   "name": "python",
   "nbconvert_exporter": "python",
   "pygments_lexer": "ipython3",
   "version": "3.9.7"
  }
 },
 "nbformat": 4,
 "nbformat_minor": 5
}
