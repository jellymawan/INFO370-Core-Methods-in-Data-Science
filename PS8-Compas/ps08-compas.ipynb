{
 "cells": [
  {
   "cell_type": "markdown",
   "id": "4e59ea11-7b5e-488d-b3d5-808e593dba06",
   "metadata": {},
   "source": [
    "# 1. Is COMPAS fair? (48pt)"
   ]
  },
  {
   "cell_type": "code",
   "execution_count": 1,
   "id": "d095293f-9442-49ed-9314-afaf143bd3f0",
   "metadata": {},
   "outputs": [],
   "source": [
    "import numpy as np\n",
    "import pandas as pd"
   ]
  },
  {
   "cell_type": "markdown",
   "id": "9749cc3c-8eef-4a97-8060-d7f56fb60658",
   "metadata": {},
   "source": [
    "## 1. (1pt) Load the COMPAS data, and perform the basic checks."
   ]
  },
  {
   "cell_type": "code",
   "execution_count": 2,
   "id": "dd979e29-7872-4262-a286-354ba8e03b55",
   "metadata": {},
   "outputs": [
    {
     "name": "stdout",
     "output_type": "stream",
     "text": [
      "shape:  (6172, 8)\n"
     ]
    },
    {
     "data": {
      "text/html": [
       "<div>\n",
       "<style scoped>\n",
       "    .dataframe tbody tr th:only-of-type {\n",
       "        vertical-align: middle;\n",
       "    }\n",
       "\n",
       "    .dataframe tbody tr th {\n",
       "        vertical-align: top;\n",
       "    }\n",
       "\n",
       "    .dataframe thead th {\n",
       "        text-align: right;\n",
       "    }\n",
       "</style>\n",
       "<table border=\"1\" class=\"dataframe\">\n",
       "  <thead>\n",
       "    <tr style=\"text-align: right;\">\n",
       "      <th></th>\n",
       "      <th>age</th>\n",
       "      <th>c_charge_degree</th>\n",
       "      <th>race</th>\n",
       "      <th>age_cat</th>\n",
       "      <th>sex</th>\n",
       "      <th>priors_count</th>\n",
       "      <th>decile_score</th>\n",
       "      <th>two_year_recid</th>\n",
       "    </tr>\n",
       "  </thead>\n",
       "  <tbody>\n",
       "    <tr>\n",
       "      <th>0</th>\n",
       "      <td>69</td>\n",
       "      <td>F</td>\n",
       "      <td>Other</td>\n",
       "      <td>Greater than 45</td>\n",
       "      <td>Male</td>\n",
       "      <td>0</td>\n",
       "      <td>1</td>\n",
       "      <td>0</td>\n",
       "    </tr>\n",
       "    <tr>\n",
       "      <th>1</th>\n",
       "      <td>34</td>\n",
       "      <td>F</td>\n",
       "      <td>African-American</td>\n",
       "      <td>25 - 45</td>\n",
       "      <td>Male</td>\n",
       "      <td>0</td>\n",
       "      <td>3</td>\n",
       "      <td>1</td>\n",
       "    </tr>\n",
       "    <tr>\n",
       "      <th>2</th>\n",
       "      <td>24</td>\n",
       "      <td>F</td>\n",
       "      <td>African-American</td>\n",
       "      <td>Less than 25</td>\n",
       "      <td>Male</td>\n",
       "      <td>4</td>\n",
       "      <td>4</td>\n",
       "      <td>1</td>\n",
       "    </tr>\n",
       "    <tr>\n",
       "      <th>3</th>\n",
       "      <td>44</td>\n",
       "      <td>M</td>\n",
       "      <td>Other</td>\n",
       "      <td>25 - 45</td>\n",
       "      <td>Male</td>\n",
       "      <td>0</td>\n",
       "      <td>1</td>\n",
       "      <td>0</td>\n",
       "    </tr>\n",
       "    <tr>\n",
       "      <th>4</th>\n",
       "      <td>41</td>\n",
       "      <td>F</td>\n",
       "      <td>Caucasian</td>\n",
       "      <td>25 - 45</td>\n",
       "      <td>Male</td>\n",
       "      <td>14</td>\n",
       "      <td>6</td>\n",
       "      <td>1</td>\n",
       "    </tr>\n",
       "  </tbody>\n",
       "</table>\n",
       "</div>"
      ],
      "text/plain": [
       "   age c_charge_degree              race          age_cat   sex  priors_count  \\\n",
       "0   69               F             Other  Greater than 45  Male             0   \n",
       "1   34               F  African-American          25 - 45  Male             0   \n",
       "2   24               F  African-American     Less than 25  Male             4   \n",
       "3   44               M             Other          25 - 45  Male             0   \n",
       "4   41               F         Caucasian          25 - 45  Male            14   \n",
       "\n",
       "   decile_score  two_year_recid  \n",
       "0             1               0  \n",
       "1             3               1  \n",
       "2             4               1  \n",
       "3             1               0  \n",
       "4             6               1  "
      ]
     },
     "execution_count": 2,
     "metadata": {},
     "output_type": "execute_result"
    }
   ],
   "source": [
    "compas = pd.read_csv(\"../data/compas-score-data.csv.bz2\", sep=\"\\t\")\n",
    "print(\"shape: \", compas.shape)\n",
    "compas.head()"
   ]
  },
  {
   "cell_type": "code",
   "execution_count": 3,
   "id": "3a2a5abe-29f7-4e06-99c8-b72e11046272",
   "metadata": {},
   "outputs": [
    {
     "data": {
      "text/plain": [
       "age                0\n",
       "c_charge_degree    0\n",
       "race               0\n",
       "age_cat            0\n",
       "sex                0\n",
       "priors_count       0\n",
       "decile_score       0\n",
       "two_year_recid     0\n",
       "dtype: int64"
      ]
     },
     "execution_count": 3,
     "metadata": {},
     "output_type": "execute_result"
    }
   ],
   "source": [
    "compas.isna().sum()"
   ]
  },
  {
   "cell_type": "code",
   "execution_count": 4,
   "id": "c25b61bb-566d-4efc-9444-1a308f8c80e4",
   "metadata": {},
   "outputs": [
    {
     "data": {
      "text/plain": [
       "age                 int64\n",
       "c_charge_degree    object\n",
       "race               object\n",
       "age_cat            object\n",
       "sex                object\n",
       "priors_count        int64\n",
       "decile_score        int64\n",
       "two_year_recid      int64\n",
       "dtype: object"
      ]
     },
     "execution_count": 4,
     "metadata": {},
     "output_type": "execute_result"
    }
   ],
   "source": [
    "compas.dtypes"
   ]
  },
  {
   "cell_type": "markdown",
   "id": "1468f6ea-0e78-4288-a760-80148a1b116e",
   "metadata": {},
   "source": [
    "## 2. (1pt) Filter the data to keep only Caucasian and African-Americans. There are just too few offenders of other races."
   ]
  },
  {
   "cell_type": "code",
   "execution_count": 5,
   "id": "c2c6f93b-eacf-4b79-be72-6a17c45e9eb5",
   "metadata": {},
   "outputs": [
    {
     "data": {
      "text/html": [
       "<div>\n",
       "<style scoped>\n",
       "    .dataframe tbody tr th:only-of-type {\n",
       "        vertical-align: middle;\n",
       "    }\n",
       "\n",
       "    .dataframe tbody tr th {\n",
       "        vertical-align: top;\n",
       "    }\n",
       "\n",
       "    .dataframe thead th {\n",
       "        text-align: right;\n",
       "    }\n",
       "</style>\n",
       "<table border=\"1\" class=\"dataframe\">\n",
       "  <thead>\n",
       "    <tr style=\"text-align: right;\">\n",
       "      <th></th>\n",
       "      <th>age</th>\n",
       "      <th>c_charge_degree</th>\n",
       "      <th>race</th>\n",
       "      <th>age_cat</th>\n",
       "      <th>sex</th>\n",
       "      <th>priors_count</th>\n",
       "      <th>decile_score</th>\n",
       "      <th>two_year_recid</th>\n",
       "    </tr>\n",
       "  </thead>\n",
       "  <tbody>\n",
       "    <tr>\n",
       "      <th>1</th>\n",
       "      <td>34</td>\n",
       "      <td>F</td>\n",
       "      <td>African-American</td>\n",
       "      <td>25 - 45</td>\n",
       "      <td>Male</td>\n",
       "      <td>0</td>\n",
       "      <td>3</td>\n",
       "      <td>1</td>\n",
       "    </tr>\n",
       "    <tr>\n",
       "      <th>2</th>\n",
       "      <td>24</td>\n",
       "      <td>F</td>\n",
       "      <td>African-American</td>\n",
       "      <td>Less than 25</td>\n",
       "      <td>Male</td>\n",
       "      <td>4</td>\n",
       "      <td>4</td>\n",
       "      <td>1</td>\n",
       "    </tr>\n",
       "    <tr>\n",
       "      <th>4</th>\n",
       "      <td>41</td>\n",
       "      <td>F</td>\n",
       "      <td>Caucasian</td>\n",
       "      <td>25 - 45</td>\n",
       "      <td>Male</td>\n",
       "      <td>14</td>\n",
       "      <td>6</td>\n",
       "      <td>1</td>\n",
       "    </tr>\n",
       "    <tr>\n",
       "      <th>6</th>\n",
       "      <td>39</td>\n",
       "      <td>M</td>\n",
       "      <td>Caucasian</td>\n",
       "      <td>25 - 45</td>\n",
       "      <td>Female</td>\n",
       "      <td>0</td>\n",
       "      <td>1</td>\n",
       "      <td>0</td>\n",
       "    </tr>\n",
       "    <tr>\n",
       "      <th>7</th>\n",
       "      <td>27</td>\n",
       "      <td>F</td>\n",
       "      <td>Caucasian</td>\n",
       "      <td>25 - 45</td>\n",
       "      <td>Male</td>\n",
       "      <td>0</td>\n",
       "      <td>4</td>\n",
       "      <td>0</td>\n",
       "    </tr>\n",
       "  </tbody>\n",
       "</table>\n",
       "</div>"
      ],
      "text/plain": [
       "   age c_charge_degree              race       age_cat     sex  priors_count  \\\n",
       "1   34               F  African-American       25 - 45    Male             0   \n",
       "2   24               F  African-American  Less than 25    Male             4   \n",
       "4   41               F         Caucasian       25 - 45    Male            14   \n",
       "6   39               M         Caucasian       25 - 45  Female             0   \n",
       "7   27               F         Caucasian       25 - 45    Male             0   \n",
       "\n",
       "   decile_score  two_year_recid  \n",
       "1             3               1  \n",
       "2             4               1  \n",
       "4             6               1  \n",
       "6             1               0  \n",
       "7             4               0  "
      ]
     },
     "execution_count": 5,
     "metadata": {},
     "output_type": "execute_result"
    }
   ],
   "source": [
    "compas_aa_c = compas[(compas.race == 'Caucasian') | (compas.race == 'African-American')]\n",
    "compas_aa_c.head()"
   ]
  },
  {
   "cell_type": "markdown",
   "id": "1521f230-880c-4e9c-8ab6-f4031f8576ca",
   "metadata": {},
   "source": [
    "## 3. (2pt) Create a new dummy variable based off of COMPAS risk score (decile_score), which indicates if an individual was classified as low risk (score 1-4) or high risk (score 5-10). Hint: you can proceed in different ways but for technical reasons related the tasks below, the best way to do it is to create a variable “high score”, that takes values 1 (decile score 5 and above) and 0 (decile score 1-4)."
   ]
  },
  {
   "cell_type": "code",
   "execution_count": 6,
   "id": "67ea9067-32d0-4424-9c5c-b9604f6aabc7",
   "metadata": {},
   "outputs": [
    {
     "name": "stdout",
     "output_type": "stream",
     "text": [
      "47502\n"
     ]
    }
   ],
   "source": [
    "df = compas_aa_c.copy()\n",
    "df[\"high_score\"] = pd.cut(df.decile_score, bins=[0,4, np.inf], labels=[0, 1])\n",
    "df.head()\n",
    "print(df.size)"
   ]
  },
  {
   "cell_type": "markdown",
   "id": "d433cb74-0df9-45a3-827b-5591d951c1b5",
   "metadata": {},
   "source": [
    "## 4. (6pt) Now analyze the offenders across this new risk category:\n",
    "### (a) What is the recidivism rate (percentage of offenders who re-commit the crime) for low- risk and high-risk individuals?"
   ]
  },
  {
   "cell_type": "code",
   "execution_count": 7,
   "id": "3aa0096d-5338-46f7-90e7-f59e385222c2",
   "metadata": {},
   "outputs": [
    {
     "name": "stdout",
     "output_type": "stream",
     "text": [
      "re-commited crime for high risk 0.6451872734595248\n",
      "re-commited crime for low risk 0.35481272654047524\n"
     ]
    }
   ],
   "source": [
    "recommited = df[df.two_year_recid == 1]\n",
    "recommited_high = recommited[recommited.high_score == 1].size #high risk\n",
    "print(\"re-commited crime for high risk\", (recommited_high / recommited.size))\n",
    "\n",
    "recommited_low = recommited[recommited.high_score == 0].size #low risk\n",
    "print(\"re-commited crime for low risk\", recommited_low / recommited.size)"
   ]
  },
  {
   "cell_type": "markdown",
   "id": "10fed2dc-5bff-4c11-923c-c02b62c3cd86",
   "metadata": {},
   "source": [
    "### (b) What are the recidivism rates for African-Americans and Caucasians?"
   ]
  },
  {
   "cell_type": "code",
   "execution_count": 8,
   "id": "239a433f-0e2c-44ab-8809-07c4cc55780d",
   "metadata": {},
   "outputs": [
    {
     "name": "stdout",
     "output_type": "stream",
     "text": [
      "re-commited crime for African-Americans 0.6689488521949255\n",
      "re-commited crime for Caucasians 0.3310511478050745\n"
     ]
    }
   ],
   "source": [
    "recommited_aa = recommited[recommited.race == \"African-American\"].size #African-American\n",
    "print(\"re-commited crime for African-Americans\", (recommited_aa / recommited.size))\n",
    "\n",
    "recommited_c = recommited[recommited.race == \"Caucasian\"].size #Caucasian\n",
    "print(\"re-commited crime for Caucasians\", (recommited_c / recommited.size))"
   ]
  },
  {
   "cell_type": "markdown",
   "id": "2f547dd6-f5e3-4fda-a811-c3a8029dd4e7",
   "metadata": {},
   "source": [
    "## 5. (8 pt) Now create a confusion matrix comparing COMPAS predictions for recidivism (low risk/high risk) and the actual two-year recidivism and interpret the results. In order to be on the same page, let’s call recidivists “positives”."
   ]
  },
  {
   "cell_type": "code",
   "execution_count": 9,
   "id": "9f2614a6-b260-402d-8879-4caa14967d44",
   "metadata": {},
   "outputs": [
    {
     "data": {
      "text/plain": [
       "array([[1872,  881],\n",
       "       [ 923, 1602]])"
      ]
     },
     "execution_count": 9,
     "metadata": {},
     "output_type": "execute_result"
    }
   ],
   "source": [
    "from sklearn.metrics import confusion_matrix\n",
    "\n",
    "cm = confusion_matrix(df.high_score, df.two_year_recid)\n",
    "cm"
   ]
  },
  {
   "cell_type": "code",
   "execution_count": 10,
   "id": "8c436047-67cb-4fbc-931c-9ddcc95919f0",
   "metadata": {},
   "outputs": [
    {
     "name": "stdout",
     "output_type": "stream",
     "text": [
      "accuracy:  0.6582038651004168\n",
      "precision:  0.6451872734595248\n",
      "recall:  0.6344554455445545\n",
      "F1-score:  0.6398213595020397\n"
     ]
    }
   ],
   "source": [
    "print(\"accuracy: \", np.mean(df.high_score == df.two_year_recid)) #accuracy\n",
    "\n",
    "from sklearn.metrics import precision_score\n",
    "print(\"precision: \", precision_score(df.high_score, df.two_year_recid)) #precision\n",
    "\n",
    "from sklearn.metrics import recall_score\n",
    "print(\"recall: \", recall_score(df.high_score, df.two_year_recid)) #recall\n",
    "\n",
    "print(\"F1-score: \", (recall_score(df.high_score, df.two_year_recid) + precision_score(df.high_score, df.two_year_recid)) / 2)"
   ]
  },
  {
   "cell_type": "markdown",
   "id": "799e7d07-0247-45ee-a2f2-e844c455b0ed",
   "metadata": {},
   "source": [
    "* COMPAS correctly identified 65.8% of individuals (accuracy).\n",
    "* COMPAS predicted 36.6% of those who are high risk to not recidivate within 2 years.\n",
    "* COMPAS predicted 32% of those who are low risk to recidivate within 2 years.\n",
    "* 64.2% of high risk individuals were correctly indentified to have recidivated within 2 years\n",
    "* 63.4% of recidivated individuals were correctly identified as high risk\n",
    "* Mean of the 2: 64%"
   ]
  },
  {
   "cell_type": "markdown",
   "id": "ed6fc7b7-80b5-4a07-a74c-613a3c6089ba",
   "metadata": {},
   "source": [
    "## 6. (8pt) Find the accuracy of the COMPAS classification, and also how its errors were distributed. Would you feel comfortable having a judge to use COMPAS to inform sentencing guidelines? At what point would the error/misclassification risk be acceptable for you? What do you think, how well can judges perform the same task without COMPAS’s help? Remember: human judges are not perfect either!"
   ]
  },
  {
   "cell_type": "code",
   "execution_count": 11,
   "id": "f2413014-1ed3-45d0-b6f3-d6a2612205c3",
   "metadata": {},
   "outputs": [
    {
     "name": "stdout",
     "output_type": "stream",
     "text": [
      "FPR:  0.3200145296040683\n",
      "FNR:  0.36554455445544554\n"
     ]
    }
   ],
   "source": [
    "fpr = 881/(881+1872)\n",
    "print(\"FPR: \", fpr)\n",
    "fnr = 923/(923+1602)\n",
    "print(\"FNR: \", fnr)"
   ]
  },
  {
   "cell_type": "markdown",
   "id": "00ef87ec-a627-427c-a3f1-d207dce1e149",
   "metadata": {},
   "source": [
    "Accuracy can be found on the above question. Personally, I would not be comfortable with having a judge use COMPAS to inform sentencing guidelines. If the accuracy was at least 90%, then I think it would be more acceptable. Although I would love the accuracy to be 100%, I truly believe that it is impossible to do so. With the COMPAS accuracy, I believe that judges can make better decisions without using COMPAS. COMPAS has a relatively high FPR and FNR, meaning there are people out there who were expected to be of \"low risk\" and yet still recidivated within 2 years, and there are also people out there who as classified as \"high risk\" and did not recidivated within 2 years. Having an error of around 30% is pretty big, so I definitely wouldn't trust the COMPAS system."
   ]
  },
  {
   "cell_type": "markdown",
   "id": "c871cd65-9408-4f81-bc9f-b81edf5efcb5",
   "metadata": {},
   "source": [
    "## 7. (10pt) Now repeat your confusion matrix calculation and analysis from 5. But this time do it separately for African-Americans and for Caucasians:"
   ]
  },
  {
   "cell_type": "code",
   "execution_count": 12,
   "id": "03d2f49e-a47a-4310-87f9-7ff74efa1bc4",
   "metadata": {},
   "outputs": [
    {
     "name": "stdout",
     "output_type": "stream",
     "text": [
      "[[ 873  473]\n",
      " [ 641 1188]]\n",
      "African-American accuracy:  0.6491338582677165\n",
      "precision:  0.7152317880794702\n",
      "recall:  0.6495352651722253\n"
     ]
    }
   ],
   "source": [
    "african_american = df[df.race == \"African-American\"]\n",
    "cm = confusion_matrix(african_american.high_score, african_american.two_year_recid)\n",
    "print(cm)\n",
    "print(\"African-American accuracy: \", np.mean(african_american.high_score == african_american.two_year_recid)) #accuracy\n",
    "print(\"precision: \", precision_score(african_american.high_score, african_american.two_year_recid)) #precision\n",
    "print(\"recall: \", recall_score(african_american.high_score, african_american.two_year_recid)) #recall"
   ]
  },
  {
   "cell_type": "code",
   "execution_count": 13,
   "id": "f479f93d-619b-4ad7-accc-29c7bcf147b3",
   "metadata": {},
   "outputs": [
    {
     "name": "stdout",
     "output_type": "stream",
     "text": [
      "[[999 408]\n",
      " [282 414]]\n",
      "Caucasian accuracy:  0.6718972895863052\n",
      "precision:  0.5036496350364964\n",
      "recall:  0.5948275862068966\n"
     ]
    }
   ],
   "source": [
    "Caucasian = df[df.race == \"Caucasian\"]\n",
    "cm = confusion_matrix(Caucasian.high_score, Caucasian.two_year_recid)\n",
    "print(cm)\n",
    "print(\"Caucasian accuracy: \", np.mean(Caucasian.high_score == Caucasian.two_year_recid)) #accuracy\n",
    "print(\"precision: \", precision_score(Caucasian.high_score, Caucasian.two_year_recid)) #precision\n",
    "print(\"recall: \", recall_score(Caucasian.high_score, Caucasian.two_year_recid)) #recall"
   ]
  },
  {
   "cell_type": "markdown",
   "id": "9e0ae160-d623-497d-89f7-d329fb66638e",
   "metadata": {},
   "source": [
    "### (a) How accurate is the COMPAS classification for African-American individuals? For Caucasians?"
   ]
  },
  {
   "cell_type": "markdown",
   "id": "b51652ed-1397-49a0-aefe-d37712123d72",
   "metadata": {},
   "source": [
    "COMPAS was able to accurately identify/classify about about 65% of African-Americans, about 67% of Caucasians"
   ]
  },
  {
   "cell_type": "markdown",
   "id": "ce286237-a9e7-404e-9ac9-4e0465e8303a",
   "metadata": {},
   "source": [
    "### (b) What are the false positive rates (false recidivism rates) FPR = FP/N = FP/(FP + T N)?"
   ]
  },
  {
   "cell_type": "code",
   "execution_count": 14,
   "id": "ee1d2466-9d63-4d2c-a3a1-ccdd569e828c",
   "metadata": {},
   "outputs": [
    {
     "name": "stdout",
     "output_type": "stream",
     "text": [
      "African-American FPR:  0.3514115898959881\n",
      "Caucasion FPR:  0.2899786780383795\n"
     ]
    }
   ],
   "source": [
    "aa_fpr = 473/(473+873)\n",
    "print(\"African-American FPR: \", aa_fpr)\n",
    "c_fpr = 408/(408+999) \n",
    "print(\"Caucasion FPR: \", c_fpr)"
   ]
  },
  {
   "cell_type": "markdown",
   "id": "577161e2-730a-455b-a3d2-cfd8fb1b930c",
   "metadata": {},
   "source": [
    "### (c) The false negative rates (false no-recidivism rates) FNR = FN/P = FN/(FN + T P)?"
   ]
  },
  {
   "cell_type": "code",
   "execution_count": 15,
   "id": "64279f7d-b979-4fc9-9d0c-acb45e0dac2b",
   "metadata": {},
   "outputs": [
    {
     "name": "stdout",
     "output_type": "stream",
     "text": [
      "African-American FNR:  0.35046473482777474\n",
      "Caucasian FNR:  0.4051724137931034\n"
     ]
    }
   ],
   "source": [
    "aa_fnr = 641/(641+1188)\n",
    "print(\"African-American FNR: \", aa_fnr)\n",
    "c_fnr = 282/(282+414)\n",
    "print(\"Caucasian FNR: \", c_fnr)"
   ]
  },
  {
   "cell_type": "markdown",
   "id": "42b57aa3-f9de-4f88-92a0-40e459eba00f",
   "metadata": {},
   "source": [
    "## 8. (12pt) If you have done this correctly, you will find that COMPAS’s percentage of correctly categorized individuals (accuracy) is fairly similar for African-American and Caucasian individuals, but that false positive rates and false negative rates are different. Look again at the overal recidivism rates in the dataset for Black and White individuals. In your opinion, is the COMPAS algorithm fair? Justify your answer.\n",
    "\n",
    "Personally, I don't think the COMPAS algorithm is fair. As a whole, the accuracy of those who recommit is already unsatisfactory (Looking only at race, decile_score, and two_year_recid). I know that these systems tend to be heavily biased towards one race, and this is also because of reasons that can't be put into a dataset. I believe that we should not be using technology to predict and identify those who we think will commit a crime in the future. Also, knowing how many people are still racist, this further makes me believe that the COMPAS algorithm isn't fair. In the end, it's the judge and the police officers who decides on the whether or not an individual is to go to jail."
   ]
  },
  {
   "cell_type": "markdown",
   "id": "905e20a8-78cc-410a-b702-ee68ecfb63ec",
   "metadata": {},
   "source": [
    "# 2. Can you beat COMPAS? (40pt)"
   ]
  },
  {
   "cell_type": "markdown",
   "id": "3f311c5c-ae85-4f80-996a-59533177152a",
   "metadata": {},
   "source": [
    "## 1. (8pt) Before we start: what do you think, what is an appropriate model performance measure here? A, P, R, F or something else? Maybe you want to report multiple measures? Explain!"
   ]
  },
  {
   "cell_type": "markdown",
   "id": "b9952ad4-fbd8-42b2-8d7e-7b37324f3d39",
   "metadata": {},
   "source": [
    "I think that accuracy and the f-score are pretty good measures of performances. The f-score is a good balance of precision and recall, which can be skewed depending on the false negatives and false positives. I think accuracy is also a pretty good overall measure, since we also want to know if the model can correctly identify. However, for cross validation using sklearn, I think RSME is an easy-to-understand score"
   ]
  },
  {
   "cell_type": "markdown",
   "id": "1bdb3da8-dc28-493b-ab9b-88c3d0e5d119",
   "metadata": {},
   "source": [
    "## 2. (6pt) Now it is time to do the modeling. Create a logistic regression model that contains all explanatory variables you have in data into the model. (Some of these you have to convert to dummies). Do not include the variables discussed above, do not include race and gender in this model either to avoid explicit gender/racial bias."
   ]
  },
  {
   "cell_type": "code",
   "execution_count": null,
   "id": "0b422eab-e111-44c6-861d-1c38090cf439",
   "metadata": {},
   "outputs": [],
   "source": []
  },
  {
   "cell_type": "code",
   "execution_count": 16,
   "id": "3f534466-7db8-4fca-ad88-a49663b809ac",
   "metadata": {},
   "outputs": [
    {
     "data": {
      "text/plain": [
       "0.6429046487597887"
      ]
     },
     "execution_count": 16,
     "metadata": {},
     "output_type": "execute_result"
    }
   ],
   "source": [
    "compas[\"prior_cat\"] = pd.cut(compas.priors_count, bins=[-np.inf,6,12,20,27,np.inf], labels=[\"1\", \"2\", \"3\", \"4\", \"5\"])\n",
    "x = compas[[\"c_charge_degree\", \"age_cat\", \"prior_cat\", \"race\", \"sex\"]]\n",
    "x1 = x.drop([\"race\", \"sex\"], axis=1)\n",
    "y = compas[\"two_year_recid\"]\n",
    "x_dummy = pd.get_dummies(x1)\n",
    "\n",
    "from sklearn.model_selection import cross_val_score\n",
    "from sklearn.linear_model import LogisticRegression\n",
    "m = LogisticRegression()\n",
    "cv = cross_val_score(m, x_dummy, y, cv=10, scoring=\"accuracy\")\n",
    "cv.mean()"
   ]
  },
  {
   "cell_type": "markdown",
   "id": "963104a8-0d24-45db-93d7-ecd14a898f8a",
   "metadata": {},
   "source": [
    "## 3. (6pt) Experiment with different models to find the best model according to your preformance indicator. (Include/exclude different variables, you may also do feature engineering, e.g. create different age groups, include variables like age2, age2, interaction effects, etc. But do not include race and gender. Report what did you try (but no need to report the full results of all unsuccessful models you tried), and your best model’s performance. Is it better or worse than for the COMPAS model? Please do not spend too much on tiny differences, e.g. your accuracy is better by 0.001 and F-score worse by 0.0005. Cross-validation is a random process and these figures jump up and down a bit."
   ]
  },
  {
   "cell_type": "code",
   "execution_count": 17,
   "id": "7fd661c2-f517-49f9-af2e-fa09ad92e822",
   "metadata": {},
   "outputs": [
    {
     "data": {
      "text/plain": [
       "0.6207059422091443"
      ]
     },
     "execution_count": 17,
     "metadata": {},
     "output_type": "execute_result"
    }
   ],
   "source": [
    "x_dummy = x1.drop([\"age_cat\"], axis=1)\n",
    "x_dummy = pd.get_dummies(x_dummy)\n",
    "\n",
    "cv = cross_val_score(m, x_dummy, y, cv=10, scoring=\"accuracy\")\n",
    "cv.mean()"
   ]
  },
  {
   "cell_type": "code",
   "execution_count": 18,
   "id": "ee8fa327-6116-4c3e-b4f5-ff93b2061251",
   "metadata": {},
   "outputs": [
    {
     "data": {
      "text/plain": [
       "0.6419324636905792"
      ]
     },
     "execution_count": 18,
     "metadata": {},
     "output_type": "execute_result"
    }
   ],
   "source": [
    "x_dummy = x1.drop([\"c_charge_degree\"], axis=1)\n",
    "x_dummy = pd.get_dummies(x_dummy)\n",
    "\n",
    "cv = cross_val_score(m, x_dummy, y, cv=10, scoring=\"accuracy\")\n",
    "cv.mean()"
   ]
  },
  {
   "cell_type": "code",
   "execution_count": 19,
   "id": "f219341b-6aa4-46a2-a8b2-de9f79735502",
   "metadata": {},
   "outputs": [
    {
     "data": {
      "text/plain": [
       "0.5771249337802186"
      ]
     },
     "execution_count": 19,
     "metadata": {},
     "output_type": "execute_result"
    }
   ],
   "source": [
    "x_dummy = x1.drop([\"prior_cat\"], axis=1)\n",
    "x_dummy = pd.get_dummies(x_dummy)\n",
    "\n",
    "cv = cross_val_score(m, x_dummy, y, cv=10, scoring=\"accuracy\")\n",
    "cv.mean()"
   ]
  },
  {
   "cell_type": "code",
   "execution_count": 20,
   "id": "dd56402d-eda7-4978-aa48-0931917d1bc0",
   "metadata": {},
   "outputs": [
    {
     "name": "stderr",
     "output_type": "stream",
     "text": [
      "/opt/conda/lib/python3.9/site-packages/sklearn/linear_model/_logistic.py:814: ConvergenceWarning: lbfgs failed to converge (status=1):\n",
      "STOP: TOTAL NO. of ITERATIONS REACHED LIMIT.\n",
      "\n",
      "Increase the number of iterations (max_iter) or scale the data as shown in:\n",
      "    https://scikit-learn.org/stable/modules/preprocessing.html\n",
      "Please also refer to the documentation for alternative solver options:\n",
      "    https://scikit-learn.org/stable/modules/linear_model.html#logistic-regression\n",
      "  n_iter_i = _check_optimize_result(\n"
     ]
    },
    {
     "data": {
      "text/plain": [
       "0.6369105128164781"
      ]
     },
     "execution_count": 20,
     "metadata": {},
     "output_type": "execute_result"
    }
   ],
   "source": [
    "compas[\"new_age_cat\"] = pd.cut(compas.age, bins=[18, 30, 40, 50, 60, 70, 80, 90, np.inf], labels=[\"below 20\", \"21-30\", \"31-40\", \"41-50\", \"51-60\", \"61-70\", \"71-80\" \"81-90\", \"91+\"])\n",
    "x1 = compas[[\"c_charge_degree\", \"new_age_cat\", \"prior_cat\"]]\n",
    "y = compas[\"two_year_recid\"]\n",
    "x_dummy = pd.get_dummies(x1)\n",
    "cv = cross_val_score(m, x_dummy, y, cv=10, scoring=\"accuracy\")\n",
    "cv.mean()"
   ]
  },
  {
   "cell_type": "markdown",
   "id": "ac3fd8f2-329c-4ee4-9c50-20bad876fd80",
   "metadata": {},
   "source": [
    "I tried to exclude certain categories from the model, but it only made the RSME worse (bigger). We want a small RSME because that woulsd mean that we have a small error from our model. The best result I got was when I reclassified the age into different categories than before. I made the age categories smaller than the original COMPAS data, and got an RSME score that was slightly lower."
   ]
  },
  {
   "cell_type": "markdown",
   "id": "606974c2-b73a-4fa7-8cf2-631043c99253",
   "metadata": {},
   "source": [
    "## 4. (4pt) Now add sex to the model. Does it help to improve the performance?"
   ]
  },
  {
   "cell_type": "code",
   "execution_count": 21,
   "id": "8c62312c-14bb-4803-84a0-a9d5f8df9c3f",
   "metadata": {},
   "outputs": [
    {
     "name": "stderr",
     "output_type": "stream",
     "text": [
      "/opt/conda/lib/python3.9/site-packages/sklearn/linear_model/_logistic.py:814: ConvergenceWarning: lbfgs failed to converge (status=1):\n",
      "STOP: TOTAL NO. of ITERATIONS REACHED LIMIT.\n",
      "\n",
      "Increase the number of iterations (max_iter) or scale the data as shown in:\n",
      "    https://scikit-learn.org/stable/modules/preprocessing.html\n",
      "Please also refer to the documentation for alternative solver options:\n",
      "    https://scikit-learn.org/stable/modules/linear_model.html#logistic-regression\n",
      "  n_iter_i = _check_optimize_result(\n",
      "/opt/conda/lib/python3.9/site-packages/sklearn/linear_model/_logistic.py:814: ConvergenceWarning: lbfgs failed to converge (status=1):\n",
      "STOP: TOTAL NO. of ITERATIONS REACHED LIMIT.\n",
      "\n",
      "Increase the number of iterations (max_iter) or scale the data as shown in:\n",
      "    https://scikit-learn.org/stable/modules/preprocessing.html\n",
      "Please also refer to the documentation for alternative solver options:\n",
      "    https://scikit-learn.org/stable/modules/linear_model.html#logistic-regression\n",
      "  n_iter_i = _check_optimize_result(\n"
     ]
    },
    {
     "data": {
      "text/plain": [
       "0.6450092576565802"
      ]
     },
     "execution_count": 21,
     "metadata": {},
     "output_type": "execute_result"
    }
   ],
   "source": [
    "x2 = compas[[\"new_age_cat\", \"sex\", \"prior_cat\", \"c_charge_degree\"]]\n",
    "x_dummy = pd.get_dummies(x2)\n",
    "cv = cross_val_score(m, x_dummy, y, cv=10, scoring=\"accuracy\")\n",
    "cv.mean()"
   ]
  },
  {
   "cell_type": "markdown",
   "id": "e57a1282-03d2-4918-9a05-0f5085a1f1b6",
   "metadata": {},
   "source": [
    "It improved the model slightly, but I don't think it's enough to say that is makes a difference."
   ]
  },
  {
   "cell_type": "markdown",
   "id": "fcaa022a-c75d-4dd4-8935-e976aa6d77b2",
   "metadata": {},
   "source": [
    "## 5. (4pt) And finally add race. Does the model improve? Again, let’s not talk about tiny differences here."
   ]
  },
  {
   "cell_type": "code",
   "execution_count": 22,
   "id": "1c4a3c23-9d44-46fc-bbc6-525857d79ce4",
   "metadata": {},
   "outputs": [
    {
     "name": "stderr",
     "output_type": "stream",
     "text": [
      "/opt/conda/lib/python3.9/site-packages/sklearn/linear_model/_logistic.py:814: ConvergenceWarning: lbfgs failed to converge (status=1):\n",
      "STOP: TOTAL NO. of ITERATIONS REACHED LIMIT.\n",
      "\n",
      "Increase the number of iterations (max_iter) or scale the data as shown in:\n",
      "    https://scikit-learn.org/stable/modules/preprocessing.html\n",
      "Please also refer to the documentation for alternative solver options:\n",
      "    https://scikit-learn.org/stable/modules/linear_model.html#logistic-regression\n",
      "  n_iter_i = _check_optimize_result(\n",
      "/opt/conda/lib/python3.9/site-packages/sklearn/linear_model/_logistic.py:814: ConvergenceWarning: lbfgs failed to converge (status=1):\n",
      "STOP: TOTAL NO. of ITERATIONS REACHED LIMIT.\n",
      "\n",
      "Increase the number of iterations (max_iter) or scale the data as shown in:\n",
      "    https://scikit-learn.org/stable/modules/preprocessing.html\n",
      "Please also refer to the documentation for alternative solver options:\n",
      "    https://scikit-learn.org/stable/modules/linear_model.html#logistic-regression\n",
      "  n_iter_i = _check_optimize_result(\n",
      "/opt/conda/lib/python3.9/site-packages/sklearn/linear_model/_logistic.py:814: ConvergenceWarning: lbfgs failed to converge (status=1):\n",
      "STOP: TOTAL NO. of ITERATIONS REACHED LIMIT.\n",
      "\n",
      "Increase the number of iterations (max_iter) or scale the data as shown in:\n",
      "    https://scikit-learn.org/stable/modules/preprocessing.html\n",
      "Please also refer to the documentation for alternative solver options:\n",
      "    https://scikit-learn.org/stable/modules/linear_model.html#logistic-regression\n",
      "  n_iter_i = _check_optimize_result(\n",
      "/opt/conda/lib/python3.9/site-packages/sklearn/linear_model/_logistic.py:814: ConvergenceWarning: lbfgs failed to converge (status=1):\n",
      "STOP: TOTAL NO. of ITERATIONS REACHED LIMIT.\n",
      "\n",
      "Increase the number of iterations (max_iter) or scale the data as shown in:\n",
      "    https://scikit-learn.org/stable/modules/preprocessing.html\n",
      "Please also refer to the documentation for alternative solver options:\n",
      "    https://scikit-learn.org/stable/modules/linear_model.html#logistic-regression\n",
      "  n_iter_i = _check_optimize_result(\n",
      "/opt/conda/lib/python3.9/site-packages/sklearn/linear_model/_logistic.py:814: ConvergenceWarning: lbfgs failed to converge (status=1):\n",
      "STOP: TOTAL NO. of ITERATIONS REACHED LIMIT.\n",
      "\n",
      "Increase the number of iterations (max_iter) or scale the data as shown in:\n",
      "    https://scikit-learn.org/stable/modules/preprocessing.html\n",
      "Please also refer to the documentation for alternative solver options:\n",
      "    https://scikit-learn.org/stable/modules/linear_model.html#logistic-regression\n",
      "  n_iter_i = _check_optimize_result(\n",
      "/opt/conda/lib/python3.9/site-packages/sklearn/linear_model/_logistic.py:814: ConvergenceWarning: lbfgs failed to converge (status=1):\n",
      "STOP: TOTAL NO. of ITERATIONS REACHED LIMIT.\n",
      "\n",
      "Increase the number of iterations (max_iter) or scale the data as shown in:\n",
      "    https://scikit-learn.org/stable/modules/preprocessing.html\n",
      "Please also refer to the documentation for alternative solver options:\n",
      "    https://scikit-learn.org/stable/modules/linear_model.html#logistic-regression\n",
      "  n_iter_i = _check_optimize_result(\n",
      "/opt/conda/lib/python3.9/site-packages/sklearn/linear_model/_logistic.py:814: ConvergenceWarning: lbfgs failed to converge (status=1):\n",
      "STOP: TOTAL NO. of ITERATIONS REACHED LIMIT.\n",
      "\n",
      "Increase the number of iterations (max_iter) or scale the data as shown in:\n",
      "    https://scikit-learn.org/stable/modules/preprocessing.html\n",
      "Please also refer to the documentation for alternative solver options:\n",
      "    https://scikit-learn.org/stable/modules/linear_model.html#logistic-regression\n",
      "  n_iter_i = _check_optimize_result(\n",
      "/opt/conda/lib/python3.9/site-packages/sklearn/linear_model/_logistic.py:814: ConvergenceWarning: lbfgs failed to converge (status=1):\n",
      "STOP: TOTAL NO. of ITERATIONS REACHED LIMIT.\n",
      "\n",
      "Increase the number of iterations (max_iter) or scale the data as shown in:\n",
      "    https://scikit-learn.org/stable/modules/preprocessing.html\n",
      "Please also refer to the documentation for alternative solver options:\n",
      "    https://scikit-learn.org/stable/modules/linear_model.html#logistic-regression\n",
      "  n_iter_i = _check_optimize_result(\n",
      "/opt/conda/lib/python3.9/site-packages/sklearn/linear_model/_logistic.py:814: ConvergenceWarning: lbfgs failed to converge (status=1):\n",
      "STOP: TOTAL NO. of ITERATIONS REACHED LIMIT.\n",
      "\n",
      "Increase the number of iterations (max_iter) or scale the data as shown in:\n",
      "    https://scikit-learn.org/stable/modules/preprocessing.html\n",
      "Please also refer to the documentation for alternative solver options:\n",
      "    https://scikit-learn.org/stable/modules/linear_model.html#logistic-regression\n",
      "  n_iter_i = _check_optimize_result(\n"
     ]
    },
    {
     "data": {
      "text/plain": [
       "0.6411173703010181"
      ]
     },
     "execution_count": 22,
     "metadata": {},
     "output_type": "execute_result"
    }
   ],
   "source": [
    "x3 = compas[[\"new_age_cat\", \"sex\", \"prior_cat\", \"c_charge_degree\", \"race\"]]\n",
    "x_dummy = pd.get_dummies(x3)\n",
    "cv = cross_val_score(m, x_dummy, y, cv=10, scoring=\"accuracy\")\n",
    "cv.mean()"
   ]
  },
  {
   "cell_type": "markdown",
   "id": "a2bbad96-2464-48f5-855d-04d44b94f591",
   "metadata": {},
   "source": [
    "It slightly increased from the previous model, but it's not significant enough to say that there is a difference."
   ]
  },
  {
   "cell_type": "markdown",
   "id": "4ba1be3b-485d-4e5a-a991-8d809ede30b9",
   "metadata": {},
   "source": [
    "## 6. (12pt) Discuss the results. Did you manage to be equally good as COMPAS? Did you create a better model? Do gender and race help to improve your predictions? What should judges do when having access to such models? Should they use such models?"
   ]
  },
  {
   "cell_type": "markdown",
   "id": "50cb1a0a-3b6e-4c7d-ba93-50a06eda264d",
   "metadata": {},
   "source": [
    "Compared with COMPAS my model basically produced the same results. Although my model performed slightly better, it is not significant enough to say that my model is the better model. Gender and race made no difference at all to improve the model. I think if judges were to have access to this COMPAS model, they should not be focusing on race and sex. Personally, I am against judges using these models because the accuracy is still relatively low."
   ]
  },
  {
   "cell_type": "markdown",
   "id": "7c46d3c2-cc53-42bc-baeb-007469e4f25b",
   "metadata": {},
   "source": [
    "# 3. Is your model more fair? (12pt)\n",
    "## 1. (6pt) Replicate 1.7 using your best model: pick the best model from question 2.3, predict recidivism for everyone in data (ie only African-Americans and Caucasians), and compute FPR and FNR."
   ]
  },
  {
   "cell_type": "code",
   "execution_count": 23,
   "id": "4652fea0-02f2-4e95-8e6d-a96d99503272",
   "metadata": {},
   "outputs": [
    {
     "data": {
      "text/html": [
       "<div>\n",
       "<style scoped>\n",
       "    .dataframe tbody tr th:only-of-type {\n",
       "        vertical-align: middle;\n",
       "    }\n",
       "\n",
       "    .dataframe tbody tr th {\n",
       "        vertical-align: top;\n",
       "    }\n",
       "\n",
       "    .dataframe thead th {\n",
       "        text-align: right;\n",
       "    }\n",
       "</style>\n",
       "<table border=\"1\" class=\"dataframe\">\n",
       "  <thead>\n",
       "    <tr style=\"text-align: right;\">\n",
       "      <th></th>\n",
       "      <th>c_charge_degree</th>\n",
       "      <th>sex</th>\n",
       "      <th>two_year_recid</th>\n",
       "      <th>prior_cat</th>\n",
       "      <th>new_age_cat</th>\n",
       "      <th>high_score</th>\n",
       "    </tr>\n",
       "  </thead>\n",
       "  <tbody>\n",
       "    <tr>\n",
       "      <th>1</th>\n",
       "      <td>F</td>\n",
       "      <td>Male</td>\n",
       "      <td>1</td>\n",
       "      <td>1</td>\n",
       "      <td>21-30</td>\n",
       "      <td>0</td>\n",
       "    </tr>\n",
       "    <tr>\n",
       "      <th>2</th>\n",
       "      <td>F</td>\n",
       "      <td>Male</td>\n",
       "      <td>1</td>\n",
       "      <td>1</td>\n",
       "      <td>below 20</td>\n",
       "      <td>0</td>\n",
       "    </tr>\n",
       "    <tr>\n",
       "      <th>4</th>\n",
       "      <td>F</td>\n",
       "      <td>Male</td>\n",
       "      <td>1</td>\n",
       "      <td>3</td>\n",
       "      <td>31-40</td>\n",
       "      <td>1</td>\n",
       "    </tr>\n",
       "    <tr>\n",
       "      <th>6</th>\n",
       "      <td>M</td>\n",
       "      <td>Female</td>\n",
       "      <td>0</td>\n",
       "      <td>1</td>\n",
       "      <td>21-30</td>\n",
       "      <td>0</td>\n",
       "    </tr>\n",
       "    <tr>\n",
       "      <th>7</th>\n",
       "      <td>F</td>\n",
       "      <td>Male</td>\n",
       "      <td>0</td>\n",
       "      <td>1</td>\n",
       "      <td>below 20</td>\n",
       "      <td>0</td>\n",
       "    </tr>\n",
       "    <tr>\n",
       "      <th>...</th>\n",
       "      <td>...</td>\n",
       "      <td>...</td>\n",
       "      <td>...</td>\n",
       "      <td>...</td>\n",
       "      <td>...</td>\n",
       "      <td>...</td>\n",
       "    </tr>\n",
       "    <tr>\n",
       "      <th>6165</th>\n",
       "      <td>M</td>\n",
       "      <td>Male</td>\n",
       "      <td>1</td>\n",
       "      <td>1</td>\n",
       "      <td>below 20</td>\n",
       "      <td>0</td>\n",
       "    </tr>\n",
       "    <tr>\n",
       "      <th>6166</th>\n",
       "      <td>F</td>\n",
       "      <td>Male</td>\n",
       "      <td>0</td>\n",
       "      <td>1</td>\n",
       "      <td>below 20</td>\n",
       "      <td>1</td>\n",
       "    </tr>\n",
       "    <tr>\n",
       "      <th>6167</th>\n",
       "      <td>F</td>\n",
       "      <td>Male</td>\n",
       "      <td>0</td>\n",
       "      <td>1</td>\n",
       "      <td>below 20</td>\n",
       "      <td>1</td>\n",
       "    </tr>\n",
       "    <tr>\n",
       "      <th>6168</th>\n",
       "      <td>F</td>\n",
       "      <td>Male</td>\n",
       "      <td>0</td>\n",
       "      <td>1</td>\n",
       "      <td>below 20</td>\n",
       "      <td>0</td>\n",
       "    </tr>\n",
       "    <tr>\n",
       "      <th>6170</th>\n",
       "      <td>M</td>\n",
       "      <td>Female</td>\n",
       "      <td>0</td>\n",
       "      <td>1</td>\n",
       "      <td>21-30</td>\n",
       "      <td>0</td>\n",
       "    </tr>\n",
       "  </tbody>\n",
       "</table>\n",
       "<p>5278 rows × 6 columns</p>\n",
       "</div>"
      ],
      "text/plain": [
       "     c_charge_degree     sex  two_year_recid prior_cat new_age_cat high_score\n",
       "1                  F    Male               1         1       21-30          0\n",
       "2                  F    Male               1         1    below 20          0\n",
       "4                  F    Male               1         3       31-40          1\n",
       "6                  M  Female               0         1       21-30          0\n",
       "7                  F    Male               0         1    below 20          0\n",
       "...              ...     ...             ...       ...         ...        ...\n",
       "6165               M    Male               1         1    below 20          0\n",
       "6166               F    Male               0         1    below 20          1\n",
       "6167               F    Male               0         1    below 20          1\n",
       "6168               F    Male               0         1    below 20          0\n",
       "6170               M  Female               0         1       21-30          0\n",
       "\n",
       "[5278 rows x 6 columns]"
      ]
     },
     "execution_count": 23,
     "metadata": {},
     "output_type": "execute_result"
    }
   ],
   "source": [
    "compas = compas[(compas.race == 'Caucasian') | (compas.race == 'African-American')]\n",
    "compas[\"high_score\"] = pd.cut(compas.decile_score, bins=[0,4, np.inf], labels=[0, 1])\n",
    "\n",
    "aa = compas[compas.race == \"African-American\"]\n",
    "c = compas[compas.race == \"Caucasian\"]\n",
    "compas[\"high_score\"] = pd.cut(compas.decile_score, bins=[0,4, np.inf], labels=[0, 1])\n",
    "compas = compas.drop([\"age\", \"race\", \"age_cat\", \"decile_score\", \"priors_count\"], axis=1)\n",
    "aa = aa.drop([\"age\", \"race\", \"age_cat\", \"decile_score\", \"priors_count\"], axis=1)\n",
    "c = c.drop([\"age\", \"race\", \"age_cat\", \"decile_score\", \"priors_count\"], axis=1)\n",
    "\n",
    "compas"
   ]
  },
  {
   "cell_type": "code",
   "execution_count": 37,
   "id": "1dbff6af-e30e-4a36-8af6-152344e85818",
   "metadata": {},
   "outputs": [
    {
     "data": {
      "text/plain": [
       "array([[1872,  923],\n",
       "       [ 881, 1602]])"
      ]
     },
     "execution_count": 37,
     "metadata": {},
     "output_type": "execute_result"
    }
   ],
   "source": [
    "cm = confusion_matrix(compas.two_year_recid, compas.high_score)\n",
    "cm"
   ]
  },
  {
   "cell_type": "code",
   "execution_count": 38,
   "id": "675650b2-3bfd-412b-890e-459c46da594e",
   "metadata": {},
   "outputs": [
    {
     "name": "stdout",
     "output_type": "stream",
     "text": [
      "FPR:  0.3302325581395349\n",
      "FNR:  0.35481272654047524\n"
     ]
    }
   ],
   "source": [
    "print(\"FPR: \", (923/(923+1872))) \n",
    "print(\"FNR: \", (881/(881+1602)))"
   ]
  },
  {
   "cell_type": "markdown",
   "id": "35efb418-19d9-4f9c-a5b3-6d45a61f8d5f",
   "metadata": {},
   "source": [
    "### "
   ]
  },
  {
   "cell_type": "code",
   "execution_count": 39,
   "id": "5258f49a-ee45-4408-9670-3156a1d03f26",
   "metadata": {},
   "outputs": [
    {
     "name": "stdout",
     "output_type": "stream",
     "text": [
      "[[ 873  473]\n",
      " [ 641 1188]]\n",
      "FPR:  0.3514115898959881\n",
      "FNR:  0.35046473482777474\n"
     ]
    }
   ],
   "source": [
    "cm = confusion_matrix(aa.high_score, aa.two_year_recid)\n",
    "print(cm)\n",
    "print(\"FPR: \", (473/(473+873))) \n",
    "print(\"FNR: \", (641/(641+1188)))"
   ]
  },
  {
   "cell_type": "code",
   "execution_count": 40,
   "id": "24e4fb0a-82ed-4bfc-8340-524555b4efe1",
   "metadata": {},
   "outputs": [
    {
     "name": "stdout",
     "output_type": "stream",
     "text": [
      "[[999 408]\n",
      " [282 414]]\n",
      "FPR:  0.2899786780383795\n",
      "FNR:  0.4051724137931034\n"
     ]
    }
   ],
   "source": [
    "cm = confusion_matrix(c.high_score, c.two_year_recid)\n",
    "print(cm)\n",
    "print(\"FPR: \", (408/(408+999))) \n",
    "print(\"FNR: \", (282/(282+414)))"
   ]
  },
  {
   "cell_type": "markdown",
   "id": "d2bcd972-94df-4aec-9c9e-d89a03801d95",
   "metadata": {},
   "source": [
    "## 2. (6pt) Explain what do you get. Are your results different from COMPAS in any significant way?"
   ]
  },
  {
   "cell_type": "markdown",
   "id": "e56f669f-d884-4d11-a0b2-3513e3c08e8f",
   "metadata": {},
   "source": [
    "My results were pretty much the same as the ones from COMPAS. Overall, I did 3 different predictions. One where I included races in the dataframe, one where it was only Caucasians, and another where it was only African-Americans. The one that included both races did slightly better than the COMPAS prediction model, but it is too small to be significant. The ones that only had 1 race did the same as their COMPAS counterparts."
   ]
  },
  {
   "cell_type": "markdown",
   "id": "a48e15b4-c816-4f33-800e-d077106ccf4c",
   "metadata": {},
   "source": [
    "# Hours spent: 6"
   ]
  },
  {
   "cell_type": "code",
   "execution_count": null,
   "id": "ad0c7634-8889-4e6f-b59d-fa05b8157f5e",
   "metadata": {},
   "outputs": [],
   "source": []
  }
 ],
 "metadata": {
  "kernelspec": {
   "display_name": "Python 3 (ipykernel)",
   "language": "python",
   "name": "python3"
  },
  "language_info": {
   "codemirror_mode": {
    "name": "ipython",
    "version": 3
   },
   "file_extension": ".py",
   "mimetype": "text/x-python",
   "name": "python",
   "nbconvert_exporter": "python",
   "pygments_lexer": "ipython3",
   "version": "3.9.7"
  }
 },
 "nbformat": 4,
 "nbformat_minor": 5
}
